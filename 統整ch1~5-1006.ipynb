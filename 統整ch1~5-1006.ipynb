{
 "cells": [
  {
   "cell_type": "code",
   "execution_count": null,
   "id": "f8f608df",
   "metadata": {},
   "outputs": [],
   "source": [
    "#猜數字\n",
    "# Ans 30\n",
    "#猜數字 guess:先問0(MIN)-100(Max) 大於 小於 型別不對 =\n",
    "#guess=5 guess!=ans 判斷guess小於Ans，Min變成guess -100MAX以下\n",
    "#如果猜的比guess大於Ans，則把Max改為guess"
   ]
  },
  {
   "cell_type": "code",
   "execution_count": null,
   "id": "90b3724f",
   "metadata": {},
   "outputs": [],
   "source": [
    "#func1判斷型別，否則輸到正確\n",
    "#func2判斷是否為答案"
   ]
  },
  {
   "cell_type": "code",
   "execution_count": null,
   "id": "af2181b3",
   "metadata": {},
   "outputs": [],
   "source": [
    "import random\n",
    "ans=random.randint(0,100)\n",
    "guess=input('input')\n",
    "\n",
    "#func1\n",
    "def input_number():\n",
    "    return val // number\n",
    "\n",
    "_max = 100\n",
    "\n",
    "_min = 0\n",
    "\n",
    "ans = 65\n",
    "\n",
    "guess = input_number()\n",
    "\n",
    "ans === guess # ok\n",
    "\n",
    "# guess 5\n",
    "\n",
    "if guess < ans\n",
    "then _min = guess\n",
    "\n",
    "\n",
    "if guess > ans\n",
    "then _max= guess\n",
    "\n",
    "#_min=5，_max=100\n",
    "\n",
    "guess = input_number()"
   ]
  },
  {
   "cell_type": "code",
   "execution_count": null,
   "id": "6ed1d90f",
   "metadata": {},
   "outputs": [],
   "source": [
    "a = 1\n",
    "a.isnumeric()"
   ]
  },
  {
   "cell_type": "code",
   "execution_count": null,
   "id": "26d02c24",
   "metadata": {},
   "outputs": [],
   "source": [
    "import random\n",
    "_min=0\n",
    "_max=100\n",
    "ans=random.randint(_min, _max)\n",
    "\n",
    "#func1\n",
    "def input_number(__max, __min):\n",
    "    guess=input('input:\\n')\n",
    "    if guess.isnumeric():\n",
    "        if int(guess) > __max or int(guess) < __min:\n",
    "            print(f'輸入數字不可超過{__min} - {__max}')\n",
    "            return input_number(__max, __min)\n",
    "        return int(guess)\n",
    "    else:\n",
    "        print('wrong type')\n",
    "        return input_number(__max, __min)\n",
    "\n",
    "guess  = input_number(_max, _min)\n",
    "\n",
    "while guess != ans:\n",
    "    if guess > ans:\n",
    "        _max = guess\n",
    "    else:\n",
    "        _min = guess\n",
    "    print(f'min: {_min}-max: {_max}')\n",
    "    guess  = input_number(_max, _min)\n",
    "\n",
    "print(f'bingo, ans: {ans}')"
   ]
  },
  {
   "cell_type": "code",
   "execution_count": null,
   "id": "0d82079d",
   "metadata": {},
   "outputs": [],
   "source": [
    "# AB\n",
    "#Ans: 3456\n",
    "#1A2B : 四位數不可重複:亂數sample取四個數字、取片、 字串方式(否則0會被吃掉)\n",
    "#猜1357 判斷3456"
   ]
  },
  {
   "cell_type": "code",
   "execution_count": null,
   "id": "cb0aeb01",
   "metadata": {},
   "outputs": [],
   "source": [
    "import random\n",
    "#generator取出不放回\n",
    "\n",
    "def generator_ans():\n",
    "    data = [x for x in range(0, 10)]\n",
    "    guess=random.sample(data, 4)\n",
    "\n",
    "    #設置新答案\n",
    "    _ans = list(map(str,guess))\n",
    "    _ans = ''.join(ans)\n",
    "    return _ans\n",
    "\n",
    "ans = generator_ans()\n",
    "print(ans)\n",
    "array_ans=[i for i in ans]\n",
    "\n",
    "\n",
    "#輸入介面，四位數字，檢查數字、長度\n",
    "\n",
    "def input_number():\n",
    "    guess=input('input:\\n')\n",
    "    if guess.isnumeric() and len(guess) == 4:\n",
    "        return guess\n",
    "    else:\n",
    "        print('請輸入四位數字')\n",
    "        return input_number()\n",
    "\n",
    "\n",
    "def guess_a(_array_ans, _array_g):\n",
    "    _a=0\n",
    "    _array_a=[]\n",
    "\n",
    "    #判斷A\n",
    "    for index in range(0,4):\n",
    "        if _array_ans[index] == _array_g[index]:\n",
    "            _a+=1\n",
    "            _array_a.append(_array_ans[index])\n",
    "    return _a, _array_a\n",
    "\n",
    "\n",
    "def guess_b(_array_a, _array_g):\n",
    "    _b = 0\n",
    "    for g in _array_g:\n",
    "        if g in array_ans and (g not in _array_a):\n",
    "            _b += 1\n",
    "    return _b"
   ]
  },
  {
   "cell_type": "code",
   "execution_count": null,
   "id": "480d01ee",
   "metadata": {},
   "outputs": [],
   "source": [
    "while True:\n",
    "    guess = input_number()\n",
    "    array_g = [i for i in guess]\n",
    "    a, array_a = guess_a(array_ans, array_g)\n",
    "    b = guess_b(array_a, array_g)\n",
    "    print(f'你猜的數字為{guess}, {a}A {b}B')\n",
    "    \n",
    "    if a == 4:\n",
    "        print(f'bingo, ans: {ans}')\n",
    "        break"
   ]
  },
  {
   "cell_type": "code",
   "execution_count": 26,
   "id": "620ef0ad",
   "metadata": {},
   "outputs": [],
   "source": [
    "boards_default = (21,\n",
    " 4,\n",
    " 5,\n",
    " 17,\n",
    " 2,\n",
    " 3,\n",
    " 25,\n",
    " 9,\n",
    " 10,\n",
    " 15,\n",
    " 22,\n",
    " 7,\n",
    " 11,\n",
    " 19,\n",
    " 12,\n",
    " 24,\n",
    " 16,\n",
    " 23,\n",
    " 20,\n",
    " 1,\n",
    " 6,\n",
    " 13,\n",
    " 8,\n",
    " 14,\n",
    " 18)"
   ]
  },
  {
   "cell_type": "code",
   "execution_count": 22,
   "id": "80da68d1",
   "metadata": {},
   "outputs": [
    {
     "ename": "NameError",
     "evalue": "name 'boards_default' is not defined",
     "output_type": "error",
     "traceback": [
      "\u001b[0;31m---------------------------------------------------------------------------\u001b[0m",
      "\u001b[0;31mNameError\u001b[0m                                 Traceback (most recent call last)",
      "Cell \u001b[0;32mIn[22], line 2\u001b[0m\n\u001b[1;32m      1\u001b[0m \u001b[38;5;66;03m#賓果遊戲\u001b[39;00m\n\u001b[0;32m----> 2\u001b[0m boards \u001b[38;5;241m=\u001b[39m \u001b[38;5;28mlist\u001b[39m(\u001b[43mboards_default\u001b[49m)\n\u001b[1;32m      3\u001b[0m \u001b[38;5;28;01mdef\u001b[39;00m \u001b[38;5;21mgenerate_bingo_board\u001b[39m(num, _boards):\n\u001b[1;32m      4\u001b[0m     index \u001b[38;5;241m=\u001b[39m \u001b[38;5;241m0\u001b[39m\n",
      "\u001b[0;31mNameError\u001b[0m: name 'boards_default' is not defined"
     ]
    }
   ],
   "source": [
    "#賓果遊戲\n",
    "boards = list(boards_default)\n",
    "def generate_bingo_board(num, _boards):\n",
    "    index = 0\n",
    "    for i in _boards:\n",
    "        if _boards[index] == num:\n",
    "            _boards[index] = 'XX'\n",
    "        index += 1\n",
    "    return _boards\n",
    "\n",
    "def print_bingo_board(_boards):\n",
    "    index = 1\n",
    "    end = ''\n",
    "    for i in _boards:\n",
    "        if index % 5 == 0:\n",
    "            end = '\\n'\n",
    "        else:\n",
    "            end = ''\n",
    "        print(f\"{str(i).zfill(2)} \", end=end)\n",
    "        index += 1\n",
    "    print('________________________________')\n",
    "    \n",
    "#用array裝位置\n",
    "def get_bingo_loctions(_boards):\n",
    "    index = 1 \n",
    "    ans = []\n",
    "    for i in _boards:\n",
    "        if i == 'XX':\n",
    "            ans.append(index)\n",
    "        index += 1\n",
    "    print(ans)\n",
    "    \n",
    "    return ans\n",
    "    \n",
    "def get_bingo_count(_guess, _ans):\n",
    "    ans_point = 0\n",
    "    for i in _ans:\n",
    "        if i in _guess:\n",
    "            ans_point += 1\n",
    "\n",
    "    if ans_point == len(_ans):\n",
    "        return 1\n",
    "    return 0\n",
    "\n",
    "a1 =[1,2,3,4,5]\n",
    "a2= [6,7,8,9,10]\n",
    "a3=[11,12,13,14,15]\n",
    "a4=[16,17,18,19,20]\n",
    "a5=[21,22,23,24,25]\n",
    "b1=[1,6,11,16,21]\n",
    "b2=[2,7,12,17,22]\n",
    "b3=[3,8,13,18,23]\n",
    "b4=[4,9,14,19,24]\n",
    "b5=[5,10,15,20,25]\n",
    "c1=[1,7,13,19,25]\n",
    "c2=[5,9,13,17,21]\n",
    "total_ans = [a1,a2,a3,a4,a5,b1,b2,b3,b4,b5,c1,c2]"
   ]
  },
  {
   "cell_type": "code",
   "execution_count": null,
   "id": "5369b9f4",
   "metadata": {},
   "outputs": [],
   "source": [
    "target_bingo_number = 3\n",
    "bingo = 0\n",
    "bypass_ans= []\n",
    "while bingo != target_bingo_number:\n",
    "    choice = input('輸入下一個數字:')\n",
    "    \n",
    "    bingo_choice = generate_bingo_board(int(choice), boards)\n",
    "    print_bingo_board(boards)\n",
    "    my_ans = get_bingo_loctions(boards) \n",
    "    print(my_ans)\n",
    "    for ans in total_ans:\n",
    "        print('before:',bingo,end='')\n",
    "        print(ans)\n",
    "        if ans not in bypass_ans:\n",
    "            bingo_count = get_bingo_count(my_ans, ans)\n",
    "            if bingo_count:\n",
    "                bingo += bingo_count\n",
    "                #將此組賓果從 total_ans 移除\n",
    "                bypass_ans.append(ans)\n",
    "            \n",
    "        print('after: ',bingo)\n",
    "        if bingo == target_bingo_number:\n",
    "            print('bingo!!')\n",
    "            break"
   ]
  },
  {
   "cell_type": "code",
   "execution_count": 27,
   "id": "87ef5f15",
   "metadata": {},
   "outputs": [],
   "source": [
    "#其他範例參考\n",
    "guess = [1,2,3, 7,8]\n",
    "ans = [1,7,8]\n",
    "\n",
    "def guess_point(_guess, _ans):\n",
    "    ans_point = 0\n",
    "    for i in _ans:\n",
    "        if i in _guess:\n",
    "            ans_point += 1\n",
    "\n",
    "    if ans_point == len(_ans):\n",
    "        return 1\n",
    "    return 0\n",
    "            \n",
    "a = guess_point(guess,ans)"
   ]
  },
  {
   "cell_type": "code",
   "execution_count": 28,
   "id": "cc1454ea",
   "metadata": {},
   "outputs": [
    {
     "data": {
      "text/plain": [
       "1"
      ]
     },
     "execution_count": 28,
     "metadata": {},
     "output_type": "execute_result"
    }
   ],
   "source": [
    "a"
   ]
  },
  {
   "cell_type": "code",
   "execution_count": null,
   "id": "281c0970",
   "metadata": {},
   "outputs": [],
   "source": []
  },
  {
   "cell_type": "markdown",
   "id": "8a421068",
   "metadata": {},
   "source": [
    "# 練習1-----------------------------------------------------------"
   ]
  },
  {
   "cell_type": "code",
   "execution_count": null,
   "id": "0232f1fe",
   "metadata": {},
   "outputs": [],
   "source": [
    "#練習往下"
   ]
  },
  {
   "cell_type": "code",
   "execution_count": 78,
   "id": "30e2c8ea",
   "metadata": {},
   "outputs": [
    {
     "name": "stdout",
     "output_type": "stream",
     "text": [
      "8597\n",
      "guess the num: 2345\n",
      "你猜的數字是2345, 0A 1B\n",
      "8597\n",
      "guess the num: 2222\n",
      "數字不可重複\n",
      "guess the num: 1234\n",
      "你猜的數字是1234, 0A 0B\n",
      "8597\n",
      "guess the num: 1234\n",
      "你猜的數字是1234, 0A 0B\n",
      "8597\n",
      "guess the num: 5678\n",
      "你猜的數字是5678, 0A 3B\n",
      "8597\n",
      "guess the num: 0912\n",
      "你猜的數字是0912, 0A 1B\n",
      "8597\n"
     ]
    },
    {
     "ename": "KeyboardInterrupt",
     "evalue": "Interrupted by user",
     "output_type": "error",
     "traceback": [
      "\u001b[0;31m---------------------------------------------------------------------------\u001b[0m",
      "\u001b[0;31mKeyboardInterrupt\u001b[0m                         Traceback (most recent call last)",
      "Cell \u001b[0;32mIn[78], line 56\u001b[0m\n\u001b[1;32m     54\u001b[0m \u001b[38;5;28mprint\u001b[39m(ans)\n\u001b[1;32m     55\u001b[0m array_ans\u001b[38;5;241m=\u001b[39m[i \u001b[38;5;28;01mfor\u001b[39;00m i \u001b[38;5;129;01min\u001b[39;00m ans]\n\u001b[0;32m---> 56\u001b[0m guess \u001b[38;5;241m=\u001b[39m \u001b[43minput_num\u001b[49m\u001b[43m(\u001b[49m\u001b[43m)\u001b[49m\n\u001b[1;32m     57\u001b[0m array_guess \u001b[38;5;241m=\u001b[39m [i \u001b[38;5;28;01mfor\u001b[39;00m i \u001b[38;5;129;01min\u001b[39;00m guess]\n\u001b[1;32m     58\u001b[0m a, array_a \u001b[38;5;241m=\u001b[39m ans_a(array_ans, array_guess)\n",
      "Cell \u001b[0;32mIn[78], line 15\u001b[0m, in \u001b[0;36minput_num\u001b[0;34m()\u001b[0m\n\u001b[1;32m     14\u001b[0m \u001b[38;5;28;01mdef\u001b[39;00m \u001b[38;5;21minput_num\u001b[39m():\n\u001b[0;32m---> 15\u001b[0m     guess \u001b[38;5;241m=\u001b[39m \u001b[38;5;28;43minput\u001b[39;49m\u001b[43m(\u001b[49m\u001b[38;5;124;43m'\u001b[39;49m\u001b[38;5;124;43mguess the num: \u001b[39;49m\u001b[38;5;124;43m'\u001b[39;49m\u001b[43m)\u001b[49m\n\u001b[1;32m     16\u001b[0m     \u001b[38;5;28;01mif\u001b[39;00m guess\u001b[38;5;241m.\u001b[39misnumeric() \u001b[38;5;129;01mand\u001b[39;00m \u001b[38;5;28mlen\u001b[39m(guess) \u001b[38;5;241m==\u001b[39m \u001b[38;5;241m4\u001b[39m:\n\u001b[1;32m     17\u001b[0m         index \u001b[38;5;241m=\u001b[39m \u001b[38;5;241m0\u001b[39m\n",
      "File \u001b[0;32m~/projects/jupyter/lib/python3.10/site-packages/ipykernel/kernelbase.py:1182\u001b[0m, in \u001b[0;36mKernel.raw_input\u001b[0;34m(self, prompt)\u001b[0m\n\u001b[1;32m   1180\u001b[0m     msg \u001b[38;5;241m=\u001b[39m \u001b[38;5;124m\"\u001b[39m\u001b[38;5;124mraw_input was called, but this frontend does not support input requests.\u001b[39m\u001b[38;5;124m\"\u001b[39m\n\u001b[1;32m   1181\u001b[0m     \u001b[38;5;28;01mraise\u001b[39;00m StdinNotImplementedError(msg)\n\u001b[0;32m-> 1182\u001b[0m \u001b[38;5;28;01mreturn\u001b[39;00m \u001b[38;5;28;43mself\u001b[39;49m\u001b[38;5;241;43m.\u001b[39;49m\u001b[43m_input_request\u001b[49m\u001b[43m(\u001b[49m\n\u001b[1;32m   1183\u001b[0m \u001b[43m    \u001b[49m\u001b[38;5;28;43mstr\u001b[39;49m\u001b[43m(\u001b[49m\u001b[43mprompt\u001b[49m\u001b[43m)\u001b[49m\u001b[43m,\u001b[49m\n\u001b[1;32m   1184\u001b[0m \u001b[43m    \u001b[49m\u001b[38;5;28;43mself\u001b[39;49m\u001b[38;5;241;43m.\u001b[39;49m\u001b[43m_parent_ident\u001b[49m\u001b[43m[\u001b[49m\u001b[38;5;124;43m\"\u001b[39;49m\u001b[38;5;124;43mshell\u001b[39;49m\u001b[38;5;124;43m\"\u001b[39;49m\u001b[43m]\u001b[49m\u001b[43m,\u001b[49m\n\u001b[1;32m   1185\u001b[0m \u001b[43m    \u001b[49m\u001b[38;5;28;43mself\u001b[39;49m\u001b[38;5;241;43m.\u001b[39;49m\u001b[43mget_parent\u001b[49m\u001b[43m(\u001b[49m\u001b[38;5;124;43m\"\u001b[39;49m\u001b[38;5;124;43mshell\u001b[39;49m\u001b[38;5;124;43m\"\u001b[39;49m\u001b[43m)\u001b[49m\u001b[43m,\u001b[49m\n\u001b[1;32m   1186\u001b[0m \u001b[43m    \u001b[49m\u001b[43mpassword\u001b[49m\u001b[38;5;241;43m=\u001b[39;49m\u001b[38;5;28;43;01mFalse\u001b[39;49;00m\u001b[43m,\u001b[49m\n\u001b[1;32m   1187\u001b[0m \u001b[43m\u001b[49m\u001b[43m)\u001b[49m\n",
      "File \u001b[0;32m~/projects/jupyter/lib/python3.10/site-packages/ipykernel/kernelbase.py:1225\u001b[0m, in \u001b[0;36mKernel._input_request\u001b[0;34m(self, prompt, ident, parent, password)\u001b[0m\n\u001b[1;32m   1222\u001b[0m \u001b[38;5;28;01mexcept\u001b[39;00m \u001b[38;5;167;01mKeyboardInterrupt\u001b[39;00m:\n\u001b[1;32m   1223\u001b[0m     \u001b[38;5;66;03m# re-raise KeyboardInterrupt, to truncate traceback\u001b[39;00m\n\u001b[1;32m   1224\u001b[0m     msg \u001b[38;5;241m=\u001b[39m \u001b[38;5;124m\"\u001b[39m\u001b[38;5;124mInterrupted by user\u001b[39m\u001b[38;5;124m\"\u001b[39m\n\u001b[0;32m-> 1225\u001b[0m     \u001b[38;5;28;01mraise\u001b[39;00m \u001b[38;5;167;01mKeyboardInterrupt\u001b[39;00m(msg) \u001b[38;5;28;01mfrom\u001b[39;00m \u001b[38;5;28mNone\u001b[39m\n\u001b[1;32m   1226\u001b[0m \u001b[38;5;28;01mexcept\u001b[39;00m \u001b[38;5;167;01mException\u001b[39;00m:\n\u001b[1;32m   1227\u001b[0m     \u001b[38;5;28mself\u001b[39m\u001b[38;5;241m.\u001b[39mlog\u001b[38;5;241m.\u001b[39mwarning(\u001b[38;5;124m\"\u001b[39m\u001b[38;5;124mInvalid Message:\u001b[39m\u001b[38;5;124m\"\u001b[39m, exc_info\u001b[38;5;241m=\u001b[39m\u001b[38;5;28;01mTrue\u001b[39;00m)\n",
      "\u001b[0;31mKeyboardInterrupt\u001b[0m: Interrupted by user"
     ]
    }
   ],
   "source": [
    "# 1A2B\n",
    "import random\n",
    "\n",
    "def generator_ans():\n",
    "    num = [i for i in range(0, 10)]\n",
    "    nums = random.sample(num, 4)\n",
    "\n",
    "    _ans = list(map(str, nums))\n",
    "    _ans = ''.join(ans)\n",
    "    \n",
    "    return _ans\n",
    "\n",
    "\n",
    "def input_num():\n",
    "    guess = input('guess the num: ')\n",
    "    if guess.isnumeric() and len(guess) == 4:\n",
    "        index = 0\n",
    "        for i in guess:\n",
    "            if guess[index] != guess[index+1]:\n",
    "                return guess\n",
    "            else:\n",
    "                print('數字不可重複')\n",
    "                return input_num()\n",
    "            index += 1\n",
    "    else:\n",
    "        return input_num()\n",
    "\n",
    "    \n",
    "def ans_a(_array_ans, _array_guess):\n",
    "    index = 0\n",
    "    _a = 0\n",
    "    _array_a = []\n",
    "    \n",
    "    if _array_ans[index] == _array_guess[index]:\n",
    "        _a += 1\n",
    "        _array_a.append(_array_ans[index])\n",
    "    index += 1\n",
    "    \n",
    "    return _a, _array_a\n",
    "\n",
    "\n",
    "def ans_b(_array_ans, _array_guess, _array_a):\n",
    "    _b = 0\n",
    "    \n",
    "    for i in _array_guess:\n",
    "        if i in _array_ans and (i not in _array_a):\n",
    "            _b += 1\n",
    "    \n",
    "    return _b\n",
    "\n",
    "\n",
    "while True:\n",
    "    ans = generator_ans()\n",
    "    print(ans)\n",
    "    array_ans=[i for i in ans]\n",
    "    guess = input_num()\n",
    "    array_guess = [i for i in guess]\n",
    "    a, array_a = ans_a(array_ans, array_guess)\n",
    "    b = ans_b(array_ans, array_guess, array_a)\n",
    "    print(f'你猜的數字是{guess}, {a}A {b}B')\n",
    "    \n",
    "    if guess == ans:\n",
    "        print('bingo')\n",
    "        break"
   ]
  },
  {
   "cell_type": "markdown",
   "id": "cb6944b2",
   "metadata": {},
   "source": [
    "# 練習2 -------------------------------------------------------------"
   ]
  },
  {
   "cell_type": "code",
   "execution_count": 33,
   "id": "5f85abec",
   "metadata": {},
   "outputs": [
    {
     "name": "stdout",
     "output_type": "stream",
     "text": [
      "Input a list of student heights222 333 444\n",
      "['222', '333', '444']\n",
      "[222, 333, 444]\n"
     ]
    }
   ],
   "source": [
    "student_heights = input('Input a list of student heights').split()\n",
    "print(student_heights)\n",
    "for n in range(0, len(student_heights)):\n",
    "    student_heights[n] = int(student_heights[n])\n",
    "print(student_heights)"
   ]
  },
  {
   "cell_type": "code",
   "execution_count": null,
   "id": "e5099d67",
   "metadata": {},
   "outputs": [],
   "source": []
  },
  {
   "cell_type": "code",
   "execution_count": 56,
   "id": "12d59dbd",
   "metadata": {},
   "outputs": [
    {
     "name": "stdout",
     "output_type": "stream",
     "text": [
      "not prime number\n"
     ]
    }
   ],
   "source": [
    "def prime_checker(number):\n",
    "    is_prime = True\n",
    "    for i in range(2, number):\n",
    "        if number % i == 0:\n",
    "            is_prime = False\n",
    "    if is_prime:\n",
    "        print('prime number')\n",
    "    else:\n",
    "        print('not prime number')\n",
    "\n",
    "prime_checker(100)"
   ]
  },
  {
   "cell_type": "code",
   "execution_count": null,
   "id": "d0eeda04",
   "metadata": {},
   "outputs": [],
   "source": []
  },
  {
   "cell_type": "code",
   "execution_count": 60,
   "id": "21d3b8e4",
   "metadata": {},
   "outputs": [
    {
     "name": "stdout",
     "output_type": "stream",
     "text": [
      "91\n",
      "21\n",
      "32\n",
      "{'H': 'Outstanding'}\n"
     ]
    }
   ],
   "source": [
    "student_scores = {\n",
    "    'H':91,\n",
    "    'C':21,\n",
    "    'D':32\n",
    "}\n",
    "\n",
    "student_grades = {}\n",
    "\n",
    "for student in student_scores:\n",
    "    score = student_scores[student]\n",
    "    print(student_scores[student])\n",
    "    if score > 90:\n",
    "        student_grades[student] = 'Outstanding'\n",
    "        \n",
    "print(student_grades)"
   ]
  },
  {
   "cell_type": "code",
   "execution_count": null,
   "id": "34eb4175",
   "metadata": {},
   "outputs": [],
   "source": []
  },
  {
   "cell_type": "code",
   "execution_count": 47,
   "id": "ab9439fa",
   "metadata": {},
   "outputs": [
    {
     "name": "stdout",
     "output_type": "stream",
     "text": [
      "Do you want to play a game of Blackjack type y or n: y\n",
      "Your cards: [10, 7], current socre: 17\n",
      "Computer first card: 2 \n",
      "==============================================\n",
      "Type y to get another card, type n to pass: n\n",
      "Your final hand: [10, 7], final score: 17\n",
      "Computer final hand: [2, 10, 8], final score: 20\n",
      "==============================================\n",
      "You lose\n"
     ]
    },
    {
     "ename": "KeyboardInterrupt",
     "evalue": "Interrupted by user",
     "output_type": "error",
     "traceback": [
      "\u001b[0;31m---------------------------------------------------------------------------\u001b[0m",
      "\u001b[0;31mKeyboardInterrupt\u001b[0m                         Traceback (most recent call last)",
      "Cell \u001b[0;32mIn[47], line 65\u001b[0m\n\u001b[1;32m     62\u001b[0m     \u001b[38;5;28mprint\u001b[39m(\u001b[38;5;124m'\u001b[39m\u001b[38;5;124m==============================================\u001b[39m\u001b[38;5;124m'\u001b[39m)\n\u001b[1;32m     63\u001b[0m     \u001b[38;5;28mprint\u001b[39m(compare(user_score, computer_score))\n\u001b[0;32m---> 65\u001b[0m \u001b[38;5;28;01mwhile\u001b[39;00m \u001b[38;5;28;43minput\u001b[39;49m\u001b[43m(\u001b[49m\u001b[38;5;124;43m'\u001b[39;49m\u001b[38;5;124;43mDo you want to play a game of Blackjack type y or n: \u001b[39;49m\u001b[38;5;124;43m'\u001b[39;49m\u001b[43m)\u001b[49m \u001b[38;5;241m==\u001b[39m \u001b[38;5;124m'\u001b[39m\u001b[38;5;124my\u001b[39m\u001b[38;5;124m'\u001b[39m:\n\u001b[1;32m     66\u001b[0m     play_game()\n",
      "File \u001b[0;32m~/projects/jupyter/lib/python3.10/site-packages/ipykernel/kernelbase.py:1182\u001b[0m, in \u001b[0;36mKernel.raw_input\u001b[0;34m(self, prompt)\u001b[0m\n\u001b[1;32m   1180\u001b[0m     msg \u001b[38;5;241m=\u001b[39m \u001b[38;5;124m\"\u001b[39m\u001b[38;5;124mraw_input was called, but this frontend does not support input requests.\u001b[39m\u001b[38;5;124m\"\u001b[39m\n\u001b[1;32m   1181\u001b[0m     \u001b[38;5;28;01mraise\u001b[39;00m StdinNotImplementedError(msg)\n\u001b[0;32m-> 1182\u001b[0m \u001b[38;5;28;01mreturn\u001b[39;00m \u001b[38;5;28;43mself\u001b[39;49m\u001b[38;5;241;43m.\u001b[39;49m\u001b[43m_input_request\u001b[49m\u001b[43m(\u001b[49m\n\u001b[1;32m   1183\u001b[0m \u001b[43m    \u001b[49m\u001b[38;5;28;43mstr\u001b[39;49m\u001b[43m(\u001b[49m\u001b[43mprompt\u001b[49m\u001b[43m)\u001b[49m\u001b[43m,\u001b[49m\n\u001b[1;32m   1184\u001b[0m \u001b[43m    \u001b[49m\u001b[38;5;28;43mself\u001b[39;49m\u001b[38;5;241;43m.\u001b[39;49m\u001b[43m_parent_ident\u001b[49m\u001b[43m[\u001b[49m\u001b[38;5;124;43m\"\u001b[39;49m\u001b[38;5;124;43mshell\u001b[39;49m\u001b[38;5;124;43m\"\u001b[39;49m\u001b[43m]\u001b[49m\u001b[43m,\u001b[49m\n\u001b[1;32m   1185\u001b[0m \u001b[43m    \u001b[49m\u001b[38;5;28;43mself\u001b[39;49m\u001b[38;5;241;43m.\u001b[39;49m\u001b[43mget_parent\u001b[49m\u001b[43m(\u001b[49m\u001b[38;5;124;43m\"\u001b[39;49m\u001b[38;5;124;43mshell\u001b[39;49m\u001b[38;5;124;43m\"\u001b[39;49m\u001b[43m)\u001b[49m\u001b[43m,\u001b[49m\n\u001b[1;32m   1186\u001b[0m \u001b[43m    \u001b[49m\u001b[43mpassword\u001b[49m\u001b[38;5;241;43m=\u001b[39;49m\u001b[38;5;28;43;01mFalse\u001b[39;49;00m\u001b[43m,\u001b[49m\n\u001b[1;32m   1187\u001b[0m \u001b[43m\u001b[49m\u001b[43m)\u001b[49m\n",
      "File \u001b[0;32m~/projects/jupyter/lib/python3.10/site-packages/ipykernel/kernelbase.py:1225\u001b[0m, in \u001b[0;36mKernel._input_request\u001b[0;34m(self, prompt, ident, parent, password)\u001b[0m\n\u001b[1;32m   1222\u001b[0m \u001b[38;5;28;01mexcept\u001b[39;00m \u001b[38;5;167;01mKeyboardInterrupt\u001b[39;00m:\n\u001b[1;32m   1223\u001b[0m     \u001b[38;5;66;03m# re-raise KeyboardInterrupt, to truncate traceback\u001b[39;00m\n\u001b[1;32m   1224\u001b[0m     msg \u001b[38;5;241m=\u001b[39m \u001b[38;5;124m\"\u001b[39m\u001b[38;5;124mInterrupted by user\u001b[39m\u001b[38;5;124m\"\u001b[39m\n\u001b[0;32m-> 1225\u001b[0m     \u001b[38;5;28;01mraise\u001b[39;00m \u001b[38;5;167;01mKeyboardInterrupt\u001b[39;00m(msg) \u001b[38;5;28;01mfrom\u001b[39;00m \u001b[38;5;28mNone\u001b[39m\n\u001b[1;32m   1226\u001b[0m \u001b[38;5;28;01mexcept\u001b[39;00m \u001b[38;5;167;01mException\u001b[39;00m:\n\u001b[1;32m   1227\u001b[0m     \u001b[38;5;28mself\u001b[39m\u001b[38;5;241m.\u001b[39mlog\u001b[38;5;241m.\u001b[39mwarning(\u001b[38;5;124m\"\u001b[39m\u001b[38;5;124mInvalid Message:\u001b[39m\u001b[38;5;124m\"\u001b[39m, exc_info\u001b[38;5;241m=\u001b[39m\u001b[38;5;28;01mTrue\u001b[39;00m)\n",
      "\u001b[0;31mKeyboardInterrupt\u001b[0m: Interrupted by user"
     ]
    }
   ],
   "source": [
    "import random\n",
    "\n",
    "def deal_card():\n",
    "    cards = [11, 2, 3, 4, 5, 6, 7, 8, 9, 10, 10, 10, 10]\n",
    "    card = random.choice(cards)\n",
    "    return card\n",
    "\n",
    "def calculate_score(cards):\n",
    "    if sum(cards) == 21 and len(cards) == 2:\n",
    "        return 0\n",
    "    if 11 in cards and sum(cards) > 21:\n",
    "        cards.remove(11)\n",
    "        cards.append(1)\n",
    "    return sum(cards)\n",
    "\n",
    "def compare(user_score, computer_score):\n",
    "    if user_score == computer_score:\n",
    "        return 'Draw'\n",
    "    elif computer_score == 0:\n",
    "        return 'Lose, opponent has Blackjack'\n",
    "    elif user_score == 0:\n",
    "        return 'Win with a Blackjack'\n",
    "    elif user_score > 21:\n",
    "        return 'You went over. You lose'\n",
    "    elif computer_score > 21:\n",
    "        return 'Opponent went over. You win'\n",
    "    elif user_score > computer_score:\n",
    "        return 'You win'\n",
    "    else:\n",
    "        return 'You lose'\n",
    "\n",
    "def play_game():\n",
    "    user_cards = []\n",
    "    computer_cards = []\n",
    "    is_game_over = False\n",
    "\n",
    "    for _ in range(2):\n",
    "        user_cards.append(deal_card())\n",
    "        computer_cards.append(deal_card())\n",
    "\n",
    "    while not is_game_over:     \n",
    "        user_score = calculate_score(user_cards)\n",
    "        computer_score = calculate_score(computer_cards)\n",
    "\n",
    "        print(f'Your cards: {user_cards}, current socre: {user_score}')\n",
    "        print(f'Computer first card: {computer_cards[0]} ')\n",
    "        print('==============================================')\n",
    "\n",
    "        if input('Type y to get another card, type n to pass: ') == 'y':\n",
    "            user_cards.append(deal_card())\n",
    "            print(user_cards)\n",
    "        else:\n",
    "            is_game_over = True\n",
    "    \n",
    "    \n",
    "    while computer_score != 0 and computer_score < 17:\n",
    "        computer_cards.append(deal_card())\n",
    "        computer_score = calculate_score(computer_cards)\n",
    "\n",
    "    print(f'Your final hand: {user_cards}, final score: {user_score}')\n",
    "    print(f'Computer final hand: {computer_cards}, final score: {computer_score}')\n",
    "    print('==============================================')\n",
    "    print(compare(user_score, computer_score))\n",
    "    \n",
    "while input('Do you want to play a game of Blackjack type y or n: ') == 'y':\n",
    "    play_game()"
   ]
  },
  {
   "cell_type": "code",
   "execution_count": null,
   "id": "e4fe31ac",
   "metadata": {},
   "outputs": [],
   "source": []
  },
  {
   "cell_type": "code",
   "execution_count": null,
   "id": "07fc6138",
   "metadata": {},
   "outputs": [
    {
     "name": "stdout",
     "output_type": "stream",
     "text": [
      "Welcome to the Number Guessing Game! \n",
      "I am thinking of a number between 1 and 100\n",
      "Pass, the correct answer is 29\n",
      "Choose a difficulty. Type easy or hard: easy\n",
      "You have 10 attempts remaining to guess the number\n",
      "============================================================\n",
      "Make a guess: 20\n",
      "Too low.\n",
      "Guess again\n",
      "============================================================\n"
     ]
    }
   ],
   "source": [
    "from random import randint\n",
    "\n",
    "EASY_LEVEL_TURNS = 10\n",
    "HARD_LEVEL_TURNS = 5\n",
    "\n",
    "turns = 0 \n",
    "\n",
    "def check_answer(guess, answer, turns):\n",
    "    if guess > answer:\n",
    "        print('Too high.')\n",
    "        return turns-1\n",
    "    elif guess < answer:\n",
    "        print('Too low.')\n",
    "        return turns-1\n",
    "    else:\n",
    "        print(f'You got it! The answer was {answer}')\n",
    "        \n",
    "def set_difficulty():\n",
    "    level = input('Choose a difficulty. Type easy or hard: ')\n",
    "    if level == 'easy':\n",
    "        return EASY_LEVEL_TURNS\n",
    "    else:\n",
    "        return HARD_LEVEL_TURNS\n",
    "        \n",
    "def game():\n",
    "    print('Welcome to the Number Guessing Game! ')\n",
    "    print('I am thinking of a number between 1 and 100')\n",
    "\n",
    "    answer = randint(1, 100)\n",
    "    print(f'Pass, the correct answer is {answer}')\n",
    "\n",
    "    turns = set_difficulty()\n",
    "    print(f'You have {turns} attempts remaining to guess the number')\n",
    "    print('============================================================')\n",
    "\n",
    "    guess = 0\n",
    "    while guess != answer:\n",
    "        guess = int(input('Make a guess: '))\n",
    "        \n",
    "        turns = check_answer(guess, answer, turns)\n",
    "        if turns == 0:\n",
    "            print('You are run out of guess, you lose')\n",
    "            return\n",
    "        elif guess != answer:\n",
    "            print('Guess again')\n",
    "            print('============================================================')\n",
    "\n",
    "game()"
   ]
  },
  {
   "cell_type": "code",
   "execution_count": null,
   "id": "2b036b64",
   "metadata": {},
   "outputs": [],
   "source": []
  },
  {
   "cell_type": "code",
   "execution_count": null,
   "id": "c6688052",
   "metadata": {},
   "outputs": [],
   "source": []
  },
  {
   "cell_type": "code",
   "execution_count": null,
   "id": "eada225a",
   "metadata": {},
   "outputs": [],
   "source": []
  },
  {
   "cell_type": "code",
   "execution_count": null,
   "id": "ec479475",
   "metadata": {},
   "outputs": [],
   "source": []
  },
  {
   "cell_type": "code",
   "execution_count": null,
   "id": "2fd7fa90",
   "metadata": {},
   "outputs": [],
   "source": []
  },
  {
   "cell_type": "code",
   "execution_count": null,
   "id": "021a0039",
   "metadata": {},
   "outputs": [],
   "source": []
  },
  {
   "cell_type": "code",
   "execution_count": null,
   "id": "d3a52a48",
   "metadata": {},
   "outputs": [],
   "source": []
  },
  {
   "cell_type": "code",
   "execution_count": null,
   "id": "7cbe5074",
   "metadata": {},
   "outputs": [],
   "source": []
  }
 ],
 "metadata": {
  "kernelspec": {
   "display_name": "Python 3 (ipykernel)",
   "language": "python",
   "name": "python3"
  },
  "language_info": {
   "codemirror_mode": {
    "name": "ipython",
    "version": 3
   },
   "file_extension": ".py",
   "mimetype": "text/x-python",
   "name": "python",
   "nbconvert_exporter": "python",
   "pygments_lexer": "ipython3",
   "version": "3.10.12"
  }
 },
 "nbformat": 4,
 "nbformat_minor": 5
}
