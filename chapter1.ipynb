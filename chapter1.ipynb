{
 "cells": [
  {
   "cell_type": "markdown",
   "id": "62db173c",
   "metadata": {},
   "source": [
    "# q1"
   ]
  },
  {
   "cell_type": "code",
   "execution_count": 11,
   "id": "9a4c93ee",
   "metadata": {},
   "outputs": [],
   "source": [
    "def get_seconds_by_hours(hour):\n",
    "    #一小時有幾分鐘\n",
    "    #一分鐘有幾秒\n",
    "    seconds = hour*60*60\n",
    "    return seconds\n"
   ]
  },
  {
   "cell_type": "code",
   "execution_count": 12,
   "id": "3f29c94a",
   "metadata": {},
   "outputs": [
    {
     "data": {
      "text/plain": [
       "14400"
      ]
     },
     "execution_count": 12,
     "metadata": {},
     "output_type": "execute_result"
    }
   ],
   "source": [
    "get_seconds(4)"
   ]
  },
  {
   "cell_type": "code",
   "execution_count": 13,
   "id": "13a41c2b",
   "metadata": {},
   "outputs": [
    {
     "data": {
      "text/plain": [
       "14400"
      ]
     },
     "execution_count": 13,
     "metadata": {},
     "output_type": "execute_result"
    }
   ],
   "source": [
    "ans"
   ]
  },
  {
   "cell_type": "code",
   "execution_count": 14,
   "id": "fc4c1876",
   "metadata": {},
   "outputs": [],
   "source": [
    "def get_seconds_by_days(day):\n",
    "    #一天有幾小時\n",
    "    hours = 24*day\n",
    "    #一小時有幾秒\n",
    "    seconds=get_seconds_by_hours(hours)\n",
    "    return seconds"
   ]
  },
  {
   "cell_type": "code",
   "execution_count": 15,
   "id": "73f97987",
   "metadata": {},
   "outputs": [
    {
     "data": {
      "text/plain": [
       "259200"
      ]
     },
     "execution_count": 15,
     "metadata": {},
     "output_type": "execute_result"
    }
   ],
   "source": [
    "get_seconds_by_days(3)"
   ]
  },
  {
   "cell_type": "code",
   "execution_count": 16,
   "id": "f104577f",
   "metadata": {},
   "outputs": [
    {
     "data": {
      "text/plain": [
       "1"
      ]
     },
     "execution_count": 16,
     "metadata": {},
     "output_type": "execute_result"
    }
   ],
   "source": [
    "int(True)"
   ]
  },
  {
   "cell_type": "code",
   "execution_count": 18,
   "id": "60f224ce",
   "metadata": {},
   "outputs": [
    {
     "data": {
      "text/plain": [
       "3600"
      ]
     },
     "execution_count": 18,
     "metadata": {},
     "output_type": "execute_result"
    }
   ],
   "source": [
    "#3-1一小時有幾秒?\n",
    "#一小時有幾分鐘?一分鐘有幾秒?\n",
    "def get_seconds_by_hour(hour):\n",
    "    seconds=60*60*hour\n",
    "    return seconds\n",
    "get_seconds_by_hour(1)"
   ]
  },
  {
   "cell_type": "code",
   "execution_count": 19,
   "id": "d691ac0c",
   "metadata": {},
   "outputs": [
    {
     "data": {
      "text/plain": [
       "3600"
      ]
     },
     "execution_count": 19,
     "metadata": {},
     "output_type": "execute_result"
    }
   ],
   "source": [
    "#3-2 \"一小時\"幾秒變數指派seconds_per_hour\n",
    "seconds_per_hour=60*60\n",
    "seconds_per_hour"
   ]
  },
  {
   "cell_type": "code",
   "execution_count": 25,
   "id": "e3cea7f1",
   "metadata": {},
   "outputs": [
    {
     "data": {
      "text/plain": [
       "86400"
      ]
     },
     "execution_count": 25,
     "metadata": {},
     "output_type": "execute_result"
    }
   ],
   "source": [
    "#3-3一天有幾秒?利用seconds_per_hour\n",
    "#一天有幾小時?...承上一小時有幾分鐘.幾秒?\n",
    "seconds_per_day= seconds_per_hour*24 \n",
    "seconds_per_day"
   ]
  },
  {
   "cell_type": "code",
   "execution_count": 28,
   "id": "324eec48",
   "metadata": {},
   "outputs": [
    {
     "data": {
      "text/plain": [
       "86400"
      ]
     },
     "execution_count": 28,
     "metadata": {},
     "output_type": "execute_result"
    }
   ],
   "source": [
    "#3-4存入seconds_per_day變數\n",
    "seconds_per_day=24*seconds_per_hour\n",
    "seconds_per_day"
   ]
  },
  {
   "cell_type": "code",
   "execution_count": 29,
   "id": "bd278ea5",
   "metadata": {},
   "outputs": [],
   "source": [
    "#3-5perday/perhour\n",
    "a = seconds_per_day/seconds_per_hour"
   ]
  },
  {
   "cell_type": "code",
   "execution_count": 30,
   "id": "254d7de0",
   "metadata": {},
   "outputs": [],
   "source": [
    "#3-6//\n",
    "b = seconds_per_day//seconds_per_hour"
   ]
  },
  {
   "cell_type": "code",
   "execution_count": 31,
   "id": "3f202496",
   "metadata": {},
   "outputs": [
    {
     "data": {
      "text/plain": [
       "True"
      ]
     },
     "execution_count": 31,
     "metadata": {},
     "output_type": "execute_result"
    }
   ],
   "source": [
    "a == b"
   ]
  },
  {
   "cell_type": "code",
   "execution_count": 1,
   "id": "4f5ac61e",
   "metadata": {},
   "outputs": [
    {
     "name": "stdout",
     "output_type": "stream",
     "text": [
      "low\n"
     ]
    }
   ],
   "source": [
    "#4-1secret=1~10 guess/ if else elif\n",
    "#判斷小於時，\n",
    "secret=10\n",
    "guess=2\n",
    "\n",
    "if guess>secret :\n",
    "    print(\"high\")\n",
    "else:\n",
    "    if guess<secret:\n",
    "        print(\"low\")\n",
    "    else:\n",
    "        print(\"right\")"
   ]
  },
  {
   "cell_type": "code",
   "execution_count": 44,
   "id": "363b8f3d",
   "metadata": {},
   "outputs": [
    {
     "name": "stdout",
     "output_type": "stream",
     "text": [
      "watermelon\n"
     ]
    }
   ],
   "source": [
    "#4-2Ture指派變數small False to green。if/else: cherry小不綠、pea小綠、watermelon大綠、pumpkin大不綠\n",
    "small = False\n",
    "green = True\n",
    "\n",
    "if small:\n",
    "    if green:\n",
    "        print(\"pea\")\n",
    "    else:\n",
    "        print(\"cherry\")\n",
    "else:\n",
    "    if green:\n",
    "        print(\"watermelon\")\n",
    "    else:\n",
    "        print(\"pumpkin\")\n"
   ]
  },
  {
   "cell_type": "code",
   "execution_count": 4,
   "id": "b27d209c",
   "metadata": {},
   "outputs": [
    {
     "name": "stdout",
     "output_type": "stream",
     "text": [
      "0\n",
      "1\n",
      "Mmm\n",
      "2\n",
      "3\n",
      "4\n",
      "Mmm\n"
     ]
    }
   ],
   "source": [
    "#5-1將m開頭單字改為首字大寫\n",
    "song = '''When mmm aaa ddd mmm'''\n",
    "# 將字串用空白儲存成陣列List\n",
    "song_list=song.split(' ')\n",
    "# ['When', 'mmm', 'aaa', 'ddd', 'mmm']\n",
    "index=0\n",
    "for word in song_list:\n",
    "    # 取得index\n",
    "    print(index)\n",
    "    # 判斷首字m\n",
    "    if word[0] == 'm':\n",
    "        # 變數取名+ 轉大寫\n",
    "        new_word=word.capitalize()\n",
    "        print(new_word)\n",
    "        # 塞回原陣列[]\n",
    "        song_list[index]=new_word\n",
    "    index+=1\n"
   ]
  },
  {
   "cell_type": "code",
   "execution_count": 8,
   "id": "c9f0a770",
   "metadata": {},
   "outputs": [
    {
     "data": {
      "text/plain": [
       "'When Mmm aaa ddd Mmm'"
      ]
     },
     "execution_count": 8,
     "metadata": {},
     "output_type": "execute_result"
    }
   ],
   "source": [
    "#陣列list加回字串string\n",
    "' '.join(song_list)"
   ]
  },
  {
   "cell_type": "code",
   "execution_count": 28,
   "id": "280af2c1",
   "metadata": {},
   "outputs": [],
   "source": [
    "c = 'abregvtebhrtntynetymnyumyu,myumyumrc'"
   ]
  },
  {
   "cell_type": "code",
   "execution_count": 12,
   "id": "a27114d3",
   "metadata": {},
   "outputs": [
    {
     "data": {
      "text/plain": [
       "'abc'"
      ]
     },
     "execution_count": 12,
     "metadata": {},
     "output_type": "execute_result"
    }
   ],
   "source": [
    "c"
   ]
  },
  {
   "cell_type": "code",
   "execution_count": 15,
   "id": "db227b7b",
   "metadata": {},
   "outputs": [
    {
     "data": {
      "text/plain": [
       "'c'"
      ]
     },
     "execution_count": 15,
     "metadata": {},
     "output_type": "execute_result"
    }
   ],
   "source": [
    "c[2]"
   ]
  },
  {
   "cell_type": "code",
   "execution_count": 22,
   "id": "0ececdf0",
   "metadata": {},
   "outputs": [
    {
     "name": "stdout",
     "output_type": "stream",
     "text": [
      "1 0\n",
      "2 1\n",
      "3 2\n",
      "4 3\n"
     ]
    }
   ],
   "source": [
    "a = [1,2,3,4]\n",
    "index=0\n",
    "for number in a:\n",
    "    print(number, index)\n",
    "    index+=1"
   ]
  },
  {
   "cell_type": "code",
   "execution_count": 22,
   "id": "c2aab413",
   "metadata": {},
   "outputs": [
    {
     "name": "stdout",
     "output_type": "stream",
     "text": [
      "AAA a\n",
      "BBB b\n",
      "CCC c\n",
      "Q:AAA\n",
      "A:a\n",
      "Q:BBB\n",
      "A:b\n",
      "Q:CCC\n",
      "A:c\n"
     ]
    }
   ],
   "source": [
    "#5-2列出每個問題及答案\n",
    "questions=['AAA', 'BBB', 'CCC']\n",
    "answers=['a','b','c']\n",
    "\n",
    "index=0\n",
    "for q_a in questions:\n",
    "    print(q_a, answers[index])\n",
    "    index+=1\n",
    "\n",
    "# 寫法二，多寫幾種寫法。或是判斷是否一樣長，否則告訴user不可往下做\n",
    "for index in range(len(questions)):\n",
    "    print(f'Q:{questions[index]}')\n",
    "    print(f'A:{answers[index]}')    "
   ]
  },
  {
   "cell_type": "code",
   "execution_count": 28,
   "id": "1ead1ed2",
   "metadata": {},
   "outputs": [
    {
     "data": {
      "text/plain": [
       "'\\nMy kitty cat likes roast beef,\\nMy kitty cat likes ham,\\nMy kitty cat likes head,\\nMy kitty cat likes clam\\n'"
      ]
     },
     "execution_count": 28,
     "metadata": {},
     "output_type": "execute_result"
    }
   ],
   "source": [
    "#5-3將roast beef、ham、head、clam帶入字串\n",
    "poem = '''\n",
    "My kitty cat likes %s,\n",
    "My kitty cat likes %s,\n",
    "My kitty cat likes %s,\n",
    "My kitty cat likes %s\n",
    "'''\n",
    "\n",
    "args=('roast beef', 'ham', 'head', 'clam')\n",
    "\n",
    "poem % args"
   ]
  },
  {
   "cell_type": "code",
   "execution_count": 51,
   "id": "d0b5841e",
   "metadata": {},
   "outputs": [
    {
     "name": "stdout",
     "output_type": "stream",
     "text": [
      "Ducky Mcduckface\n",
      "Gourdy Mcgourdface\n",
      "Spitzy Mcspitzface\n"
     ]
    }
   ],
   "source": [
    "#5-6\n",
    "names=['duck', 'gourd', 'spitz']\n",
    "index=0\n",
    "for name in names:\n",
    "    print(f'{names[index].capitalize()}y Mc{names[index]}face')\n",
    "    index+=1"
   ]
  },
  {
   "cell_type": "code",
   "execution_count": 55,
   "id": "140cd300",
   "metadata": {},
   "outputs": [
    {
     "name": "stdout",
     "output_type": "stream",
     "text": [
      "Ducky Mcduckface\n",
      "Gourdy Mcgourdface\n",
      "Spitzy Mcspitzface\n"
     ]
    }
   ],
   "source": [
    "names=['duck', 'gourd', 'spitz']\n",
    "index=0\n",
    "for name in names:\n",
    "    print('{}y Mc{}face'.format(names[index].capitalize(),names[index]))\n",
    "    index+=1"
   ]
  },
  {
   "cell_type": "code",
   "execution_count": 59,
   "id": "3f4cc2de",
   "metadata": {},
   "outputs": [
    {
     "name": "stdout",
     "output_type": "stream",
     "text": [
      "Ducky Mcduckface\n",
      "Gourdy Mcgourdface\n",
      "Spitzy Mcspitzface\n"
     ]
    }
   ],
   "source": [
    "names=['duck', 'gourd', 'spitz']\n",
    "index=0\n",
    "for name in names:\n",
    "    print('%sy Mc%sface' % (names[index].capitalize(), names[index]))\n",
    "    index+=1"
   ]
  },
  {
   "cell_type": "code",
   "execution_count": 60,
   "id": "5a61aced",
   "metadata": {},
   "outputs": [
    {
     "name": "stdout",
     "output_type": "stream",
     "text": [
      "3\n",
      "2\n",
      "1\n",
      "0\n"
     ]
    }
   ],
   "source": [
    "#6-1 for列出陣列的值\n",
    "list=[3,2,1,0]\n",
    "for number in list:\n",
    "    print(number)"
   ]
  },
  {
   "cell_type": "code",
   "execution_count": 2,
   "id": "615c9963",
   "metadata": {},
   "outputs": [
    {
     "name": "stdout",
     "output_type": "stream",
     "text": [
      "low\n",
      "low\n",
      "low\n",
      "low\n",
      "low\n",
      "low\n",
      "right\n",
      "low\n",
      "low\n",
      "low\n",
      "low\n",
      "low\n",
      "low\n",
      "right\n"
     ]
    }
   ],
   "source": [
    "#6-2\n",
    "guess_me = 7\n",
    "number = 1\n",
    "while True:\n",
    "    if number < guess_me:\n",
    "        print('low')\n",
    "    else:\n",
    "        if number > guess_me:\n",
    "            print('oops')\n",
    "            break\n",
    "        else:\n",
    "            print('right')\n",
    "            break\n",
    "    number+=1\n",
    "\n",
    "# 第二種elif\n",
    "guess_me = 7\n",
    "number = 1\n",
    "while True:\n",
    "    if number < guess_me:\n",
    "        print('low')\n",
    "    elif number > guess_me:\n",
    "        print('oops')\n",
    "        break\n",
    "    else:\n",
    "        print('right')\n",
    "        break\n",
    "    number+=1    "
   ]
  },
  {
   "cell_type": "code",
   "execution_count": 1,
   "id": "df609800",
   "metadata": {},
   "outputs": [
    {
     "name": "stdout",
     "output_type": "stream",
     "text": [
      "low\n",
      "low\n",
      "low\n",
      "low\n",
      "low\n",
      "right\n"
     ]
    }
   ],
   "source": [
    "#6-3\n",
    "guess_me = 5\n",
    "for number in range(10):\n",
    "    if number < guess_me:\n",
    "        print('low')\n",
    "    elif number > guess_me:\n",
    "        print('oops')\n",
    "        break\n",
    "    else:\n",
    "        print('right')\n",
    "        break"
   ]
  },
  {
   "cell_type": "code",
   "execution_count": 1,
   "id": "9326ff41",
   "metadata": {},
   "outputs": [
    {
     "name": "stdout",
     "output_type": "stream",
     "text": [
      "cc\n"
     ]
    }
   ],
   "source": [
    "print(\"cc\")"
   ]
  },
  {
   "cell_type": "code",
   "execution_count": 7,
   "id": "24249a26",
   "metadata": {},
   "outputs": [
    {
     "data": {
      "text/plain": [
       "[1996, 1997, 1998, 1999, 2000]"
      ]
     },
     "execution_count": 7,
     "metadata": {},
     "output_type": "execute_result"
    }
   ],
   "source": [
    "#7-1 出生年開始，列印出五年。\n",
    "years_list = [num+1996 for num in range(0, 5)]\n",
    "years_list"
   ]
  },
  {
   "cell_type": "code",
   "execution_count": 8,
   "id": "3e0b55a2",
   "metadata": {},
   "outputs": [
    {
     "data": {
      "text/plain": [
       "1999"
      ]
     },
     "execution_count": 8,
     "metadata": {},
     "output_type": "execute_result"
    }
   ],
   "source": [
    "#7-2 第三年\n",
    "years_list[3]"
   ]
  },
  {
   "cell_type": "code",
   "execution_count": 9,
   "id": "a2228d67",
   "metadata": {},
   "outputs": [
    {
     "data": {
      "text/plain": [
       "2000"
      ]
     },
     "execution_count": 9,
     "metadata": {},
     "output_type": "execute_result"
    }
   ],
   "source": [
    "#7-3 最後一年\n",
    "years_list[-1]"
   ]
  },
  {
   "cell_type": "code",
   "execution_count": 10,
   "id": "66d4fe53",
   "metadata": {},
   "outputs": [
    {
     "data": {
      "text/plain": [
       "['mozze', 'cinde', 'salmon']"
      ]
     },
     "execution_count": 10,
     "metadata": {},
     "output_type": "execute_result"
    }
   ],
   "source": [
    "#7-4\n",
    "things = [\"mozze\", \"cinde\", \"salmon\"]\n",
    "things"
   ]
  },
  {
   "cell_type": "code",
   "execution_count": 18,
   "id": "8582868a",
   "metadata": {},
   "outputs": [
    {
     "data": {
      "text/plain": [
       "['mozze', 'cinde', 'salmon']"
      ]
     },
     "execution_count": 18,
     "metadata": {},
     "output_type": "execute_result"
    }
   ],
   "source": [
    "#7-5 首字改大寫\n",
    "things[1].capitalize()\n",
    "things\n",
    "#指派回去才可以變更串列內容"
   ]
  },
  {
   "cell_type": "code",
   "execution_count": 20,
   "id": "8fc4d979",
   "metadata": {},
   "outputs": [
    {
     "data": {
      "text/plain": [
       "['MOZZE', 'cinde', 'salmon']"
      ]
     },
     "execution_count": 20,
     "metadata": {},
     "output_type": "execute_result"
    }
   ],
   "source": [
    "#7-6 全改成大寫，印出\n",
    "things[0] = things[0].upper()\n",
    "things"
   ]
  },
  {
   "cell_type": "code",
   "execution_count": 23,
   "id": "0dd3f5ae",
   "metadata": {},
   "outputs": [
    {
     "data": {
      "text/plain": [
       "['MOZZE', 'cinde']"
      ]
     },
     "execution_count": 23,
     "metadata": {},
     "output_type": "execute_result"
    }
   ],
   "source": [
    "#7-7 刪除最後一個元素\n",
    "things.remove(\"salmon\")\n",
    "things"
   ]
  },
  {
   "cell_type": "code",
   "execution_count": 34,
   "id": "60ff1e91",
   "metadata": {},
   "outputs": [
    {
     "data": {
      "text/plain": [
       "['Groucho', 'Chico', 'Harpo']"
      ]
     },
     "execution_count": 34,
     "metadata": {},
     "output_type": "execute_result"
    }
   ],
   "source": [
    "#7-8 建立surprise串列\n",
    "surprise=[\"Groucho\", \"Chico\", \"Harpo\"]\n",
    "surprise"
   ]
  },
  {
   "cell_type": "code",
   "execution_count": 42,
   "id": "89d1954e",
   "metadata": {},
   "outputs": [
    {
     "data": {
      "text/plain": [
       "'Harpo'"
      ]
     },
     "execution_count": 42,
     "metadata": {},
     "output_type": "execute_result"
    }
   ],
   "source": [
    "#7-9 串列最後元素改為小寫，將它反過來。再將第一個字母改為大寫\n",
    "surprise[-1] = surprise[-1].lower()\n",
    "surprise[-1] = surprise[-1][::-1].capitalize()\n",
    "surprise[-1]"
   ]
  },
  {
   "cell_type": "code",
   "execution_count": 43,
   "id": "de9c17d1",
   "metadata": {},
   "outputs": [
    {
     "data": {
      "text/plain": [
       "[0, 2, 4, 6, 8]"
      ]
     },
     "execution_count": 43,
     "metadata": {},
     "output_type": "execute_result"
    }
   ],
   "source": [
    "#7-10 生成串列even，讓他擁有range(10)之內偶數\n",
    "even = [num for num in range(10) if num % 2 == 0]\n",
    "even"
   ]
  },
  {
   "cell_type": "code",
   "execution_count": 45,
   "id": "960a3486",
   "metadata": {},
   "outputs": [
    {
     "ename": "NameError",
     "evalue": "name 'start1_caps' is not defined",
     "output_type": "error",
     "traceback": [
      "\u001b[0;31m---------------------------------------------------------------------------\u001b[0m",
      "\u001b[0;31mNameError\u001b[0m                                 Traceback (most recent call last)",
      "Cell \u001b[0;32mIn[45], line 3\u001b[0m\n\u001b[1;32m      1\u001b[0m \u001b[38;5;66;03m#7-11_1 印出start1每一個字串，將它改為首字大寫，並在後面加上驚嘆號與一個空格\u001b[39;00m\n\u001b[1;32m      2\u001b[0m start1 \u001b[38;5;241m=\u001b[39m [\u001b[38;5;124m\"\u001b[39m\u001b[38;5;124mfee\u001b[39m\u001b[38;5;124m\"\u001b[39m, \u001b[38;5;124m\"\u001b[39m\u001b[38;5;124mfie\u001b[39m\u001b[38;5;124m\"\u001b[39m, \u001b[38;5;124m\"\u001b[39m\u001b[38;5;124mfoe\u001b[39m\u001b[38;5;124m\"\u001b[39m]\n\u001b[0;32m----> 3\u001b[0m \u001b[43mstart1_caps\u001b[49m\n",
      "\u001b[0;31mNameError\u001b[0m: name 'start1_caps' is not defined"
     ]
    }
   ],
   "source": [
    "#7-11_1 印出start1每一個字串，將它改為首字大寫，並在後面加上驚嘆號與一個空格\n",
    "start1 = [\"fee\", \"fie\", \"foe\"]\n",
    "start1_caps"
   ]
  },
  {
   "cell_type": "code",
   "execution_count": 2,
   "id": "3926fe7d",
   "metadata": {},
   "outputs": [
    {
     "name": "stdout",
     "output_type": "stream",
     "text": [
      "{'dog': 'chien', 'cat': 'chat', 'walrus': 'morse'}\n"
     ]
    }
   ],
   "source": [
    "#8-1製作英法字典\n",
    "e2f = {'dog':'chien', 'cat':'chat', 'walrus':'morse'}\n",
    "print(e2f)"
   ]
  },
  {
   "cell_type": "code",
   "execution_count": 3,
   "id": "f60c342b",
   "metadata": {},
   "outputs": [
    {
     "data": {
      "text/plain": [
       "'morse'"
      ]
     },
     "execution_count": 3,
     "metadata": {},
     "output_type": "execute_result"
    }
   ],
   "source": [
    "#8-2印出法文單字\n",
    "e2f['walrus']"
   ]
  },
  {
   "cell_type": "code",
   "execution_count": 6,
   "id": "2ffe79a5",
   "metadata": {},
   "outputs": [
    {
     "data": {
      "text/plain": [
       "{'chien': 'dog', 'chat': 'cat', 'morse': 'walrus'}"
      ]
     },
     "execution_count": 6,
     "metadata": {},
     "output_type": "execute_result"
    }
   ],
   "source": [
    "#8-3製作法英字典\n",
    "f2e ={}\n",
    "for eng, fren in e2f.items():\n",
    "    f2e[fren] = eng\n",
    "f2e"
   ]
  },
  {
   "cell_type": "code",
   "execution_count": 5,
   "id": "d3a6c51e",
   "metadata": {},
   "outputs": [
    {
     "data": {
      "text/plain": [
       "'dog'"
      ]
     },
     "execution_count": 5,
     "metadata": {},
     "output_type": "execute_result"
    }
   ],
   "source": [
    "#8-4法文單字的英文\n",
    "f2e['chien']"
   ]
  },
  {
   "cell_type": "code",
   "execution_count": 8,
   "id": "5869e295",
   "metadata": {},
   "outputs": [
    {
     "data": {
      "text/plain": [
       "{'cat', 'dog', 'walrus'}"
      ]
     },
     "execution_count": 8,
     "metadata": {},
     "output_type": "execute_result"
    }
   ],
   "source": [
    "#8-5英文單字集合\n",
    "set(e2f.keys())"
   ]
  },
  {
   "cell_type": "code",
   "execution_count": 17,
   "id": "aca53b8f",
   "metadata": {},
   "outputs": [
    {
     "data": {
      "text/plain": [
       "{'animals': {'cat': ['Henri', 'Grumpy', 'Lucy'], 'octopi': '{}', 'emus': '{}'},\n",
       " 'plants': '{}',\n",
       " 'others': '{}'}"
      ]
     },
     "execution_count": 17,
     "metadata": {},
     "output_type": "execute_result"
    }
   ],
   "source": [
    "#8-6製作多層字典\n",
    "life = {'animals': {\n",
    "            'cat':[\n",
    "                'Henri', 'Grumpy', 'Lucy'\n",
    "                ], \n",
    "                'octopi':'{}', \n",
    "                'emus':'{}'\n",
    "                }, \n",
    "            'plants':'{}', \n",
    "            'others':'{}'\n",
    "            }\n",
    "life"
   ]
  },
  {
   "cell_type": "code",
   "execution_count": 18,
   "id": "881211ac",
   "metadata": {},
   "outputs": [
    {
     "data": {
      "text/plain": [
       "dict_keys(['animals', 'plants', 'others'])"
      ]
     },
     "execution_count": 18,
     "metadata": {},
     "output_type": "execute_result"
    }
   ],
   "source": [
    "#8-7印出最頂層的鍵\n",
    "life.keys()"
   ]
  },
  {
   "cell_type": "code",
   "execution_count": 19,
   "id": "e1ad1724",
   "metadata": {},
   "outputs": [
    {
     "data": {
      "text/plain": [
       "dict_keys(['cat', 'octopi', 'emus'])"
      ]
     },
     "execution_count": 19,
     "metadata": {},
     "output_type": "execute_result"
    }
   ],
   "source": [
    "#8-8印出animals的鍵\n",
    "life['animals'].keys()"
   ]
  },
  {
   "cell_type": "code",
   "execution_count": 21,
   "id": "b3457f02",
   "metadata": {},
   "outputs": [
    {
     "data": {
      "text/plain": [
       "['Henri', 'Grumpy', 'Lucy']"
      ]
     },
     "execution_count": 21,
     "metadata": {},
     "output_type": "execute_result"
    }
   ],
   "source": [
    "#8-9印出[anilmals][cats]的值\n",
    "life['animals']['cat']"
   ]
  },
  {
   "cell_type": "code",
   "execution_count": 22,
   "id": "697c83df",
   "metadata": {},
   "outputs": [
    {
     "data": {
      "text/plain": [
       "{0: 0, 1: 1, 2: 4, 3: 9, 4: 16, 5: 25, 6: 36, 7: 49, 8: 64, 9: 81}"
      ]
     },
     "execution_count": 22,
     "metadata": {},
     "output_type": "execute_result"
    }
   ],
   "source": [
    "#8-10製作字典squares,使用range(10)儲存平方值\n",
    "squares = {}\n",
    "for i in range(10):\n",
    "    squares[i]=i*i\n",
    "squares"
   ]
  },
  {
   "cell_type": "code",
   "execution_count": 24,
   "id": "0ce4e4e0",
   "metadata": {},
   "outputs": [
    {
     "data": {
      "text/plain": [
       "{0: 0, 1: 1, 2: 4, 3: 9, 4: 16, 5: 25, 6: 36, 7: 49, 8: 64, 9: 81}"
      ]
     },
     "execution_count": 24,
     "metadata": {},
     "output_type": "execute_result"
    }
   ],
   "source": [
    "squares = { key:key*key for key in range(10)}\n",
    "squares"
   ]
  },
  {
   "cell_type": "code",
   "execution_count": 27,
   "id": "280d7916",
   "metadata": {},
   "outputs": [
    {
     "data": {
      "text/plain": [
       "{1, 3, 5, 7, 9}"
      ]
     },
     "execution_count": 27,
     "metadata": {},
     "output_type": "execute_result"
    }
   ],
   "source": [
    "#8-11 集合生成range(10)內奇數，做成odd集合\n",
    "odd = set(num for num in range(10) if num % 2 !=0)\n",
    "odd"
   ]
  },
  {
   "cell_type": "code",
   "execution_count": 33,
   "id": "bf1131b2",
   "metadata": {},
   "outputs": [
    {
     "name": "stdout",
     "output_type": "stream",
     "text": [
      "Got 0\n",
      "Got 1\n",
      "Got 2\n",
      "Got 3\n",
      "Got 4\n",
      "Got 5\n",
      "Got 6\n",
      "Got 7\n",
      "Got 8\n",
      "Got 9\n"
     ]
    }
   ],
   "source": [
    "#8-12生成器'Got', 與range(10)內一個數字。使用for迭代\n",
    "for thing in ('Got %s' % num for num in range(10)):\n",
    "    print(thing)"
   ]
  },
  {
   "cell_type": "code",
   "execution_count": 34,
   "id": "78e4ab3b",
   "metadata": {},
   "outputs": [
    {
     "data": {
      "text/plain": [
       "{'optimist': 'full', 'pessimist': 'empty', 'troll': 'how?'}"
      ]
     },
     "execution_count": 34,
     "metadata": {},
     "output_type": "execute_result"
    }
   ],
   "source": [
    "#8-13使用zip()和tuple值鍵來製作字典\n",
    "keys=('optimist', 'pessimist', 'troll')\n",
    "values=('full', 'empty', 'how?')\n",
    "dict(zip(keys, values))"
   ]
  },
  {
   "cell_type": "code",
   "execution_count": 37,
   "id": "799ca2a3",
   "metadata": {},
   "outputs": [
    {
     "data": {
      "text/plain": [
       "{'Creature': 'nun', 'Crewel': 'haunted', 'Sharks': 'exits'}"
      ]
     },
     "execution_count": 37,
     "metadata": {},
     "output_type": "execute_result"
    }
   ],
   "source": [
    "#8-14使用zip()movies字典，配對串列titles,plots\n",
    "titles=['Creature', 'Crewel', 'Sharks']\n",
    "plots=['nun', 'haunted', 'exits']\n",
    "movies = dict(zip(titles, plots))\n",
    "movies"
   ]
  },
  {
   "cell_type": "code",
   "execution_count": 38,
   "id": "03aa787a",
   "metadata": {},
   "outputs": [],
   "source": [
    "def do_nothing():\n",
    "    pass"
   ]
  },
  {
   "cell_type": "code",
   "execution_count": 39,
   "id": "2ac61447",
   "metadata": {},
   "outputs": [
    {
     "data": {
      "text/plain": [
       "'233233'"
      ]
     },
     "execution_count": 39,
     "metadata": {},
     "output_type": "execute_result"
    }
   ],
   "source": [
    "def echo(anything):\n",
    "    return anything + '' + anything\n",
    "echo('233')"
   ]
  },
  {
   "cell_type": "code",
   "execution_count": 40,
   "id": "8ac1168f",
   "metadata": {},
   "outputs": [
    {
     "data": {
      "text/plain": [
       "['Harry', 'Ron', 'Hermione']"
      ]
     },
     "execution_count": 40,
     "metadata": {},
     "output_type": "execute_result"
    }
   ],
   "source": [
    "#9-1 good函式回傳陣列\n",
    "def good():\n",
    "    return ['Harry', 'Ron', 'Hermione']\n",
    "good()"
   ]
  },
  {
   "cell_type": "code",
   "execution_count": 45,
   "id": "2343010f",
   "metadata": {},
   "outputs": [
    {
     "name": "stdout",
     "output_type": "stream",
     "text": [
      "5\n"
     ]
    }
   ],
   "source": [
    "#9-2 定義get_odds()產生函式，回傳range(10)內的奇數，for列印第三個\n",
    "def get_odds():\n",
    "    for num in range(1,10,2):\n",
    "        yield num\n",
    "\n",
    "count = 1\n",
    "for num in get_odds():\n",
    "    if count ==3:\n",
    "        print(num)\n",
    "        break\n",
    "    count+=1"
   ]
  },
  {
   "cell_type": "code",
   "execution_count": 54,
   "id": "0cc129ae",
   "metadata": {},
   "outputs": [
    {
     "name": "stdout",
     "output_type": "stream",
     "text": [
      "start\n",
      "Greet, Earth\n",
      "end\n"
     ]
    }
   ],
   "source": [
    "#test裝飾器，被呼叫時印出start，結束印出end\n",
    "def test(func):\n",
    "    def new_func(*args, **kwargs):\n",
    "        print('start')\n",
    "        result = func(*args, **kwargs)\n",
    "        print('end')\n",
    "        return result\n",
    "    return new_func\n",
    "\n",
    "@test\n",
    "def greeting():\n",
    "    print('Greet, Earth')\n",
    "\n",
    "greeting()"
   ]
  },
  {
   "cell_type": "code",
   "execution_count": 58,
   "id": "d5d46ff5",
   "metadata": {},
   "outputs": [
    {
     "name": "stdout",
     "output_type": "stream",
     "text": [
      "caught an oops\n"
     ]
    }
   ],
   "source": [
    "#9-4例外捕捉\n",
    "try:\n",
    "    raise OopsException\n",
    "except OopsException:\n",
    "    print('caught an oops')"
   ]
  },
  {
   "cell_type": "code",
   "execution_count": 1,
   "id": "c6c3c77e",
   "metadata": {},
   "outputs": [
    {
     "name": "stdout",
     "output_type": "stream",
     "text": [
      "<class '__main__.Thing'>\n",
      "<__main__.Thing object at 0x7f43f4faffd0>\n"
     ]
    }
   ],
   "source": [
    "#10-1製作沒有內容的類別Thing，再印出。再建立example物件，也將其印出。印出的值會一樣嗎?\n",
    "class Thing:\n",
    "    pass\n",
    "print(Thing)\n",
    "\n",
    "example=Thing()\n",
    "print(example)"
   ]
  },
  {
   "cell_type": "code",
   "execution_count": 2,
   "id": "b8310006",
   "metadata": {},
   "outputs": [
    {
     "name": "stdout",
     "output_type": "stream",
     "text": [
      "abc\n"
     ]
    }
   ],
   "source": [
    "#10-2製作Thing2類別，將'abc'值指派給稱為letters類別屬性，並印出letters。\n",
    "class Thing2():\n",
    "    letters='abc'\n",
    "print(Thing2.letters)"
   ]
  },
  {
   "cell_type": "code",
   "execution_count": 4,
   "id": "771ece0e",
   "metadata": {},
   "outputs": [
    {
     "ename": "AttributeError",
     "evalue": "type object 'Thing3' has no attribute 'letters'",
     "output_type": "error",
     "traceback": [
      "\u001b[0;31m---------------------------------------------------------------------------\u001b[0m",
      "\u001b[0;31mAttributeError\u001b[0m                            Traceback (most recent call last)",
      "Cell \u001b[0;32mIn[4], line 5\u001b[0m\n\u001b[1;32m      3\u001b[0m     \u001b[38;5;28;01mdef\u001b[39;00m \u001b[38;5;21m__init__\u001b[39m(\u001b[38;5;28mself\u001b[39m):\n\u001b[1;32m      4\u001b[0m         \u001b[38;5;28mself\u001b[39m\u001b[38;5;241m.\u001b[39mletters\u001b[38;5;241m=\u001b[39m\u001b[38;5;124m'\u001b[39m\u001b[38;5;124mxyz\u001b[39m\u001b[38;5;124m'\u001b[39m\n\u001b[0;32m----> 5\u001b[0m \u001b[38;5;28mprint\u001b[39m(\u001b[43mThing3\u001b[49m\u001b[38;5;241;43m.\u001b[39;49m\u001b[43mletters\u001b[49m)\n",
      "\u001b[0;31mAttributeError\u001b[0m: type object 'Thing3' has no attribute 'letters'"
     ]
    }
   ],
   "source": [
    "#10-3Thing3將xyz指判給letters屬性。印出letters。需要這個類別製作物件嗎?\n",
    "class Thing3():\n",
    "    def __init__(self):\n",
    "        self.letters='xyz'\n",
    "print(Thing3.letters)"
   ]
  },
  {
   "cell_type": "code",
   "execution_count": 6,
   "id": "a5cfdca3",
   "metadata": {},
   "outputs": [],
   "source": [
    "#10-4製作Element類別，加入屬性name、symbol、number。用值Hydrogen、H、1建立類別物件。\n",
    "class Element:\n",
    "    def __init__(self, name, symbol, number):\n",
    "        self.name=name\n",
    "        self.symbol=symbol\n",
    "        self.number=number\n",
    "hydrogen=Element('Hydrogen','H',1)"
   ]
  },
  {
   "cell_type": "code",
   "execution_count": 11,
   "id": "127dfd9b",
   "metadata": {},
   "outputs": [
    {
     "data": {
      "text/plain": [
       "'H'"
      ]
     },
     "execution_count": 11,
     "metadata": {},
     "output_type": "execute_result"
    }
   ],
   "source": [
    "#10-5製作字典，再製作物件\n",
    "e1_dict={'name':'Hydrogen', 'symbol':'H', 'number':1}\n",
    "\n",
    "hydrogen=Element(e1_dict['name'], e1_dict['symbol'], e1_dict['number'])\n",
    "\n",
    "hydrogen=Element(**e1_dict)\n",
    "hydrogen.name\n",
    "hydrogen.symbol"
   ]
  },
  {
   "cell_type": "code",
   "execution_count": 12,
   "id": "7de8348e",
   "metadata": {},
   "outputs": [
    {
     "name": "stdout",
     "output_type": "stream",
     "text": [
      "name=Hydrogen, symbol=H, number=1\n"
     ]
    }
   ],
   "source": [
    "#10-6Element類別定義dump()方法，印出物件的值。新定義hydrogen物件，並使用dump()印出屬性。\n",
    "class Element:\n",
    "    def __init__(self, name, symbol, number):\n",
    "        self.name=name\n",
    "        self.symbol=symbol\n",
    "        self.number=number\n",
    "    def dump(self):\n",
    "        print('name=%s, symbol=%s, number=%s' % (self.name, self.symbol, self.number))\n",
    "\n",
    "hydrogen=Element(**e1_dict)\n",
    "hydrogen.dump()"
   ]
  },
  {
   "cell_type": "code",
   "execution_count": 14,
   "id": "1e127d5e",
   "metadata": {},
   "outputs": [
    {
     "name": "stdout",
     "output_type": "stream",
     "text": [
      "<__main__.Element object at 0x7f43f4b8b790>\n",
      "name=Hydrogen, symbol=H, number=1\n"
     ]
    }
   ],
   "source": [
    "#10-7呼叫print(hydrogen)。方法dump改為__str__，建立新hydrogen物件，並再次呼叫print(hydrogen)\n",
    "print(hydrogen)\n",
    "\n",
    "class Element:\n",
    "    def __init__(self, name, symbol, number):\n",
    "        self.name=name\n",
    "        self.symbol=symbol\n",
    "        self.number=number\n",
    "        \n",
    "    def __str__(self):\n",
    "        return('name=%s, symbol=%s, number=%s' % (self.name, self.symbol, self.number))\n",
    "\n",
    "hydrogen=Element(**e1_dict)\n",
    "print(hydrogen)"
   ]
  },
  {
   "cell_type": "code",
   "execution_count": 18,
   "id": "2a56b9b3",
   "metadata": {},
   "outputs": [
    {
     "data": {
      "text/plain": [
       "'Hydrogen'"
      ]
     },
     "execution_count": 18,
     "metadata": {},
     "output_type": "execute_result"
    }
   ],
   "source": [
    "#10-8修改Element，讓其變成私用。每一屬性定義getter property，並傳回值。\n",
    "class Element:\n",
    "    def __init__(self, name, symbol, number):\n",
    "        self.__name=name\n",
    "        self.__symbol=symbol\n",
    "        self.__number=number\n",
    "    @property\n",
    "    def name(self):\n",
    "        return self.__name\n",
    "    @property\n",
    "    def symbol(self):\n",
    "        return self.__symbol\n",
    "    @property\n",
    "    def number(self):\n",
    "        return self.__number\n",
    "    \n",
    "hydrogen=Element('Hydrogen', 'H', 1)\n",
    "hydrogen.name"
   ]
  },
  {
   "cell_type": "code",
   "execution_count": 21,
   "id": "b6d782f9",
   "metadata": {},
   "outputs": [
    {
     "name": "stdout",
     "output_type": "stream",
     "text": [
      "berries\n",
      "clover\n",
      "campers\n"
     ]
    }
   ],
   "source": [
    "#10-9定義三個類別:Bear、Rabbit、Octothrope。方法eat，回傳與印出吃了什麼\n",
    "class Bear:\n",
    "    def eat(self):\n",
    "        return 'berries'\n",
    "\n",
    "class Rabbit:\n",
    "    def eat(self):\n",
    "        return 'clover'\n",
    "    \n",
    "class Octothrope:\n",
    "    def eat(self):\n",
    "        return 'campers'\n",
    "    \n",
    "b=Bear()\n",
    "r=Rabbit()\n",
    "o=Octothrope()\n",
    "print(b.eat())\n",
    "print(r.eat())\n",
    "print(o.eat())"
   ]
  },
  {
   "cell_type": "code",
   "execution_count": 23,
   "id": "0ef8d8c4",
   "metadata": {},
   "outputs": [
    {
     "name": "stdout",
     "output_type": "stream",
     "text": [
      "I have many attachments:\n",
      "        My laser to disintegrate.\n",
      "        My claw to crush.\n",
      "        My smartphone to ring.\n"
     ]
    }
   ],
   "source": [
    "#10-10定義類別，使只有一個方法does。讓方法回傳。再定義rabbit，類別實例物件。does方法印出。\n",
    "class Laser:\n",
    "    def does(self):\n",
    "        return 'disintegrate'\n",
    "\n",
    "class Claw:\n",
    "    def does(self):\n",
    "        return 'crush'\n",
    "    \n",
    "class SmartPhone:\n",
    "    def does(self):\n",
    "        return 'ring'\n",
    "    \n",
    "class Robot:\n",
    "    def __init__(self):\n",
    "        self.laser=Laser()\n",
    "        self.claw=Claw()\n",
    "        self.smartphone=SmartPhone()\n",
    "    def does(self):\n",
    "        return '''I have many attachments:\n",
    "        My laser to %s.\n",
    "        My claw to %s.\n",
    "        My smartphone to %s.''' % (\n",
    "            self.laser.does(),\n",
    "            self.claw.does(),\n",
    "            self.smartphone.does() )\n",
    "robbie=Robot()\n",
    "print(robbie.does())"
   ]
  },
  {
   "cell_type": "code",
   "execution_count": 24,
   "id": "94b3e3c3",
   "metadata": {},
   "outputs": [
    {
     "ename": "ModuleNotFoundError",
     "evalue": "No module named 'zoo'",
     "output_type": "error",
     "traceback": [
      "\u001b[0;31m---------------------------------------------------------------------------\u001b[0m",
      "\u001b[0;31mModuleNotFoundError\u001b[0m                       Traceback (most recent call last)",
      "Cell \u001b[0;32mIn[24], line 5\u001b[0m\n\u001b[1;32m      2\u001b[0m \u001b[38;5;28;01mdef\u001b[39;00m \u001b[38;5;21mhours\u001b[39m():\n\u001b[1;32m      3\u001b[0m     \u001b[38;5;28mprint\u001b[39m(\u001b[38;5;124m'\u001b[39m\u001b[38;5;124mOpen 9-5 daily\u001b[39m\u001b[38;5;124m'\u001b[39m)\n\u001b[0;32m----> 5\u001b[0m \u001b[38;5;28;01mimport\u001b[39;00m \u001b[38;5;21;01mzoo\u001b[39;00m\n\u001b[1;32m      6\u001b[0m zoo\u001b[38;5;241m.\u001b[39mhours()\n",
      "\u001b[0;31mModuleNotFoundError\u001b[0m: No module named 'zoo'"
     ]
    }
   ],
   "source": [
    "#11-1建立檔案zoo，定義hours函式，列印字串open 9-5 daily，匯入zoo模組。並呼叫函式。\n",
    "def hours():\n",
    "    print('Open 9-5 daily')\n",
    "\n",
    "import zoo\n",
    "zoo.hours()"
   ]
  },
  {
   "cell_type": "code",
   "execution_count": null,
   "id": "46f5930b",
   "metadata": {},
   "outputs": [],
   "source": [
    "#11-2zoo模組匯入為menagerie，並呼叫函式\n",
    "import zoo as menagerie\n",
    "menagerie.hours()"
   ]
  },
  {
   "cell_type": "code",
   "execution_count": null,
   "id": "0aa2efd4",
   "metadata": {},
   "outputs": [],
   "source": [
    "#11-3直接匯入並呼叫\n",
    "from zoo import hours\n",
    "hours()"
   ]
  },
  {
   "cell_type": "code",
   "execution_count": null,
   "id": "52936ef8",
   "metadata": {},
   "outputs": [],
   "source": [
    "#11-4hours()匯入為info並呼叫\n",
    "from zoo import hours as info\n",
    "info()"
   ]
  },
  {
   "cell_type": "code",
   "execution_count": 26,
   "id": "85c60a1d",
   "metadata": {},
   "outputs": [
    {
     "data": {
      "text/plain": [
       "OrderedDict([('a', 1), ('b', 2), ('c', 3)])"
      ]
     },
     "execution_count": 26,
     "metadata": {},
     "output_type": "execute_result"
    }
   ],
   "source": [
    "#11-6製作字典印出，順序一樣嗎?\n",
    "from collections import OrderedDict\n",
    "fancy=OrderedDict([('a',1), ('b',2), ('c',3)])\n",
    "fancy"
   ]
  },
  {
   "cell_type": "code",
   "execution_count": 29,
   "id": "62472276",
   "metadata": {},
   "outputs": [
    {
     "data": {
      "text/plain": [
       "['something for a']"
      ]
     },
     "execution_count": 29,
     "metadata": {},
     "output_type": "execute_result"
    }
   ],
   "source": [
    "#11-7製作defaultdict，並將list引述傳給他。賦予的值串列dict_of_list[a]附加，並印出。\n",
    "from collections import defaultdict\n",
    "dict_of_list = defaultdict(list)\n",
    "dict_of_list['a'].append('something for a')\n",
    "dict_of_list['a']"
   ]
  },
  {
   "cell_type": "code",
   "execution_count": 30,
   "id": "beaf3bbe",
   "metadata": {},
   "outputs": [
    {
     "data": {
      "text/plain": [
       "'💩'"
      ]
     },
     "execution_count": 30,
     "metadata": {},
     "output_type": "execute_result"
    }
   ],
   "source": [
    "#12-1mystery字串，設值印出。\n",
    "import unicodedata\n",
    "mystery='\\U0001f4a9'\n",
    "mystery"
   ]
  },
  {
   "cell_type": "code",
   "execution_count": 31,
   "id": "d4031ee5",
   "metadata": {},
   "outputs": [
    {
     "data": {
      "text/plain": [
       "b'\\xf0\\x9f\\x92\\xa9'"
      ]
     },
     "execution_count": 31,
     "metadata": {},
     "output_type": "execute_result"
    }
   ],
   "source": [
    "#12-2 UTF-8將mystery編碼成bytes變數pop_bytes，印出\n",
    "pop_bytes=mystery.encode('utf-8')\n",
    "pop_bytes"
   ]
  },
  {
   "cell_type": "code",
   "execution_count": 33,
   "id": "a2d0bf8e",
   "metadata": {},
   "outputs": [
    {
     "data": {
      "text/plain": [
       "True"
      ]
     },
     "execution_count": 33,
     "metadata": {},
     "output_type": "execute_result"
    }
   ],
   "source": [
    "#12-3使用UTF-8解碼pop_string。再印出。\n",
    "pop_string=pop_bytes.decode('utf-8')\n",
    "pop_string\n",
    "pop_string==mystery"
   ]
  },
  {
   "cell_type": "code",
   "execution_count": 43,
   "id": "e2b1082a",
   "metadata": {},
   "outputs": [],
   "source": [
    "#12-4mammoth\n",
    "mammoth='''\n",
    "I will always remember\n",
    "The day you kissed my lips\n",
    "Light as a feather\n",
    "And it went just like this\n",
    "No, it's never been better\n",
    "Than the summer of 2002\n",
    "We were only eleven\n",
    "But acting like grownups\n",
    "Like we are in the present\n",
    "Drinking from plastic cups\n",
    "Singing love is forever and ever\n",
    "Well, I guess that was true\n",
    "\n",
    "Dancing on the hood in the middle of the woods\n",
    "Of an old Mustang, where we sang\n",
    "Songs with all our childhoods friends\n",
    "And it went like this, yeah aaa\n",
    "'''"
   ]
  },
  {
   "cell_type": "code",
   "execution_count": 35,
   "id": "edebc690",
   "metadata": {},
   "outputs": [
    {
     "data": {
      "text/plain": [
       "['cups', 'childhoods']"
      ]
     },
     "execution_count": 35,
     "metadata": {},
     "output_type": "execute_result"
    }
   ],
   "source": [
    "#12-5匯入re模組。使用re.findall()印出c開頭單字。\n",
    "import re\n",
    "pat=r'\\bc\\w*'\n",
    "re.findall(pat, mammoth)"
   ]
  },
  {
   "cell_type": "code",
   "execution_count": 36,
   "id": "382ba9cd",
   "metadata": {},
   "outputs": [
    {
     "data": {
      "text/plain": [
       "['cups']"
      ]
     },
     "execution_count": 36,
     "metadata": {},
     "output_type": "execute_result"
    }
   ],
   "source": [
    "#12-6四字母C開頭單字\n",
    "pat=r'\\bc\\w{3}\\b'\n",
    "re.findall(pat, mammoth)"
   ]
  },
  {
   "cell_type": "code",
   "execution_count": 39,
   "id": "8fcae20f",
   "metadata": {},
   "outputs": [
    {
     "data": {
      "text/plain": [
       "['will', 'Well', 'all']"
      ]
     },
     "execution_count": 39,
     "metadata": {},
     "output_type": "execute_result"
    }
   ],
   "source": [
    "#12-7r結束的單字\n",
    "pat=r'\\b\\w*r\\b'\n",
    "re.findall(pat, mammoth)\n",
    "\n",
    "#l結尾\n",
    "pat=r\"\\b[\\w']*l\\b\"\n",
    "re.findall(pat, mammoth)"
   ]
  },
  {
   "cell_type": "code",
   "execution_count": 44,
   "id": "99189bb7",
   "metadata": {},
   "outputs": [
    {
     "data": {
      "text/plain": [
       "['aaa']"
      ]
     },
     "execution_count": 44,
     "metadata": {},
     "output_type": "execute_result"
    }
   ],
   "source": [
    "#12-8連續三個母音\n",
    "pat=r'\\b\\w*[aeiou]{3}[^aeiou\\s]*\\w*\\b'\n",
    "re.findall(pat, mammoth)"
   ]
  },
  {
   "cell_type": "code",
   "execution_count": 45,
   "id": "488cae1c",
   "metadata": {},
   "outputs": [
    {
     "data": {
      "text/plain": [
       "42"
      ]
     },
     "execution_count": 45,
     "metadata": {},
     "output_type": "execute_result"
    }
   ],
   "source": [
    "#12-9使用unhexlify轉換gif\n",
    "import binascii\n",
    "hex_str='47494638396101000100800000000000ffffff21f9' + \\\n",
    "    '0401000000002c000000000100010000020144003b'\n",
    "gif=binascii.unhexlify(hex_str)\n",
    "len(gif)"
   ]
  },
  {
   "cell_type": "code",
   "execution_count": 46,
   "id": "45e33b14",
   "metadata": {},
   "outputs": [
    {
     "data": {
      "text/plain": [
       "True"
      ]
     },
     "execution_count": 46,
     "metadata": {},
     "output_type": "execute_result"
    }
   ],
   "source": [
    "#12-10\n",
    "gif[:6] == b'GIF89a'"
   ]
  },
  {
   "cell_type": "code",
   "execution_count": 47,
   "id": "b36c415d",
   "metadata": {},
   "outputs": [
    {
     "data": {
      "text/plain": [
       "(1, 1)"
      ]
     },
     "execution_count": 47,
     "metadata": {},
     "output_type": "execute_result"
    }
   ],
   "source": [
    "#12-11 byte offset從6開始。\n",
    "import struct\n",
    "width, height = struct.unpack('<HH', gif[6:10])\n",
    "width, height"
   ]
  },
  {
   "cell_type": "code",
   "execution_count": 53,
   "id": "13713136",
   "metadata": {},
   "outputs": [],
   "source": [
    "#13-1字串寫入目前日期\n",
    "from datetime import date\n",
    "now=date.today()\n",
    "now_str=now.isoformat()\n",
    "with open('today.txt','wt') as output:\n",
    "    print(now_str, file=output)"
   ]
  },
  {
   "cell_type": "code",
   "execution_count": 54,
   "id": "e8a7c3cf",
   "metadata": {},
   "outputs": [
    {
     "data": {
      "text/plain": [
       "'2023-08-01\\n'"
      ]
     },
     "execution_count": 54,
     "metadata": {},
     "output_type": "execute_result"
    }
   ],
   "source": [
    "#13-2讀入字串\n",
    "with open('today.txt','rt') as input:\n",
    "    today_string=input.read()\n",
    "today_string"
   ]
  },
  {
   "cell_type": "code",
   "execution_count": 69,
   "id": "c9908e29",
   "metadata": {},
   "outputs": [
    {
     "data": {
      "text/plain": [
       "time.struct_time(tm_year=2023, tm_mon=8, tm_mday=1, tm_hour=0, tm_min=0, tm_sec=0, tm_wday=1, tm_yday=213, tm_isdst=-1)"
      ]
     },
     "execution_count": 69,
     "metadata": {},
     "output_type": "execute_result"
    }
   ],
   "source": [
    "#13-3解析today_string日期\n",
    "import time\n",
    "fmt='%Y-%m-%d\\n'\n",
    "time.strptime(today_string, fmt)"
   ]
  },
  {
   "cell_type": "code",
   "execution_count": 60,
   "id": "bdccbe26",
   "metadata": {},
   "outputs": [
    {
     "data": {
      "text/plain": [
       "datetime.date(1999, 8, 14)"
      ]
     },
     "execution_count": 60,
     "metadata": {},
     "output_type": "execute_result"
    }
   ],
   "source": [
    "#建立生日物件\n",
    "my_day=date(1999,8,14)\n",
    "my_day"
   ]
  },
  {
   "cell_type": "code",
   "execution_count": 70,
   "id": "3ea2e51e",
   "metadata": {},
   "outputs": [
    {
     "data": {
      "text/plain": [
       "5"
      ]
     },
     "execution_count": 70,
     "metadata": {},
     "output_type": "execute_result"
    }
   ],
   "source": [
    "my_day.weekday()"
   ]
  },
  {
   "cell_type": "code",
   "execution_count": 72,
   "id": "e83ef856",
   "metadata": {},
   "outputs": [
    {
     "data": {
      "text/plain": [
       "6"
      ]
     },
     "execution_count": 72,
     "metadata": {},
     "output_type": "execute_result"
    }
   ],
   "source": [
    "my_day.isoweekday()"
   ]
  },
  {
   "cell_type": "code",
   "execution_count": 74,
   "id": "012eed65",
   "metadata": {},
   "outputs": [
    {
     "data": {
      "text/plain": [
       "datetime.date(2026, 12, 30)"
      ]
     },
     "execution_count": 74,
     "metadata": {},
     "output_type": "execute_result"
    }
   ],
   "source": [
    "#13-6第10000天\n",
    "from datetime import timedelta\n",
    "part_day=my_day+timedelta(days=10000)\n",
    "part_day"
   ]
  },
  {
   "cell_type": "code",
   "execution_count": 75,
   "id": "6204c7ca",
   "metadata": {},
   "outputs": [
    {
     "data": {
      "text/plain": [
       "['.ipynb_checkpoints',\n",
       " 'chapter 1.ipynb',\n",
       " 'today.txt',\n",
       " 'unslash_data.json',\n",
       " 'aaa.txt']"
      ]
     },
     "execution_count": 75,
     "metadata": {},
     "output_type": "execute_result"
    }
   ],
   "source": [
    "#14-1目前目錄的檔案\n",
    "import os\n",
    "os.listdir('.')"
   ]
  },
  {
   "cell_type": "code",
   "execution_count": 76,
   "id": "e721e0c7",
   "metadata": {},
   "outputs": [
    {
     "data": {
      "text/plain": [
       "['lib', 'include', 'lib64', 'app', 'bin', 'etc', 'pyvenv.cfg', 'share']"
      ]
     },
     "execution_count": 76,
     "metadata": {},
     "output_type": "execute_result"
    }
   ],
   "source": [
    "#14-2上一層目錄的檔案\n",
    "import os\n",
    "os.listdir('..')"
   ]
  },
  {
   "cell_type": "code",
   "execution_count": 78,
   "id": "279a9fad",
   "metadata": {},
   "outputs": [],
   "source": [
    "#14-3將字串寫入\n",
    "test1='its a book'\n",
    "len(test1)\n",
    "\n",
    "with open('aaa.txt', 'wt') as outfile:\n",
    "    outfile.write(test1)"
   ]
  },
  {
   "cell_type": "code",
   "execution_count": 80,
   "id": "0ead1ddd",
   "metadata": {},
   "outputs": [
    {
     "data": {
      "text/plain": [
       "'its a book'"
      ]
     },
     "execution_count": 80,
     "metadata": {},
     "output_type": "execute_result"
    }
   ],
   "source": [
    "#14-4打開檔案 讀入\n",
    "with open('aaa.txt', 'rt') as infile:\n",
    "    test2=infile.read()\n",
    "test2"
   ]
  },
  {
   "cell_type": "code",
   "execution_count": 117,
   "id": "3d9de900",
   "metadata": {},
   "outputs": [
    {
     "ename": "SyntaxError",
     "evalue": "invalid syntax (998221884.py, line 17)",
     "output_type": "error",
     "traceback": [
      "\u001b[0;36m  Cell \u001b[0;32mIn[117], line 17\u001b[0;36m\u001b[0m\n\u001b[0;31m    $ python multi_times.py\u001b[0m\n\u001b[0m    ^\u001b[0m\n\u001b[0;31mSyntaxError\u001b[0m\u001b[0;31m:\u001b[0m invalid syntax\n"
     ]
    }
   ],
   "source": [
    "#15-1三個獨立程序。每依程序等待0-5秒之間。，印出目前時間並退出。\n",
    "import multiprocessing\n",
    "\n",
    "def now(seconds):\n",
    "    from datetime import datetime\n",
    "    from time import sleep\n",
    "    sleep(seconds)\n",
    "    print('wait', seconds, 'seconds time is', datetime.utcnow())\n",
    "    \n",
    "if __name__ == '__main__':\n",
    "    import random\n",
    "    for n in range(3):\n",
    "        seconds=random.random()\n",
    "        proc=multiprocessing.Process(target=now, args=(seconds,))\n",
    "        proc.start\n",
    "\n",
    "$ python multi_times.py"
   ]
  },
  {
   "cell_type": "code",
   "execution_count": 135,
   "id": "205f3005",
   "metadata": {},
   "outputs": [
    {
     "name": "stdout",
     "output_type": "stream",
     "text": [
      "1*1=1\n",
      "1*2=2\n",
      "1*3=3\n",
      "1*4=4\n",
      "1*5=5\n",
      "1*6=6\n",
      "1*7=7\n",
      "1*8=8\n",
      "1*9=9\n",
      "2*1=2\n",
      "2*2=4\n",
      "2*3=6\n",
      "2*4=8\n",
      "2*5=10\n",
      "2*6=12\n",
      "2*7=14\n",
      "2*8=16\n",
      "2*9=18\n",
      "3*1=3\n",
      "3*2=6\n",
      "3*3=9\n",
      "3*4=12\n",
      "3*5=15\n",
      "3*6=18\n",
      "3*7=21\n",
      "3*8=24\n",
      "3*9=27\n",
      "4*1=4\n",
      "4*2=8\n",
      "4*3=12\n",
      "4*4=16\n",
      "4*5=20\n",
      "4*6=24\n",
      "4*7=28\n",
      "4*8=32\n",
      "4*9=36\n",
      "5*1=5\n",
      "5*2=10\n",
      "5*3=15\n",
      "5*4=20\n",
      "5*5=25\n",
      "5*6=30\n",
      "5*7=35\n",
      "5*8=40\n",
      "5*9=45\n",
      "6*1=6\n",
      "6*2=12\n",
      "6*3=18\n",
      "6*4=24\n",
      "6*5=30\n",
      "6*6=36\n",
      "6*7=42\n",
      "6*8=48\n",
      "6*9=54\n",
      "7*1=7\n",
      "7*2=14\n",
      "7*3=21\n",
      "7*4=28\n",
      "7*5=35\n",
      "7*6=42\n",
      "7*7=49\n",
      "7*8=56\n",
      "7*9=63\n",
      "8*1=8\n",
      "8*2=16\n",
      "8*3=24\n",
      "8*4=32\n",
      "8*5=40\n",
      "8*6=48\n",
      "8*7=56\n",
      "8*8=64\n",
      "8*9=72\n",
      "9*1=9\n",
      "9*2=18\n",
      "9*3=27\n",
      "9*4=36\n",
      "9*5=45\n",
      "9*6=54\n",
      "9*7=63\n",
      "9*8=72\n",
      "9*9=81\n",
      "\n"
     ]
    }
   ],
   "source": [
    "#99乘法寫入檔案\n",
    "with open('bbb.txt', 'wt') as f:\n",
    "    result= ''\n",
    "    for i in range(1,10):\n",
    "        for j in range(1, 10):\n",
    "            ans=f'{i}*{j}={i*j}\\n'\n",
    "    #         print(ans)\n",
    "            result+=ans\n",
    "    print(result)\n",
    "    f.write(result)"
   ]
  },
  {
   "cell_type": "code",
   "execution_count": 106,
   "id": "021a657c",
   "metadata": {},
   "outputs": [
    {
     "name": "stdout",
     "output_type": "stream",
     "text": [
      "hello ekman\n"
     ]
    }
   ],
   "source": [
    "name = 'ekman'\n",
    "sss= f'hello {name}'\n",
    "print(sss)"
   ]
  },
  {
   "cell_type": "code",
   "execution_count": 158,
   "id": "bc1ea064",
   "metadata": {},
   "outputs": [],
   "source": [
    "#四色\n",
    "spade='♠'\n",
    "heart='♥'\n",
    "diamond='♦'\n",
    "club='♣'\n",
    "\n",
    "#點數 1-10 jqk\n",
    "points =[ x for x in range(1, 11) ] +['j', 'q', 'k']\n",
    "\n",
    "#52張牌 ♠1 ♠2 ♠..13 迴圈\n",
    "#for i in range(point)\n",
    "cards=[]\n",
    "for i in points:\n",
    "    for j in [spade, heart, diamond, club]:\n",
    "        cards.append(j+str(i))\n",
    "cards \n",
    "\n",
    "#亂數發牌\n"
   ]
  },
  {
   "cell_type": "code",
   "execution_count": null,
   "id": "1f1a0770",
   "metadata": {},
   "outputs": [],
   "source": []
  },
  {
   "cell_type": "code",
   "execution_count": 144,
   "id": "8ffe1599",
   "metadata": {},
   "outputs": [],
   "source": [
    "points =[ x for x in range(1, 11) ] +['j', 'q', 'k']"
   ]
  },
  {
   "cell_type": "code",
   "execution_count": 146,
   "id": "ef46db92",
   "metadata": {},
   "outputs": [
    {
     "data": {
      "text/plain": [
       "[1, 2, 3, 4, 5, 6, 7, 8, 9, 10, 'j', 'q', 'k']"
      ]
     },
     "execution_count": 146,
     "metadata": {},
     "output_type": "execute_result"
    }
   ],
   "source": [
    "points"
   ]
  },
  {
   "cell_type": "code",
   "execution_count": 170,
   "id": "eaf3b44a",
   "metadata": {},
   "outputs": [
    {
     "data": {
      "text/plain": [
       "['♠1',\n",
       " '♥1',\n",
       " '♦1',\n",
       " '♣1',\n",
       " '♠2',\n",
       " '♥2',\n",
       " '♦2',\n",
       " '♣2',\n",
       " '♠3',\n",
       " '♥3',\n",
       " '♦3',\n",
       " '♣3',\n",
       " '♠4',\n",
       " '♥4',\n",
       " '♦4',\n",
       " '♣4',\n",
       " '♠5',\n",
       " '♥5',\n",
       " '♦5',\n",
       " '♣5',\n",
       " '♠6',\n",
       " '♥6',\n",
       " '♦6',\n",
       " '♣6',\n",
       " '♠7',\n",
       " '♥7',\n",
       " '♦7',\n",
       " '♣7',\n",
       " '♠8',\n",
       " '♥8',\n",
       " '♦8',\n",
       " '♣8',\n",
       " '♠9',\n",
       " '♥9',\n",
       " '♦9',\n",
       " '♣9',\n",
       " '♠10',\n",
       " '♥10',\n",
       " '♦10',\n",
       " '♣10',\n",
       " '♠j',\n",
       " '♥j',\n",
       " '♦j',\n",
       " '♣j',\n",
       " '♠q',\n",
       " '♥q',\n",
       " '♦q',\n",
       " '♣q',\n",
       " '♠k',\n",
       " '♥k',\n",
       " '♦k',\n",
       " '♣k']"
      ]
     },
     "execution_count": 170,
     "metadata": {},
     "output_type": "execute_result"
    }
   ],
   "source": [
    "cards=[]\n",
    "for i in points:\n",
    "    for j in [spade, heart, diamond, club]:\n",
    "        cards.append(j+str(i))\n",
    "cards   "
   ]
  },
  {
   "cell_type": "code",
   "execution_count": 206,
   "id": "5a91bdba",
   "metadata": {},
   "outputs": [
    {
     "name": "stdout",
     "output_type": "stream",
     "text": [
      "♠4 ['♠4']\n",
      "---\n"
     ]
    }
   ],
   "source": [
    "#random一張\n",
    "import random\n",
    "\n",
    "ans = random.sample(cards, 1)\n",
    "print(ans[0], ans)\n",
    "for i in cards:\n",
    "#     print(i)\n",
    "    if i == ans[0]:\n",
    "        print('---')\n",
    "        cards.remove(ans[0])"
   ]
  },
  {
   "cell_type": "code",
   "execution_count": 201,
   "id": "f874b29f",
   "metadata": {},
   "outputs": [],
   "source": [
    "a = [1,2]"
   ]
  },
  {
   "cell_type": "code",
   "execution_count": 208,
   "id": "e4d560cc",
   "metadata": {},
   "outputs": [],
   "source": [
    "a = {}\n"
   ]
  },
  {
   "cell_type": "code",
   "execution_count": 209,
   "id": "47ba76ea",
   "metadata": {},
   "outputs": [],
   "source": [
    "word = 'ice'"
   ]
  },
  {
   "cell_type": "code",
   "execution_count": 240,
   "id": "232c402b",
   "metadata": {},
   "outputs": [],
   "source": [
    "dics = { 'ice': '冰', 'hot': '熱'}"
   ]
  },
  {
   "cell_type": "code",
   "execution_count": 241,
   "id": "54904914",
   "metadata": {},
   "outputs": [
    {
     "data": {
      "text/plain": [
       "['ice', 'hot']"
      ]
     },
     "execution_count": 241,
     "metadata": {},
     "output_type": "execute_result"
    }
   ],
   "source": [
    "array_key = list(dics.keys())\n",
    "array_key"
   ]
  },
  {
   "cell_type": "code",
   "execution_count": 242,
   "id": "4fc42890",
   "metadata": {},
   "outputs": [
    {
     "data": {
      "text/plain": [
       "['冰', '熱']"
      ]
     },
     "execution_count": 242,
     "metadata": {},
     "output_type": "execute_result"
    }
   ],
   "source": [
    "array_value =list(dics.values())\n",
    "array_value"
   ]
  },
  {
   "cell_type": "code",
   "execution_count": 235,
   "id": "17e2ed56",
   "metadata": {},
   "outputs": [
    {
     "data": {
      "text/plain": [
       "{'冰': 'ice', '熱': 'hot'}"
      ]
     },
     "execution_count": 235,
     "metadata": {},
     "output_type": "execute_result"
    }
   ],
   "source": []
  },
  {
   "cell_type": "code",
   "execution_count": 248,
   "id": "682e72d9",
   "metadata": {},
   "outputs": [],
   "source": [
    "for index, i in enumerate(array_value):\n",
    "    new_dics[array_value[index]]=array_key[index]\n",
    "    index+=1"
   ]
  },
  {
   "cell_type": "code",
   "execution_count": 249,
   "id": "9c2507ea",
   "metadata": {},
   "outputs": [],
   "source": [
    "dics = { 'ice': '冰', 'hot': '熱'}"
   ]
  },
  {
   "cell_type": "code",
   "execution_count": 250,
   "id": "d121b718",
   "metadata": {},
   "outputs": [
    {
     "data": {
      "text/plain": [
       "{'冰': 'ice', '熱': 'hot'}"
      ]
     },
     "execution_count": 250,
     "metadata": {},
     "output_type": "execute_result"
    }
   ],
   "source": [
    "new_dics"
   ]
  },
  {
   "cell_type": "code",
   "execution_count": 231,
   "id": "6099c065",
   "metadata": {},
   "outputs": [],
   "source": [
    "dics['icee']='水'"
   ]
  },
  {
   "cell_type": "code",
   "execution_count": 232,
   "id": "30dde0c8",
   "metadata": {},
   "outputs": [
    {
     "data": {
      "text/plain": [
       "{'ice': '水', 'hot': '熱', 'icee': '水'}"
      ]
     },
     "execution_count": 232,
     "metadata": {},
     "output_type": "execute_result"
    }
   ],
   "source": [
    "dics"
   ]
  },
  {
   "cell_type": "code",
   "execution_count": 237,
   "id": "84d95199",
   "metadata": {},
   "outputs": [
    {
     "ename": "TypeError",
     "evalue": "cannot unpack non-iterable int object",
     "output_type": "error",
     "traceback": [
      "\u001b[0;31m---------------------------------------------------------------------------\u001b[0m",
      "\u001b[0;31mTypeError\u001b[0m                                 Traceback (most recent call last)",
      "Cell \u001b[0;32mIn[237], line 1\u001b[0m\n\u001b[0;32m----> 1\u001b[0m \u001b[38;5;28;01mfor\u001b[39;00m i, index \u001b[38;5;129;01min\u001b[39;00m \u001b[38;5;28mrange\u001b[39m(\u001b[38;5;241m10\u001b[39m):\n\u001b[1;32m      2\u001b[0m     \u001b[38;5;28mprint\u001b[39m(i, index)\n",
      "\u001b[0;31mTypeError\u001b[0m: cannot unpack non-iterable int object"
     ]
    }
   ],
   "source": [
    "for i in range(10):\n",
    "    print(i)"
   ]
  },
  {
   "cell_type": "code",
   "execution_count": null,
   "id": "f8d60b9b",
   "metadata": {},
   "outputs": [],
   "source": []
  }
 ],
 "metadata": {
  "kernelspec": {
   "display_name": "Python 3 (ipykernel)",
   "language": "python",
   "name": "python3"
  },
  "language_info": {
   "codemirror_mode": {
    "name": "ipython",
    "version": 3
   },
   "file_extension": ".py",
   "mimetype": "text/x-python",
   "name": "python",
   "nbconvert_exporter": "python",
   "pygments_lexer": "ipython3",
   "version": "3.10.12"
  }
 },
 "nbformat": 4,
 "nbformat_minor": 5
}
