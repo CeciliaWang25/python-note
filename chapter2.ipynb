{
 "cells": [
  {
   "cell_type": "code",
   "execution_count": 2,
   "id": "39ddbc3c",
   "metadata": {},
   "outputs": [
    {
     "name": "stdout",
     "output_type": "stream",
     "text": [
      "(1, 'one')\n",
      "(2, 'two')\n",
      "(3, 'three')\n"
     ]
    }
   ],
   "source": [
    "str1=[1,2,3]\n",
    "str2=['one','two','three']\n",
    "\n",
    "for z in zip(str1, str2):\n",
    "    print(z)"
   ]
  },
  {
   "cell_type": "code",
   "execution_count": 12,
   "id": "7115517d",
   "metadata": {},
   "outputs": [
    {
     "name": "stdout",
     "output_type": "stream",
     "text": [
      "coffee,1\n",
      "tea,2\n",
      "me,3\n"
     ]
    }
   ],
   "source": [
    "drinks=['coffee','tea','me']\n",
    "for i,d in enumerate(drinks, start=1):\n",
    "    print(f'{d},{i}')"
   ]
  },
  {
   "cell_type": "code",
   "execution_count": 8,
   "id": "4880a44b",
   "metadata": {},
   "outputs": [
    {
     "name": "stdout",
     "output_type": "stream",
     "text": [
      "台北100萬人\n",
      "台中200萬人\n",
      "台南300萬人\n"
     ]
    }
   ],
   "source": [
    "cities=['台北','台中','台南']\n",
    "populations=[100,200,300]\n",
    "\n",
    "data=zip(cities,populations)\n",
    "\n",
    "for c,p in data:\n",
    "    print(f'{c}{p}萬人')"
   ]
  },
  {
   "cell_type": "code",
   "execution_count": 27,
   "id": "e70c8bb9",
   "metadata": {},
   "outputs": [
    {
     "data": {
      "text/plain": [
       "<zip at 0x7fc1b812c540>"
      ]
     },
     "execution_count": 27,
     "metadata": {},
     "output_type": "execute_result"
    }
   ],
   "source": [
    "cities=['台北','台中','台南']\n",
    "populations=[100,200,300]\n",
    "\n",
    "data=zip(cities, populations)\n",
    "data"
   ]
  },
  {
   "cell_type": "code",
   "execution_count": 28,
   "id": "5ff18b6d",
   "metadata": {},
   "outputs": [
    {
     "data": {
      "text/plain": [
       "[('台北', 100), ('台中', 200), ('台南', 300)]"
      ]
     },
     "execution_count": 28,
     "metadata": {},
     "output_type": "execute_result"
    }
   ],
   "source": [
    "datas=list(data)\n",
    "datas"
   ]
  },
  {
   "cell_type": "code",
   "execution_count": 32,
   "id": "0104d8da",
   "metadata": {},
   "outputs": [
    {
     "data": {
      "text/plain": [
       "<enumerate at 0x7fc1a96df100>"
      ]
     },
     "execution_count": 32,
     "metadata": {},
     "output_type": "execute_result"
    }
   ],
   "source": [
    "drinks=['coffee', 'tea', 'me']\n",
    "\n",
    "drinks_enu=enumerate(drinks)\n",
    "drinks_enu\n"
   ]
  },
  {
   "cell_type": "code",
   "execution_count": 33,
   "id": "c35da823",
   "metadata": {},
   "outputs": [
    {
     "data": {
      "text/plain": [
       "[(0, 'coffee'), (1, 'tea'), (2, 'me')]"
      ]
     },
     "execution_count": 33,
     "metadata": {},
     "output_type": "execute_result"
    }
   ],
   "source": [
    "list(drinks_enu)"
   ]
  },
  {
   "cell_type": "code",
   "execution_count": 55,
   "id": "7bb6b402",
   "metadata": {},
   "outputs": [
    {
     "data": {
      "text/plain": [
       "[1, 4, 9, 16, 25, 36, 49, 64, 81, 100]"
      ]
     },
     "execution_count": 55,
     "metadata": {},
     "output_type": "execute_result"
    }
   ],
   "source": [
    "squares=[n*n for n in range(1,11)]\n",
    "squares"
   ]
  },
  {
   "cell_type": "code",
   "execution_count": 57,
   "id": "a16afc2f",
   "metadata": {},
   "outputs": [
    {
     "data": {
      "text/plain": [
       "{'a': 1, 'b': 2, 'c': 3}"
      ]
     },
     "execution_count": 57,
     "metadata": {},
     "output_type": "execute_result"
    }
   ],
   "source": [
    "#字串成字典\n",
    "str3=['a','b','c']\n",
    "str4=[1,2,3]\n",
    "\n",
    "data3=zip(str3,str4)\n",
    "data3\n",
    "\n",
    "data4=dict(data3)\n",
    "data4"
   ]
  },
  {
   "cell_type": "code",
   "execution_count": 65,
   "id": "34bfa6c8",
   "metadata": {},
   "outputs": [
    {
     "data": {
      "text/plain": [
       "{1, 2, 3, 4, 5, 6}"
      ]
     },
     "execution_count": 65,
     "metadata": {},
     "output_type": "execute_result"
    }
   ],
   "source": [
    "number1=[1,2,3,4]\n",
    "number2=[2,3,4,5]\n",
    "number3=[3,4,5,6]\n",
    "\n",
    "number4=set(number1+number2+number3)\n",
    "number4"
   ]
  },
  {
   "cell_type": "code",
   "execution_count": 63,
   "id": "9f289a98",
   "metadata": {},
   "outputs": [
    {
     "data": {
      "text/plain": [
       "[1, 2, 3, 4, 5, 6]"
      ]
     },
     "execution_count": 63,
     "metadata": {},
     "output_type": "execute_result"
    }
   ],
   "source": [
    "list(number4)"
   ]
  },
  {
   "cell_type": "code",
   "execution_count": 67,
   "id": "0ca8daf2",
   "metadata": {},
   "outputs": [
    {
     "data": {
      "text/plain": [
       "['1', '2', '3', '4', '5', '6', '7', '8', '9', '10', 'J', 'Q', 'K']"
      ]
     },
     "execution_count": 67,
     "metadata": {},
     "output_type": "execute_result"
    }
   ],
   "source": [
    "#設置撲克牌字串\n",
    "pockers=[str(n) for n in range(1,11)]+['J','Q','K']\n",
    "pockers"
   ]
  },
  {
   "cell_type": "code",
   "execution_count": 68,
   "id": "9cd55e0a",
   "metadata": {},
   "outputs": [
    {
     "data": {
      "text/plain": [
       "['J', '6', '5', '10', '7', '1', 'K', '8', '2', '3', 'Q', '4', '9']"
      ]
     },
     "execution_count": 68,
     "metadata": {},
     "output_type": "execute_result"
    }
   ],
   "source": [
    "import random\n",
    "random.shuffle(pockers)\n",
    "pockers"
   ]
  },
  {
   "cell_type": "code",
   "execution_count": 70,
   "id": "ab393851",
   "metadata": {},
   "outputs": [
    {
     "data": {
      "text/plain": [
       "['10', '8', '9', '4', 'K']"
      ]
     },
     "execution_count": 70,
     "metadata": {},
     "output_type": "execute_result"
    }
   ],
   "source": [
    "import random\n",
    "random.sample(pockers,5)"
   ]
  },
  {
   "cell_type": "code",
   "execution_count": 75,
   "id": "96f01b93",
   "metadata": {},
   "outputs": [
    {
     "name": "stdout",
     "output_type": "stream",
     "text": [
      "80\n",
      "33\n",
      "95\n",
      "46\n",
      "89\n"
     ]
    }
   ],
   "source": [
    "import random\n",
    "random.seed(5)\n",
    "for i in range(5):\n",
    "    print(random.randint(1,100))"
   ]
  },
  {
   "cell_type": "code",
   "execution_count": 76,
   "id": "c3e0a52f",
   "metadata": {},
   "outputs": [
    {
     "data": {
      "text/plain": [
       "[-9, -2, -1, 0, 2, 5, 8]"
      ]
     },
     "execution_count": 76,
     "metadata": {},
     "output_type": "execute_result"
    }
   ],
   "source": [
    "array1=[-9,-1,0,-2,2,8,5]\n",
    "sorted_array1=sorted(array1)\n",
    "sorted_array1"
   ]
  },
  {
   "cell_type": "code",
   "execution_count": 77,
   "id": "b17c5a11",
   "metadata": {},
   "outputs": [
    {
     "data": {
      "text/plain": [
       "[0, 2, 5, 8, -1, -2, -9]"
      ]
     },
     "execution_count": 77,
     "metadata": {},
     "output_type": "execute_result"
    }
   ],
   "source": [
    "sorted_array2=sorted(array1, key=lambda x:(x<0,abs(x)))\n",
    "sorted_array2"
   ]
  },
  {
   "cell_type": "code",
   "execution_count": 140,
   "id": "98b18030",
   "metadata": {},
   "outputs": [
    {
     "data": {
      "text/plain": [
       "{'Peter': 10, 'Nafe': 20, 'Salt': 40}"
      ]
     },
     "execution_count": 140,
     "metadata": {},
     "output_type": "execute_result"
    }
   ],
   "source": [
    "dict1={'Peter':10, 'Nafe': 20, 'Salt':40}\n",
    "dict1"
   ]
  },
  {
   "cell_type": "code",
   "execution_count": 130,
   "id": "33899385",
   "metadata": {},
   "outputs": [
    {
     "data": {
      "text/plain": [
       "[2, 10, 40]"
      ]
     },
     "execution_count": 130,
     "metadata": {},
     "output_type": "execute_result"
    }
   ],
   "source": [
    "sorted(dict1.values())"
   ]
  },
  {
   "cell_type": "code",
   "execution_count": 142,
   "id": "aa30180a",
   "metadata": {},
   "outputs": [
    {
     "data": {
      "text/plain": [
       "{'Peter': 10, 'Nafe': 20, 'Salt': 40}"
      ]
     },
     "execution_count": 142,
     "metadata": {},
     "output_type": "execute_result"
    }
   ],
   "source": [
    "dict2={k:v for k,v in sorted(dict1.items(), key=lambda x:x[1])}\n",
    "dict2"
   ]
  },
  {
   "cell_type": "code",
   "execution_count": 144,
   "id": "3418976c",
   "metadata": {},
   "outputs": [
    {
     "data": {
      "text/plain": [
       "{'a': 9, 'b': 1, 'c': 8}"
      ]
     },
     "execution_count": 144,
     "metadata": {},
     "output_type": "execute_result"
    }
   ],
   "source": [
    "import random\n",
    "dict3={i:random.randint(1,10) for i in ['a','b','c']}\n",
    "dict3"
   ]
  },
  {
   "cell_type": "code",
   "execution_count": 147,
   "id": "476d4b96",
   "metadata": {},
   "outputs": [
    {
     "data": {
      "text/plain": [
       "[1, 9, 81, 25, 4, 16]"
      ]
     },
     "execution_count": 147,
     "metadata": {},
     "output_type": "execute_result"
    }
   ],
   "source": [
    "list1=[1,3,9,5,2,4]\n",
    "\n",
    "list2=[x*x for x in list1]\n",
    "list2"
   ]
  },
  {
   "cell_type": "code",
   "execution_count": 151,
   "id": "c1abad9c",
   "metadata": {},
   "outputs": [
    {
     "data": {
      "text/plain": [
       "[1, 3, 9, 5]"
      ]
     },
     "execution_count": 151,
     "metadata": {},
     "output_type": "execute_result"
    }
   ],
   "source": [
    "list3=[x for x in list1 if x%2==1]\n",
    "list3"
   ]
  },
  {
   "cell_type": "code",
   "execution_count": 154,
   "id": "f568b3f8",
   "metadata": {},
   "outputs": [
    {
     "data": {
      "text/plain": [
       "'sum=15'"
      ]
     },
     "execution_count": 154,
     "metadata": {},
     "output_type": "execute_result"
    }
   ],
   "source": [
    "num1=5\n",
    "num2=10\n",
    "\n",
    "sum=num1+num2\n",
    "f'sum={sum}'"
   ]
  },
  {
   "cell_type": "code",
   "execution_count": 159,
   "id": "8e7b7c93",
   "metadata": {},
   "outputs": [
    {
     "data": {
      "text/plain": [
       "{2,\n",
       " 4,\n",
       " 6,\n",
       " 8,\n",
       " 10,\n",
       " 12,\n",
       " 14,\n",
       " 16,\n",
       " 18,\n",
       " 20,\n",
       " 22,\n",
       " 24,\n",
       " 26,\n",
       " 28,\n",
       " 30,\n",
       " 32,\n",
       " 34,\n",
       " 36,\n",
       " 38,\n",
       " 40,\n",
       " 42,\n",
       " 44,\n",
       " 46,\n",
       " 48,\n",
       " 50,\n",
       " 52,\n",
       " 54,\n",
       " 56,\n",
       " 58,\n",
       " 60,\n",
       " 62,\n",
       " 64,\n",
       " 66,\n",
       " 68,\n",
       " 70,\n",
       " 72,\n",
       " 74,\n",
       " 76,\n",
       " 78,\n",
       " 80,\n",
       " 82,\n",
       " 84,\n",
       " 86,\n",
       " 88,\n",
       " 90,\n",
       " 92,\n",
       " 94,\n",
       " 96,\n",
       " 98}"
      ]
     },
     "execution_count": 159,
     "metadata": {},
     "output_type": "execute_result"
    }
   ],
   "source": [
    "list_even={i for i in range(2,100,2)}\n",
    "list_even"
   ]
  },
  {
   "cell_type": "code",
   "execution_count": 160,
   "id": "50b0d4d8",
   "metadata": {},
   "outputs": [
    {
     "name": "stdout",
     "output_type": "stream",
     "text": [
      "質數\n"
     ]
    }
   ],
   "source": [
    "#Q4找質數prime \n",
    "#訂出一個範圍\n",
    "a=37\n",
    "\n",
    "flag=False\n",
    "for i in range(2,a):\n",
    "    if a%i==0:\n",
    "        flag=Ture\n",
    "        break\n",
    "if flag:\n",
    "    print('合數')\n",
    "else:\n",
    "    print('質數')"
   ]
  },
  {
   "cell_type": "code",
   "execution_count": 161,
   "id": "4d9685c8",
   "metadata": {},
   "outputs": [
    {
     "data": {
      "text/plain": [
       "120"
      ]
     },
     "execution_count": 161,
     "metadata": {},
     "output_type": "execute_result"
    }
   ],
   "source": [
    "#遞迴\n",
    "n=5\n",
    "sum=1\n",
    "for i in range(1,n+1):\n",
    "    sum*=i\n",
    "sum"
   ]
  },
  {
   "cell_type": "code",
   "execution_count": 163,
   "id": "6abb6d75",
   "metadata": {},
   "outputs": [
    {
     "data": {
      "text/plain": [
       "120"
      ]
     },
     "execution_count": 163,
     "metadata": {},
     "output_type": "execute_result"
    }
   ],
   "source": [
    "def jie(num):\n",
    "    if num==1:\n",
    "        return 1\n",
    "    else:\n",
    "        return num*jie(num-1)\n",
    "jie(5)"
   ]
  },
  {
   "cell_type": "code",
   "execution_count": 166,
   "id": "ece105af",
   "metadata": {},
   "outputs": [
    {
     "name": "stdout",
     "output_type": "stream",
     "text": [
      "半徑2\n"
     ]
    },
    {
     "data": {
      "text/plain": [
       "12.56"
      ]
     },
     "execution_count": 166,
     "metadata": {},
     "output_type": "execute_result"
    }
   ],
   "source": [
    "#Q6\n",
    "r=float(input('半徑'))\n",
    "c=2*3.14*r\n",
    "c"
   ]
  },
  {
   "cell_type": "code",
   "execution_count": 170,
   "id": "ba8f135d",
   "metadata": {},
   "outputs": [
    {
     "name": "stdout",
     "output_type": "stream",
     "text": [
      "a3\n",
      "b4\n"
     ]
    },
    {
     "data": {
      "text/plain": [
       "5.0"
      ]
     },
     "execution_count": 170,
     "metadata": {},
     "output_type": "execute_result"
    }
   ],
   "source": [
    "#Q8\n",
    "import math\n",
    "a=float(input('a'))\n",
    "b=float(input('b'))\n",
    "\n",
    "c2=a**2 + b**2\n",
    "math.sqrt(c2)"
   ]
  },
  {
   "cell_type": "code",
   "execution_count": 175,
   "id": "5bb07fe5",
   "metadata": {},
   "outputs": [
    {
     "name": "stdout",
     "output_type": "stream",
     "text": [
      "a4\n",
      "b5\n",
      "c6\n"
     ]
    },
    {
     "data": {
      "text/plain": [
       "'4,5,6'"
      ]
     },
     "execution_count": 175,
     "metadata": {},
     "output_type": "execute_result"
    }
   ],
   "source": [
    "#Q9\n",
    "a=int(input('a'))\n",
    "b=int(input('b'))\n",
    "c=int(input('c'))\n",
    "\n",
    "list=[a,b,c]\n",
    "list1=sorted(list)\n",
    "f'{list1[0]},{list1[1]},{list1[2]}'"
   ]
  },
  {
   "cell_type": "code",
   "execution_count": 181,
   "id": "7247addf",
   "metadata": {},
   "outputs": [
    {
     "name": "stdout",
     "output_type": "stream",
     "text": [
      "a2\n",
      "b99\n"
     ]
    },
    {
     "data": {
      "text/plain": [
       "[2,\n",
       " 3,\n",
       " 5,\n",
       " 7,\n",
       " 11,\n",
       " 13,\n",
       " 17,\n",
       " 19,\n",
       " 23,\n",
       " 29,\n",
       " 31,\n",
       " 37,\n",
       " 41,\n",
       " 43,\n",
       " 47,\n",
       " 53,\n",
       " 59,\n",
       " 61,\n",
       " 67,\n",
       " 71,\n",
       " 73,\n",
       " 79,\n",
       " 83,\n",
       " 89,\n",
       " 97]"
      ]
     },
     "execution_count": 181,
     "metadata": {},
     "output_type": "execute_result"
    }
   ],
   "source": [
    "#Q10\n",
    "def prime(n):\n",
    "    flag=True\n",
    "    for i in range(2,n):\n",
    "        if n%i==0:\n",
    "            flag=False\n",
    "            break\n",
    "    return flag\n",
    "            \n",
    "\n",
    "a=int(input('a'))\n",
    "b=int(input('b'))\n",
    "\n",
    "list=[]\n",
    "for i in range(a,b+1):\n",
    "    if prime(i):\n",
    "        list.append(i)\n",
    "list"
   ]
  },
  {
   "cell_type": "code",
   "execution_count": 188,
   "id": "182768aa",
   "metadata": {},
   "outputs": [
    {
     "name": "stdout",
     "output_type": "stream",
     "text": [
      "\n",
      "1*1=1 \n",
      "2*1=2 2*2=4 \n",
      "3*1=3 3*2=6 3*3=9 \n",
      "4*1=4 4*2=8 4*3=12 4*4=16 \n",
      "5*1=5 5*2=10 5*3=15 5*4=20 5*5=25 \n",
      "6*1=6 6*2=12 6*3=18 6*4=24 6*5=30 6*6=36 \n",
      "7*1=7 7*2=14 7*3=21 7*4=28 7*5=35 7*6=42 7*7=49 \n",
      "8*1=8 8*2=16 8*3=24 8*4=32 8*5=40 8*6=48 8*7=56 8*8=64 \n",
      "9*1=9 9*2=18 9*3=27 9*4=36 9*5=45 9*6=54 9*7=63 9*8=72 9*9=81 "
     ]
    }
   ],
   "source": [
    "for i in range(1,10):\n",
    "    print()\n",
    "    for j in range(1,i+1):\n",
    "        print(f'{i}*{j}={i*j}', end=' ')"
   ]
  },
  {
   "cell_type": "code",
   "execution_count": 190,
   "id": "352baa5f",
   "metadata": {},
   "outputs": [
    {
     "name": "stdout",
     "output_type": "stream",
     "text": [
      "153\n",
      "370\n",
      "371\n",
      "407\n"
     ]
    }
   ],
   "source": [
    "#xxx\n",
    "for i in range(100, 1000):\n",
    "    a=i%10\n",
    "    b=(i%100)//10\n",
    "    c=i//100\n",
    "    if a**3+b**3+c**3 == i:\n",
    "        print()"
   ]
  },
  {
   "cell_type": "code",
   "execution_count": 189,
   "id": "925ae887",
   "metadata": {},
   "outputs": [
    {
     "data": {
      "text/plain": [
       "(7, 6, 5)"
      ]
     },
     "execution_count": 189,
     "metadata": {},
     "output_type": "execute_result"
    }
   ],
   "source": [
    "n=567\n",
    "a=n%10\n",
    "b=(n%100)//10\n",
    "c=n//100\n",
    "a,b,c"
   ]
  },
  {
   "cell_type": "code",
   "execution_count": 202,
   "id": "29dfaeb7",
   "metadata": {},
   "outputs": [
    {
     "name": "stdout",
     "output_type": "stream",
     "text": [
      "num41234\n"
     ]
    },
    {
     "data": {
      "text/plain": [
       "'4321'"
      ]
     },
     "execution_count": 202,
     "metadata": {},
     "output_type": "execute_result"
    }
   ],
   "source": [
    "a=input('num4')\n",
    "a=a[::-1]\n",
    "a"
   ]
  },
  {
   "cell_type": "code",
   "execution_count": 205,
   "id": "d2454e53",
   "metadata": {},
   "outputs": [
    {
     "name": "stdout",
     "output_type": "stream",
     "text": [
      "abc1\n",
      "1 is not\n"
     ]
    }
   ],
   "source": [
    "b=input('abc')\n",
    "result=b.isalpha()\n",
    "\n",
    "if result:\n",
    "    print(f'{b} is true')\n",
    "else:\n",
    "    print(f'{b} is not')"
   ]
  },
  {
   "cell_type": "code",
   "execution_count": 211,
   "id": "b1d0c82a",
   "metadata": {},
   "outputs": [
    {
     "name": "stdout",
     "output_type": "stream",
     "text": [
      "6是完數\n",
      "28是完數\n"
     ]
    }
   ],
   "source": [
    "for i in range(1,100):\n",
    "    sum=0\n",
    "    for j in range(1,i):\n",
    "        if i%j==0:\n",
    "            sum+=j\n",
    "    if sum==i:\n",
    "        print(f'{i}是完數')"
   ]
  },
  {
   "cell_type": "code",
   "execution_count": 212,
   "id": "0c4e7079",
   "metadata": {},
   "outputs": [
    {
     "name": "stdout",
     "output_type": "stream",
     "text": [
      "2002 1 19\n"
     ]
    },
    {
     "data": {
      "text/plain": [
       "19"
      ]
     },
     "execution_count": 212,
     "metadata": {},
     "output_type": "execute_result"
    }
   ],
   "source": [
    "import datetime\n",
    "\n",
    "year, month, day=map(int, input().split(\" \"))\n",
    "\n",
    "nowa=datetime.datetime(year, 1, 1)\n",
    "now=datetime.datetime(year, month, day)\n",
    "\n",
    "(now-nowa).days+1"
   ]
  },
  {
   "cell_type": "code",
   "execution_count": 213,
   "id": "4b11b572",
   "metadata": {},
   "outputs": [
    {
     "data": {
      "text/plain": [
       "8"
      ]
     },
     "execution_count": 213,
     "metadata": {},
     "output_type": "execute_result"
    }
   ],
   "source": [
    "def fib(n):\n",
    "    if n==1 or n==2:\n",
    "        return 1\n",
    "    else:\n",
    "        return fib(n-1) + fib(n-2)\n",
    "    \n",
    "fib(6)"
   ]
  },
  {
   "cell_type": "code",
   "execution_count": 217,
   "id": "d7b62f61",
   "metadata": {},
   "outputs": [
    {
     "name": "stdout",
     "output_type": "stream",
     "text": [
      "[1, 1, 2, 3, 5, 8, 13]\n"
     ]
    }
   ],
   "source": [
    "n=6\n",
    "\n",
    "fibs=[1,1]\n",
    "for i in range(2, n+1):\n",
    "    fibs.append(fibs[i-1]+fibs[i-2])\n",
    "\n",
    "print(fibs)"
   ]
  },
  {
   "cell_type": "code",
   "execution_count": 218,
   "id": "895c7cda",
   "metadata": {},
   "outputs": [
    {
     "name": "stdout",
     "output_type": "stream",
     "text": [
      "somethingin52\n"
     ]
    },
    {
     "data": {
      "text/plain": [
       "'char2, num2, space0,other0'"
      ]
     },
     "execution_count": 218,
     "metadata": {},
     "output_type": "execute_result"
    }
   ],
   "source": [
    "string = input('something')\n",
    "\n",
    "char=0\n",
    "num=0\n",
    "space=0\n",
    "other=0\n",
    "\n",
    "for i in string:\n",
    "    if i.isalpha():\n",
    "        char+=1\n",
    "    elif i.isalnum():\n",
    "        num+=1\n",
    "    elif i.isspace():\n",
    "        space+=1\n",
    "    else:\n",
    "        other+=1\n",
    "        \n",
    "f'char{char}, num{num}, space{space},other{other}'"
   ]
  },
  {
   "cell_type": "code",
   "execution_count": 219,
   "id": "feafa761",
   "metadata": {},
   "outputs": [
    {
     "data": {
      "text/plain": [
       "[100, 100.0, 50.0, 25.0, 12.5, 6.25, 3.125, 1.5625, 0.78125, 0.390625]"
      ]
     },
     "execution_count": 219,
     "metadata": {},
     "output_type": "execute_result"
    }
   ],
   "source": [
    "n=100\n",
    "count=0\n",
    "list=[]\n",
    "\n",
    "while count<10:\n",
    "    if count ==0:\n",
    "        list.append(n)\n",
    "        n/=2\n",
    "        count+=1\n",
    "    else:\n",
    "        list.append(2*n)\n",
    "        n/=2\n",
    "        count+=1\n",
    "list"
   ]
  },
  {
   "cell_type": "code",
   "execution_count": 221,
   "id": "ddd5160a",
   "metadata": {},
   "outputs": [
    {
     "data": {
      "text/plain": [
       "2561327494111820313"
      ]
     },
     "execution_count": 221,
     "metadata": {},
     "output_type": "execute_result"
    }
   ],
   "source": [
    "import math\n",
    "\n",
    "sum=0\n",
    "for i in range(1,21):\n",
    "    sum+=math.factorial(i)\n",
    "sum"
   ]
  },
  {
   "cell_type": "code",
   "execution_count": 222,
   "id": "be2ce6bc",
   "metadata": {},
   "outputs": [
    {
     "data": {
      "text/plain": [
       "18"
      ]
     },
     "execution_count": 222,
     "metadata": {},
     "output_type": "execute_result"
    }
   ],
   "source": [
    "def func(n):\n",
    "    if n==1:\n",
    "        return 10\n",
    "    else:\n",
    "        return func(n-1)+2\n",
    "    \n",
    "func(5)"
   ]
  },
  {
   "cell_type": "code",
   "execution_count": 224,
   "id": "af8b239a",
   "metadata": {},
   "outputs": [
    {
     "name": "stdout",
     "output_type": "stream",
     "text": [
      "num12321\n",
      "Y\n"
     ]
    }
   ],
   "source": [
    "a=input('num')\n",
    "\n",
    "b=a[::-1]\n",
    "\n",
    "if a==b:\n",
    "    print('Y')\n",
    "else:\n",
    "    print('N')"
   ]
  },
  {
   "cell_type": "code",
   "execution_count": 227,
   "id": "6247aefd",
   "metadata": {},
   "outputs": [
    {
     "data": {
      "text/plain": [
       "[3, 2, 1]"
      ]
     },
     "execution_count": 227,
     "metadata": {},
     "output_type": "execute_result"
    }
   ],
   "source": [
    "list=[1,2,3]\n",
    "list.reverse()\n",
    "list"
   ]
  },
  {
   "cell_type": "code",
   "execution_count": 228,
   "id": "da4b0db4",
   "metadata": {},
   "outputs": [
    {
     "data": {
      "text/plain": [
       "[3, 2, 1]"
      ]
     },
     "execution_count": 228,
     "metadata": {},
     "output_type": "execute_result"
    }
   ],
   "source": [
    "list=[1,2,3]\n",
    "list[::-1]"
   ]
  },
  {
   "cell_type": "code",
   "execution_count": 245,
   "id": "ddb034d8",
   "metadata": {},
   "outputs": [
    {
     "name": "stdout",
     "output_type": "stream",
     "text": [
      "2 3\n"
     ]
    },
    {
     "data": {
      "text/plain": [
       "['2', '3']"
      ]
     },
     "execution_count": 245,
     "metadata": {},
     "output_type": "execute_result"
    }
   ],
   "source": [
    "a=input().split()\n",
    "a"
   ]
  },
  {
   "cell_type": "code",
   "execution_count": 250,
   "id": "78c32eaf",
   "metadata": {},
   "outputs": [
    {
     "name": "stdout",
     "output_type": "stream",
     "text": [
      "34 4\n",
      "['34', '4']\n"
     ]
    },
    {
     "data": {
      "text/plain": [
       "[4, 34]"
      ]
     },
     "execution_count": 250,
     "metadata": {},
     "output_type": "execute_result"
    }
   ],
   "source": [
    "b=input().split()\n",
    "print(b)\n",
    "c=[int(i) for i in b]\n",
    "c.sort()\n",
    "c"
   ]
  },
  {
   "cell_type": "code",
   "execution_count": 252,
   "id": "0532ff02",
   "metadata": {},
   "outputs": [
    {
     "name": "stdout",
     "output_type": "stream",
     "text": [
      "num5\n"
     ]
    },
    {
     "data": {
      "text/plain": [
       "[1, 3, 4, 5, 20]"
      ]
     },
     "execution_count": 252,
     "metadata": {},
     "output_type": "execute_result"
    }
   ],
   "source": [
    "list7=[1,3,20,4]\n",
    "\n",
    "n=int(input('num'))\n",
    "list7.append(n)\n",
    "list7.sort()\n",
    "list7"
   ]
  },
  {
   "cell_type": "code",
   "execution_count": 263,
   "id": "c03ce9e3",
   "metadata": {},
   "outputs": [
    {
     "data": {
      "text/plain": [
       "69"
      ]
     },
     "execution_count": 263,
     "metadata": {},
     "output_type": "execute_result"
    }
   ],
   "source": [
    "import random\n",
    "\n",
    "random.randrange(1,100,2)"
   ]
  },
  {
   "cell_type": "code",
   "execution_count": null,
   "id": "a612d7e0",
   "metadata": {},
   "outputs": [
    {
     "name": "stdout",
     "output_type": "stream",
     "text": [
      "start\n",
      "number98\n",
      "too small\n",
      "number1\n",
      "too small\n",
      "number99\n",
      "great\n"
     ]
    }
   ],
   "source": [
    "target=99\n",
    "\n",
    "times=7\n",
    "\n",
    "print('start')\n",
    "while times !=0:\n",
    "    num=int(input('number'))\n",
    "    if num>target:\n",
    "        print('too big')\n",
    "        continue\n",
    "    elif num<target:\n",
    "        print('too small')\n",
    "        continue\n",
    "    else:\n",
    "        print('great')\n",
    "\n",
    "if times == 0:\n",
    "    print('bang')"
   ]
  },
  {
   "cell_type": "code",
   "execution_count": 2,
   "id": "9684407a",
   "metadata": {},
   "outputs": [
    {
     "name": "stdout",
     "output_type": "stream",
     "text": [
      "l\n"
     ]
    }
   ],
   "source": [
    "print('l')"
   ]
  },
  {
   "cell_type": "code",
   "execution_count": 7,
   "id": "989ade42",
   "metadata": {},
   "outputs": [
    {
     "data": {
      "text/plain": [
       "{'a': 'b', 'c': 'd', 'e': 'f'}"
      ]
     },
     "execution_count": 7,
     "metadata": {},
     "output_type": "execute_result"
    }
   ],
   "source": [
    "tos=('ab','cd','ef')\n",
    "tos2=['ab','cd','ef']\n",
    "dict(tos)\n",
    "\n",
    "tos3=(['a','b'], ['c','d'], ['e','f'])\n",
    "tos4=[('a','b'), ('c','d'), ('e','f')]\n",
    "dict(tos3)"
   ]
  },
  {
   "cell_type": "code",
   "execution_count": 9,
   "id": "9c59942c",
   "metadata": {},
   "outputs": [
    {
     "data": {
      "text/plain": [
       "{'l': 1, 's': 1, 't': 2, 'e': 2, 'r': 1}"
      ]
     },
     "execution_count": 9,
     "metadata": {},
     "output_type": "execute_result"
    }
   ],
   "source": [
    "word='letters'\n",
    "dict5=({letter : word.count(letter) for letter in set(word)})\n",
    "dict5"
   ]
  },
  {
   "cell_type": "code",
   "execution_count": 17,
   "id": "6d1ac9a9",
   "metadata": {},
   "outputs": [
    {
     "name": "stdout",
     "output_type": "stream",
     "text": [
      "a\n",
      "b\n",
      "c\n"
     ]
    }
   ],
   "source": [
    "drinks={'a':{'1','2'}, 'b': {'1','3'}, 'c':{'2', '3'}}\n",
    "for name, contents in drinks.items():\n",
    "    if contents & {'1', '2'}:\n",
    "        print(name)\n"
   ]
  },
  {
   "cell_type": "code",
   "execution_count": 18,
   "id": "9f2649bf",
   "metadata": {},
   "outputs": [
    {
     "name": "stdout",
     "output_type": "stream",
     "text": [
      "a\n",
      "c\n"
     ]
    }
   ],
   "source": [
    "drinks={'a':{'1','2'}, 'b': {'1','3'}, 'c':{'2', '3'}}\n",
    "for name, contents in drinks.items():\n",
    "    if  '2' in contents:\n",
    "        print(name)"
   ]
  },
  {
   "cell_type": "code",
   "execution_count": 19,
   "id": "be23f3ce",
   "metadata": {},
   "outputs": [
    {
     "name": "stdout",
     "output_type": "stream",
     "text": [
      "a\n",
      "b\n",
      "c\n"
     ]
    }
   ],
   "source": [
    "drinks={'a':{1, 2}, 'b': {1, 3}, 'c':{2, 3}}\n",
    "for name, contents in drinks.items():\n",
    "    if contents & {1, 2}:\n",
    "        print(name)\n"
   ]
  },
  {
   "cell_type": "code",
   "execution_count": 21,
   "id": "a79da134",
   "metadata": {},
   "outputs": [
    {
     "name": "stdout",
     "output_type": "stream",
     "text": [
      "['a']\n",
      "['a', 'b']\n"
     ]
    }
   ],
   "source": [
    "def buggy(arg, result=[]):\n",
    "    result.append(arg)\n",
    "    print(result)\n",
    "buggy('a')\n",
    "buggy('b')"
   ]
  },
  {
   "cell_type": "code",
   "execution_count": 22,
   "id": "857284a2",
   "metadata": {},
   "outputs": [
    {
     "data": {
      "text/plain": [
       "['b']"
      ]
     },
     "execution_count": 22,
     "metadata": {},
     "output_type": "execute_result"
    }
   ],
   "source": [
    "def buggy(arg):\n",
    "    result=[]\n",
    "    result.append(arg)\n",
    "    return result\n",
    "buggy('a')\n",
    "buggy('b')"
   ]
  },
  {
   "cell_type": "code",
   "execution_count": 24,
   "id": "f08a9d96",
   "metadata": {},
   "outputs": [
    {
     "data": {
      "text/plain": [
       "['b']"
      ]
     },
     "execution_count": 24,
     "metadata": {},
     "output_type": "execute_result"
    }
   ],
   "source": [
    "def buggy(arg, result=None):\n",
    "    if result is None:\n",
    "        result=[]\n",
    "    result.append(arg)\n",
    "    return result\n",
    "buggy('a')\n",
    "buggy('b') "
   ]
  },
  {
   "cell_type": "code",
   "execution_count": 25,
   "id": "dcb7b283",
   "metadata": {},
   "outputs": [],
   "source": [
    "def edit(words, func):\n",
    "    for word in words:\n",
    "        print(func(word))"
   ]
  },
  {
   "cell_type": "code",
   "execution_count": 26,
   "id": "1dfe65b8",
   "metadata": {},
   "outputs": [
    {
     "name": "stdout",
     "output_type": "stream",
     "text": [
      "One!\n",
      "Two!\n",
      "Three!\n"
     ]
    }
   ],
   "source": [
    "stairs=['one', 'two', 'three']\n",
    "def enliven(word):\n",
    "    return word.capitalize() + '!'\n",
    "\n",
    "edit(stairs, lambda word:word.capitalize() +'!')"
   ]
  },
  {
   "cell_type": "code",
   "execution_count": 32,
   "id": "c2d355cf",
   "metadata": {},
   "outputs": [],
   "source": [
    "def mrange(first=0, last=10, step=1):\n",
    "    num=first\n",
    "    while num<last:\n",
    "        yield num\n",
    "        num+=step\n",
    "rmrange=mrange(1,5)"
   ]
  },
  {
   "cell_type": "code",
   "execution_count": 33,
   "id": "47d2d654",
   "metadata": {},
   "outputs": [
    {
     "name": "stdout",
     "output_type": "stream",
     "text": [
      "1\n",
      "2\n",
      "3\n",
      "4\n"
     ]
    }
   ],
   "source": [
    "for x in rmrange:\n",
    "    print(x)"
   ]
  },
  {
   "cell_type": "code",
   "execution_count": 34,
   "id": "9ff8bf71",
   "metadata": {},
   "outputs": [
    {
     "data": {
      "text/plain": [
       "<generator object <genexpr> at 0x7fcc703b0e40>"
      ]
     },
     "execution_count": 34,
     "metadata": {},
     "output_type": "execute_result"
    }
   ],
   "source": [
    "obj1= (pair for pair in zip(['a', 'b'], [1,2]))\n",
    "obj1"
   ]
  },
  {
   "cell_type": "code",
   "execution_count": 35,
   "id": "9bbaaaca",
   "metadata": {},
   "outputs": [
    {
     "name": "stdout",
     "output_type": "stream",
     "text": [
      "('a', 1)\n",
      "('b', 2)\n"
     ]
    }
   ],
   "source": [
    "for thing in obj1:\n",
    "    print(thing)"
   ]
  },
  {
   "cell_type": "code",
   "execution_count": 36,
   "id": "9e9b1d29",
   "metadata": {},
   "outputs": [
    {
     "data": {
      "text/plain": [
       "datetime.date(2019, 10, 31)"
      ]
     },
     "execution_count": 36,
     "metadata": {},
     "output_type": "execute_result"
    }
   ],
   "source": [
    "from datetime import date\n",
    "halloween=date(2019,10,31)\n",
    "\n",
    "halloween"
   ]
  },
  {
   "cell_type": "code",
   "execution_count": 38,
   "id": "68c99b4d",
   "metadata": {},
   "outputs": [
    {
     "data": {
      "text/plain": [
       "datetime.date(2023, 8, 18)"
      ]
     },
     "execution_count": 38,
     "metadata": {},
     "output_type": "execute_result"
    }
   ],
   "source": [
    "from datetime import date, timedelta\n",
    "now=date.today()\n",
    "one_day=timedelta(days=1)\n",
    "tomorrow=now+one_day\n",
    "tomorrow"
   ]
  },
  {
   "cell_type": "code",
   "execution_count": 40,
   "id": "20011ad4",
   "metadata": {},
   "outputs": [
    {
     "data": {
      "text/plain": [
       "datetime.date(2023, 9, 4)"
      ]
     },
     "execution_count": 40,
     "metadata": {},
     "output_type": "execute_result"
    }
   ],
   "source": [
    "now+18*one_day"
   ]
  },
  {
   "cell_type": "code",
   "execution_count": 41,
   "id": "40b96d16",
   "metadata": {},
   "outputs": [
    {
     "ename": "TypeError",
     "evalue": "unsupported operand type(s) for +: 'datetime.date' and 'int'",
     "output_type": "error",
     "traceback": [
      "\u001b[0;31m---------------------------------------------------------------------------\u001b[0m",
      "\u001b[0;31mTypeError\u001b[0m                                 Traceback (most recent call last)",
      "Cell \u001b[0;32mIn[41], line 1\u001b[0m\n\u001b[0;32m----> 1\u001b[0m \u001b[43mnow\u001b[49m\u001b[38;5;241;43m+\u001b[39;49m\u001b[38;5;241;43m18\u001b[39;49m\n",
      "\u001b[0;31mTypeError\u001b[0m: unsupported operand type(s) for +: 'datetime.date' and 'int'"
     ]
    }
   ],
   "source": [
    "now+18"
   ]
  },
  {
   "cell_type": "code",
   "execution_count": 42,
   "id": "dcf62647",
   "metadata": {},
   "outputs": [
    {
     "data": {
      "text/plain": [
       "datetime.time(12, 0)"
      ]
     },
     "execution_count": 42,
     "metadata": {},
     "output_type": "execute_result"
    }
   ],
   "source": [
    "from datetime import time\n",
    "noon= time(12, 0, 0)\n",
    "noon"
   ]
  },
  {
   "cell_type": "code",
   "execution_count": 43,
   "id": "3289b035",
   "metadata": {},
   "outputs": [
    {
     "data": {
      "text/plain": [
       "datetime.datetime(2019, 1, 2, 3, 4, 5, 6)"
      ]
     },
     "execution_count": 43,
     "metadata": {},
     "output_type": "execute_result"
    }
   ],
   "source": [
    "from datetime import datetime\n",
    "some_day=datetime(2019, 1, 2, 3, 4, 5, 6)\n",
    "some_day"
   ]
  },
  {
   "cell_type": "code",
   "execution_count": 44,
   "id": "7401df1e",
   "metadata": {},
   "outputs": [
    {
     "data": {
      "text/plain": [
       "'2019-01-02T03:04:05.000006'"
      ]
     },
     "execution_count": 44,
     "metadata": {},
     "output_type": "execute_result"
    }
   ],
   "source": [
    "some_day.isoformat()"
   ]
  },
  {
   "cell_type": "code",
   "execution_count": 45,
   "id": "2bc01205",
   "metadata": {},
   "outputs": [
    {
     "data": {
      "text/plain": [
       "datetime.datetime(2023, 8, 17, 16, 11, 8, 611763)"
      ]
     },
     "execution_count": 45,
     "metadata": {},
     "output_type": "execute_result"
    }
   ],
   "source": [
    "from datetime import datetime\n",
    "now=datetime.now()\n",
    "now"
   ]
  },
  {
   "cell_type": "code",
   "execution_count": 51,
   "id": "b9c386e4",
   "metadata": {},
   "outputs": [],
   "source": [
    "def document(func):\n",
    "    def new_func(*args, **kwargs):\n",
    "        print(func.__name__)\n",
    "        print(args)\n",
    "        print(kwargs)\n",
    "        result= func(*args, **kwargs)\n",
    "        print(result)\n",
    "        return result\n",
    "    return new_func"
   ]
  },
  {
   "cell_type": "code",
   "execution_count": 48,
   "id": "0d84dcdc",
   "metadata": {},
   "outputs": [
    {
     "name": "stdout",
     "output_type": "stream",
     "text": [
      "add_int\n",
      "(3, 5)\n",
      "{}\n",
      "8\n"
     ]
    },
    {
     "data": {
      "text/plain": [
       "8"
      ]
     },
     "execution_count": 48,
     "metadata": {},
     "output_type": "execute_result"
    }
   ],
   "source": [
    "@document\n",
    "def add_int(a,b):\n",
    "    return a+b\n",
    "\n",
    "add_int(3,5)"
   ]
  },
  {
   "cell_type": "code",
   "execution_count": 49,
   "id": "20a46689",
   "metadata": {},
   "outputs": [],
   "source": [
    "def square(func):\n",
    "    def new_func(*args, **kwargs):\n",
    "        result= func(*args, **kwargs)\n",
    "        return result*result\n",
    "    return new_func"
   ]
  },
  {
   "cell_type": "code",
   "execution_count": 50,
   "id": "f2b5c70b",
   "metadata": {},
   "outputs": [
    {
     "name": "stdout",
     "output_type": "stream",
     "text": [
      "add_int\n",
      "(3, 5)\n",
      "{}\n",
      "8\n"
     ]
    },
    {
     "data": {
      "text/plain": [
       "64"
      ]
     },
     "execution_count": 50,
     "metadata": {},
     "output_type": "execute_result"
    }
   ],
   "source": [
    "@square\n",
    "@document\n",
    "def add_int(a,b):\n",
    "    return a+b\n",
    "\n",
    "add_int(3,5)"
   ]
  },
  {
   "cell_type": "code",
   "execution_count": 52,
   "id": "d70e9da5",
   "metadata": {},
   "outputs": [
    {
     "name": "stdout",
     "output_type": "stream",
     "text": [
      "new_func\n",
      "(3, 5)\n",
      "{}\n",
      "64\n"
     ]
    },
    {
     "data": {
      "text/plain": [
       "64"
      ]
     },
     "execution_count": 52,
     "metadata": {},
     "output_type": "execute_result"
    }
   ],
   "source": [
    "@document\n",
    "@square\n",
    "def add_int(a,b):\n",
    "    return a+b\n",
    "\n",
    "add_int(3,5)"
   ]
  },
  {
   "cell_type": "code",
   "execution_count": 53,
   "id": "d5f2bbb2",
   "metadata": {},
   "outputs": [
    {
     "name": "stdout",
     "output_type": "stream",
     "text": [
      "Help on built-in function isinstance in module builtins:\n",
      "\n",
      "isinstance(obj, class_or_tuple, /)\n",
      "    Return whether an object is an instance of a class or of a subclass thereof.\n",
      "    \n",
      "    A tuple, as in ``isinstance(x, (A, B, ...))``, may be given as the target to\n",
      "    check against. This is equivalent to ``isinstance(x, A) or isinstance(x, B)\n",
      "    or ...`` etc.\n",
      "\n"
     ]
    }
   ],
   "source": [
    "help(isinstance)"
   ]
  },
  {
   "cell_type": "code",
   "execution_count": 55,
   "id": "32b12804",
   "metadata": {},
   "outputs": [
    {
     "data": {
      "text/plain": [
       "<generator object flatten at 0x7fcc704f7a70>"
      ]
     },
     "execution_count": 55,
     "metadata": {},
     "output_type": "execute_result"
    }
   ],
   "source": [
    "def flatten(lol):\n",
    "    for item in lol:\n",
    "        yield item\n",
    "\n",
    "lol=[1,2,[3,4,5]]\n",
    "flatten(lol)"
   ]
  },
  {
   "cell_type": "code",
   "execution_count": 56,
   "id": "b1a6fcb5",
   "metadata": {},
   "outputs": [
    {
     "data": {
      "text/plain": [
       "[1, 2, [3, 4, 5]]"
      ]
     },
     "execution_count": 56,
     "metadata": {},
     "output_type": "execute_result"
    }
   ],
   "source": [
    "list(flatten(lol))"
   ]
  },
  {
   "cell_type": "code",
   "execution_count": 58,
   "id": "a8a9d297",
   "metadata": {},
   "outputs": [
    {
     "data": {
      "text/plain": [
       "[[3, 4, 5]]"
      ]
     },
     "execution_count": 58,
     "metadata": {},
     "output_type": "execute_result"
    }
   ],
   "source": [
    "def flatten(lol):\n",
    "    for item in lol:\n",
    "        if isinstance(item, list):\n",
    "            for subitem in flatten(item):\n",
    "                yield subitem\n",
    "            else:\n",
    "                yield item\n",
    "\n",
    "lol=[1,2,[3,4,5]]\n",
    "list(flatten(lol))"
   ]
  },
  {
   "cell_type": "code",
   "execution_count": 59,
   "id": "f6cff86a",
   "metadata": {},
   "outputs": [
    {
     "data": {
      "text/plain": [
       "[1, 2, 3, 4, 5]"
      ]
     },
     "execution_count": 59,
     "metadata": {},
     "output_type": "execute_result"
    }
   ],
   "source": [
    "def flatten(lol):\n",
    "    for item in lol:\n",
    "        if isinstance(item, list):\n",
    "            yield from flatten(item)\n",
    "        else:\n",
    "            yield item\n",
    "\n",
    "lol=[1,2,[3,4,5]]\n",
    "list(flatten(lol))"
   ]
  },
  {
   "cell_type": "code",
   "execution_count": 60,
   "id": "6fba1375",
   "metadata": {},
   "outputs": [
    {
     "ename": "NameError",
     "evalue": "name 'OopsException' is not defined",
     "output_type": "error",
     "traceback": [
      "\u001b[0;31m---------------------------------------------------------------------------\u001b[0m",
      "\u001b[0;31mNameError\u001b[0m                                 Traceback (most recent call last)",
      "Cell \u001b[0;32mIn[60], line 2\u001b[0m\n\u001b[1;32m      1\u001b[0m \u001b[38;5;28;01mtry\u001b[39;00m:\n\u001b[0;32m----> 2\u001b[0m     \u001b[38;5;28;01mraise\u001b[39;00m \u001b[43mOopsException\u001b[49m(\u001b[38;5;124m'\u001b[39m\u001b[38;5;124mpanic\u001b[39m\u001b[38;5;124m'\u001b[39m)\n\u001b[1;32m      3\u001b[0m \u001b[38;5;28;01mexcept\u001b[39;00m OopsException \u001b[38;5;28;01mas\u001b[39;00m exc:\n",
      "\u001b[0;31mNameError\u001b[0m: name 'OopsException' is not defined",
      "\nDuring handling of the above exception, another exception occurred:\n",
      "\u001b[0;31mNameError\u001b[0m                                 Traceback (most recent call last)",
      "Cell \u001b[0;32mIn[60], line 3\u001b[0m\n\u001b[1;32m      1\u001b[0m \u001b[38;5;28;01mtry\u001b[39;00m:\n\u001b[1;32m      2\u001b[0m     \u001b[38;5;28;01mraise\u001b[39;00m OopsException(\u001b[38;5;124m'\u001b[39m\u001b[38;5;124mpanic\u001b[39m\u001b[38;5;124m'\u001b[39m)\n\u001b[0;32m----> 3\u001b[0m \u001b[38;5;28;01mexcept\u001b[39;00m \u001b[43mOopsException\u001b[49m \u001b[38;5;28;01mas\u001b[39;00m exc:\n\u001b[1;32m      4\u001b[0m     \u001b[38;5;28mprint\u001b[39m(exc)\n\u001b[1;32m      6\u001b[0m panic\n",
      "\u001b[0;31mNameError\u001b[0m: name 'OopsException' is not defined"
     ]
    }
   ],
   "source": [
    "try:\n",
    "    raise OopsException('panic')\n",
    "except OopsException as exc:\n",
    "    print(exc)\n",
    "    \n",
    "panic"
   ]
  },
  {
   "cell_type": "code",
   "execution_count": 67,
   "id": "1826ee5d",
   "metadata": {},
   "outputs": [
    {
     "name": "stdout",
     "output_type": "stream",
     "text": [
      "input numberq\n",
      "0\n"
     ]
    }
   ],
   "source": [
    "#輸入所有數字，直到q為止。印出\n",
    "\n",
    "user_input = input('input number')\n",
    "\n",
    "total=0\n",
    "count=0\n",
    "\n",
    "while user_input!='q':\n",
    "    num=float(user_input)\n",
    "    total+=num\n",
    "    count+=1\n",
    "    user_input=input('input number')\n",
    "\n",
    "print(total)    "
   ]
  },
  {
   "cell_type": "code",
   "execution_count": 71,
   "id": "98a43f2a",
   "metadata": {},
   "outputs": [
    {
     "name": "stdout",
     "output_type": "stream",
     "text": [
      "category: 1\n"
     ]
    },
    {
     "data": {
      "text/plain": [
       "0.0018730489073881373"
      ]
     },
     "execution_count": 71,
     "metadata": {},
     "output_type": "execute_result"
    }
   ],
   "source": [
    "def bmi(weight, height):\n",
    "    BMI=weight/height**2\n",
    "    if BMI <=18:\n",
    "        categoty='1'\n",
    "    elif BMI <=25:\n",
    "        categoty='2'\n",
    "    elif BMI <=30:\n",
    "        categoty='3'\n",
    "    else:\n",
    "        categoty='4'\n",
    "    print(f'category: {categoty}')   \n",
    "    return BMI\n",
    "\n",
    "bmi(45,155)"
   ]
  },
  {
   "cell_type": "code",
   "execution_count": 3,
   "id": "f6a61cbf",
   "metadata": {},
   "outputs": [
    {
     "name": "stdout",
     "output_type": "stream",
     "text": [
      "喵\n",
      "小貓Jojo在思考撕紙箱\n"
     ]
    },
    {
     "data": {
      "text/plain": [
       "<__main__.Cat at 0x7f44683ef010>"
      ]
     },
     "execution_count": 3,
     "metadata": {},
     "output_type": "execute_result"
    }
   ],
   "source": [
    "class Cat:\n",
    "    def __init__(self, name, age, color):\n",
    "        self.name=name\n",
    "        self.age=age\n",
    "        self.color=color\n",
    "    \n",
    "    def speak(self):\n",
    "        print('喵'*self.age)\n",
    "\n",
    "    def think(self, content):\n",
    "        print(f'小貓{self.name}在思考{content}')\n",
    "    \n",
    "cat1=Cat('Jojo', 1, 'yellow')\n",
    "cat1.speak()\n",
    "cat1.think('撕紙箱')\n",
    "cat1"
   ]
  },
  {
   "cell_type": "code",
   "execution_count": 7,
   "id": "94fdae45",
   "metadata": {},
   "outputs": [
    {
     "name": "stdout",
     "output_type": "stream",
     "text": [
      "學生陳(學號:10010)成績為\n",
      "國:0分\n",
      "英:0分\n",
      "數:95分\n"
     ]
    }
   ],
   "source": [
    "class Student:\n",
    "    def __init__(self, name, student_id):\n",
    "        self.name=name\n",
    "        self.student_id=student_id\n",
    "        self.grades={'國':0, '英':0, '數':0}\n",
    "        \n",
    "    def set_grade(self, course, grade):\n",
    "        if course in self.grades:\n",
    "            self.grades[course]=grade\n",
    "    \n",
    "    def print_grade(self):\n",
    "        print(f'學生{self.name}(學號:{self.student_id})成績為')\n",
    "        for course in self.grades:\n",
    "            print(f'{course}:{self.grades[course]}分')\n",
    "        \n",
    "chen=Student('陳','10010')\n",
    "chen.set_grade('數',95)\n",
    "chen.name\n",
    "chen.print_grade()"
   ]
  },
  {
   "cell_type": "code",
   "execution_count": 1,
   "id": "ed7984d9",
   "metadata": {},
   "outputs": [
    {
     "name": "stdout",
     "output_type": "stream",
     "text": [
      "l\n"
     ]
    }
   ],
   "source": [
    "print('l')"
   ]
  },
  {
   "cell_type": "code",
   "execution_count": 5,
   "id": "90429807",
   "metadata": {},
   "outputs": [
    {
     "name": "stdout",
     "output_type": "stream",
     "text": [
      "['c', 'a', 'b', 'd']\n"
     ]
    },
    {
     "data": {
      "text/plain": [
       "'cabd'"
      ]
     },
     "execution_count": 5,
     "metadata": {},
     "output_type": "execute_result"
    }
   ],
   "source": [
    "msg='c a b d'\n",
    "message=msg.split(' ')\n",
    "print(message)\n",
    "result=''.join(message)\n",
    "result"
   ]
  },
  {
   "cell_type": "code",
   "execution_count": 6,
   "id": "70a74f66",
   "metadata": {},
   "outputs": [],
   "source": [
    "#玩遊戲!!"
   ]
  },
  {
   "cell_type": "code",
   "execution_count": 9,
   "id": "073b6528",
   "metadata": {},
   "outputs": [
    {
     "name": "stdout",
     "output_type": "stream",
     "text": [
      "the num3\n",
      "奇\n"
     ]
    }
   ],
   "source": [
    "#1奇偶數辨別\n",
    "\n",
    "num=int(input('the num'))\n",
    "if num%2==0:\n",
    "    print('偶')\n",
    "else:\n",
    "    print('奇')"
   ]
  },
  {
   "cell_type": "code",
   "execution_count": 24,
   "id": "d572d3ed",
   "metadata": {},
   "outputs": [
    {
     "name": "stdout",
     "output_type": "stream",
     "text": [
      "input something1\n",
      "input something3\n",
      "input somethingq\n"
     ]
    },
    {
     "data": {
      "text/plain": [
       "'1,3'"
      ]
     },
     "execution_count": 24,
     "metadata": {},
     "output_type": "execute_result"
    }
   ],
   "source": [
    "#2填字遊戲\n",
    "#使用者輸入任何字，它可以是名詞、形容詞、動詞、代名詞等。程式得到文字後，可自行排列，組成成一個故事。\n",
    "import random\n",
    "\n",
    "array8=[]\n",
    "put=input('input something')\n",
    "while put !='q':\n",
    "    array8.append(put)\n",
    "    put=input('input something')\n",
    "','.join(random.sample(array8,2))"
   ]
  },
  {
   "cell_type": "code",
   "execution_count": 26,
   "id": "ebc0ae3d",
   "metadata": {},
   "outputs": [
    {
     "name": "stdout",
     "output_type": "stream",
     "text": [
      "input something1435\n"
     ]
    },
    {
     "data": {
      "text/plain": [
       "'4個字'"
      ]
     },
     "execution_count": 26,
     "metadata": {},
     "output_type": "execute_result"
    }
   ],
   "source": [
    "#計算字數\n",
    "#使用者輸入一段文字，程式統計字數。\n",
    "number=input('input something')\n",
    "f'{len(number)}個字'"
   ]
  },
  {
   "cell_type": "code",
   "execution_count": 42,
   "id": "0fd82b4e",
   "metadata": {},
   "outputs": [
    {
     "name": "stdout",
     "output_type": "stream",
     "text": [
      "num12\n",
      "num24\n"
     ]
    },
    {
     "data": {
      "text/plain": [
       "6"
      ]
     },
     "execution_count": 42,
     "metadata": {},
     "output_type": "execute_result"
    }
   ],
   "source": [
    "#1：\n",
    "num1=int(input('num1'))\n",
    "num2=int(input('num2'))\n",
    "sum=num1+num2\n",
    "sum"
   ]
  },
  {
   "cell_type": "code",
   "execution_count": 64,
   "id": "a62aefe2",
   "metadata": {},
   "outputs": [
    {
     "data": {
      "text/plain": [
       "6"
      ]
     },
     "execution_count": 64,
     "metadata": {},
     "output_type": "execute_result"
    }
   ],
   "source": [
    "#2階層 1*1 2*1 3*2*1 5*4*3*2*1\n",
    "def inner(num):\n",
    "    result=1\n",
    "    while num!=1:\n",
    "        result*=num\n",
    "        num-=1\n",
    "    return result\n",
    "\n",
    "\n",
    "inner(3)"
   ]
  },
  {
   "cell_type": "code",
   "execution_count": 72,
   "id": "e8d6cff3",
   "metadata": {},
   "outputs": [
    {
     "name": "stdout",
     "output_type": "stream",
     "text": [
      "r num3\n"
     ]
    },
    {
     "data": {
      "text/plain": [
       "28.27"
      ]
     },
     "execution_count": 72,
     "metadata": {},
     "output_type": "execute_result"
    }
   ],
   "source": [
    "#3\n",
    "import math\n",
    "r=float(input('r num'))\n",
    "area=round(r*r*math.pi,2)\n",
    "area"
   ]
  },
  {
   "cell_type": "code",
   "execution_count": 83,
   "id": "7ea170f8",
   "metadata": {},
   "outputs": [
    {
     "data": {
      "text/plain": [
       "False"
      ]
     },
     "execution_count": 83,
     "metadata": {},
     "output_type": "execute_result"
    }
   ],
   "source": [
    "def is_prime(num):\n",
    "    for i in range(2, num):\n",
    "        if num %i ==0:\n",
    "            return False\n",
    "    return True\n",
    "        \n",
    "is_prime(9)"
   ]
  },
  {
   "cell_type": "code",
   "execution_count": 85,
   "id": "181e3cc3",
   "metadata": {},
   "outputs": [
    {
     "data": {
      "text/plain": [
       "55"
      ]
     },
     "execution_count": 85,
     "metadata": {},
     "output_type": "execute_result"
    }
   ],
   "source": [
    "#5\n",
    "def sums(num):\n",
    "    result=1\n",
    "    while num>1:\n",
    "        result+=num**2\n",
    "        num-=1\n",
    "    return result\n",
    "\n",
    "sums(5)"
   ]
  },
  {
   "cell_type": "code",
   "execution_count": 101,
   "id": "f8222230",
   "metadata": {},
   "outputs": [
    {
     "name": "stdout",
     "output_type": "stream",
     "text": [
      "input something2\n",
      "input something3\n",
      "input something4\n",
      "input somethingq\n"
     ]
    },
    {
     "data": {
      "text/plain": [
       "9"
      ]
     },
     "execution_count": 101,
     "metadata": {},
     "output_type": "execute_result"
    }
   ],
   "source": [
    "#6\n",
    "a=input('input something')\n",
    "sum=0\n",
    "while a!='q':\n",
    "    sum+=int(a)\n",
    "    a=input('input something')\n",
    "sum"
   ]
  },
  {
   "cell_type": "code",
   "execution_count": 102,
   "id": "0dbcc550",
   "metadata": {},
   "outputs": [
    {
     "name": "stdout",
     "output_type": "stream",
     "text": [
      "begin1\n",
      "end10\n"
     ]
    },
    {
     "data": {
      "text/plain": [
       "[2, 4, 6, 8, 10]"
      ]
     },
     "execution_count": 102,
     "metadata": {},
     "output_type": "execute_result"
    }
   ],
   "source": [
    "#7\n",
    "begin=int(input('begin'))\n",
    "end=int(input('end'))\n",
    "array=[]\n",
    "for i in range(begin, end+1):\n",
    "    if i %2==0:\n",
    "        array.append(i)\n",
    "array"
   ]
  },
  {
   "cell_type": "code",
   "execution_count": 112,
   "id": "b26dce5d",
   "metadata": {},
   "outputs": [
    {
     "ename": "KeyboardInterrupt",
     "evalue": "Interrupted by user",
     "output_type": "error",
     "traceback": [
      "\u001b[0;31m---------------------------------------------------------------------------\u001b[0m",
      "\u001b[0;31mKeyboardInterrupt\u001b[0m                         Traceback (most recent call last)",
      "Cell \u001b[0;32mIn[112], line 2\u001b[0m\n\u001b[1;32m      1\u001b[0m \u001b[38;5;66;03m#8\u001b[39;00m\n\u001b[0;32m----> 2\u001b[0m a\u001b[38;5;241m=\u001b[39m\u001b[38;5;28;43minput\u001b[39;49m\u001b[43m(\u001b[49m\u001b[38;5;124;43m'\u001b[39;49m\u001b[38;5;124;43minput something\u001b[39;49m\u001b[38;5;124;43m'\u001b[39;49m\u001b[43m)\u001b[49m\n\u001b[1;32m      3\u001b[0m array\u001b[38;5;241m=\u001b[39m[]\n\u001b[1;32m      4\u001b[0m \u001b[38;5;28;01mwhile\u001b[39;00m a \u001b[38;5;241m!=\u001b[39m\u001b[38;5;124m'\u001b[39m\u001b[38;5;124mq\u001b[39m\u001b[38;5;124m'\u001b[39m:\n",
      "File \u001b[0;32m~/projects/jupyter/lib/python3.10/site-packages/ipykernel/kernelbase.py:1182\u001b[0m, in \u001b[0;36mKernel.raw_input\u001b[0;34m(self, prompt)\u001b[0m\n\u001b[1;32m   1180\u001b[0m     msg \u001b[38;5;241m=\u001b[39m \u001b[38;5;124m\"\u001b[39m\u001b[38;5;124mraw_input was called, but this frontend does not support input requests.\u001b[39m\u001b[38;5;124m\"\u001b[39m\n\u001b[1;32m   1181\u001b[0m     \u001b[38;5;28;01mraise\u001b[39;00m StdinNotImplementedError(msg)\n\u001b[0;32m-> 1182\u001b[0m \u001b[38;5;28;01mreturn\u001b[39;00m \u001b[38;5;28;43mself\u001b[39;49m\u001b[38;5;241;43m.\u001b[39;49m\u001b[43m_input_request\u001b[49m\u001b[43m(\u001b[49m\n\u001b[1;32m   1183\u001b[0m \u001b[43m    \u001b[49m\u001b[38;5;28;43mstr\u001b[39;49m\u001b[43m(\u001b[49m\u001b[43mprompt\u001b[49m\u001b[43m)\u001b[49m\u001b[43m,\u001b[49m\n\u001b[1;32m   1184\u001b[0m \u001b[43m    \u001b[49m\u001b[38;5;28;43mself\u001b[39;49m\u001b[38;5;241;43m.\u001b[39;49m\u001b[43m_parent_ident\u001b[49m\u001b[43m[\u001b[49m\u001b[38;5;124;43m\"\u001b[39;49m\u001b[38;5;124;43mshell\u001b[39;49m\u001b[38;5;124;43m\"\u001b[39;49m\u001b[43m]\u001b[49m\u001b[43m,\u001b[49m\n\u001b[1;32m   1185\u001b[0m \u001b[43m    \u001b[49m\u001b[38;5;28;43mself\u001b[39;49m\u001b[38;5;241;43m.\u001b[39;49m\u001b[43mget_parent\u001b[49m\u001b[43m(\u001b[49m\u001b[38;5;124;43m\"\u001b[39;49m\u001b[38;5;124;43mshell\u001b[39;49m\u001b[38;5;124;43m\"\u001b[39;49m\u001b[43m)\u001b[49m\u001b[43m,\u001b[49m\n\u001b[1;32m   1186\u001b[0m \u001b[43m    \u001b[49m\u001b[43mpassword\u001b[49m\u001b[38;5;241;43m=\u001b[39;49m\u001b[38;5;28;43;01mFalse\u001b[39;49;00m\u001b[43m,\u001b[49m\n\u001b[1;32m   1187\u001b[0m \u001b[43m\u001b[49m\u001b[43m)\u001b[49m\n",
      "File \u001b[0;32m~/projects/jupyter/lib/python3.10/site-packages/ipykernel/kernelbase.py:1225\u001b[0m, in \u001b[0;36mKernel._input_request\u001b[0;34m(self, prompt, ident, parent, password)\u001b[0m\n\u001b[1;32m   1222\u001b[0m \u001b[38;5;28;01mexcept\u001b[39;00m \u001b[38;5;167;01mKeyboardInterrupt\u001b[39;00m:\n\u001b[1;32m   1223\u001b[0m     \u001b[38;5;66;03m# re-raise KeyboardInterrupt, to truncate traceback\u001b[39;00m\n\u001b[1;32m   1224\u001b[0m     msg \u001b[38;5;241m=\u001b[39m \u001b[38;5;124m\"\u001b[39m\u001b[38;5;124mInterrupted by user\u001b[39m\u001b[38;5;124m\"\u001b[39m\n\u001b[0;32m-> 1225\u001b[0m     \u001b[38;5;28;01mraise\u001b[39;00m \u001b[38;5;167;01mKeyboardInterrupt\u001b[39;00m(msg) \u001b[38;5;28;01mfrom\u001b[39;00m \u001b[38;5;28mNone\u001b[39m\n\u001b[1;32m   1226\u001b[0m \u001b[38;5;28;01mexcept\u001b[39;00m \u001b[38;5;167;01mException\u001b[39;00m:\n\u001b[1;32m   1227\u001b[0m     \u001b[38;5;28mself\u001b[39m\u001b[38;5;241m.\u001b[39mlog\u001b[38;5;241m.\u001b[39mwarning(\u001b[38;5;124m\"\u001b[39m\u001b[38;5;124mInvalid Message:\u001b[39m\u001b[38;5;124m\"\u001b[39m, exc_info\u001b[38;5;241m=\u001b[39m\u001b[38;5;28;01mTrue\u001b[39;00m)\n",
      "\u001b[0;31mKeyboardInterrupt\u001b[0m: Interrupted by user"
     ]
    }
   ],
   "source": [
    "#8\n",
    "a=input('input something')\n",
    "array=[]\n",
    "while a !='q':\n",
    "    array.append(a)\n",
    "    a=input('input something')\n",
    "if \"8\" or \"9\" in array:\n",
    "    array.remove(\"8\")\n",
    "array"
   ]
  },
  {
   "cell_type": "code",
   "execution_count": 115,
   "id": "389dc0c4",
   "metadata": {},
   "outputs": [
    {
     "data": {
      "text/plain": [
       "[10, 20, 30]"
      ]
     },
     "execution_count": 115,
     "metadata": {},
     "output_type": "execute_result"
    }
   ],
   "source": [
    "lista=[10,10,20,30]\n",
    "listb=set(lista)\n",
    "list(listb)"
   ]
  },
  {
   "cell_type": "code",
   "execution_count": 125,
   "id": "4ae9abb7",
   "metadata": {},
   "outputs": [
    {
     "ename": "TypeError",
     "evalue": "'int' object is not callable",
     "output_type": "error",
     "traceback": [
      "\u001b[0;31m---------------------------------------------------------------------------\u001b[0m",
      "\u001b[0;31mTypeError\u001b[0m                                 Traceback (most recent call last)",
      "Cell \u001b[0;32mIn[125], line 6\u001b[0m\n\u001b[1;32m      1\u001b[0m arr \u001b[38;5;241m=\u001b[39m [\u001b[38;5;241m12\u001b[39m, \u001b[38;5;241m3\u001b[39m, \u001b[38;5;241m4\u001b[39m, \u001b[38;5;241m15\u001b[39m]\n\u001b[1;32m      3\u001b[0m \u001b[38;5;66;03m# sum() is an inbuilt function in python that adds\u001b[39;00m\n\u001b[1;32m      4\u001b[0m \u001b[38;5;66;03m# all the elements in list,set and tuples and returns\u001b[39;00m\n\u001b[1;32m      5\u001b[0m \u001b[38;5;66;03m# the value\u001b[39;00m\n\u001b[0;32m----> 6\u001b[0m \u001b[38;5;28;43msum\u001b[39;49m\u001b[43m(\u001b[49m\u001b[43marr\u001b[49m\u001b[43m)\u001b[49m\n",
      "\u001b[0;31mTypeError\u001b[0m: 'int' object is not callable"
     ]
    }
   ],
   "source": [
    "arr = [12, 3, 4, 15]\n",
    "\n",
    "# sum() is an inbuilt function in python that adds\n",
    "# all the elements in list,set and tuples and returns\n",
    "# the value\n",
    "sum(arr)"
   ]
  },
  {
   "cell_type": "code",
   "execution_count": 126,
   "id": "8391a3d8",
   "metadata": {},
   "outputs": [
    {
     "data": {
      "text/plain": [
       "[2, 4, 5]"
      ]
     },
     "execution_count": 126,
     "metadata": {},
     "output_type": "execute_result"
    }
   ],
   "source": [
    "list1=[2,3,4,5]\n",
    "list2=[3]\n",
    "for i in list2:\n",
    "    list1.remove(i)\n",
    "list1"
   ]
  },
  {
   "cell_type": "code",
   "execution_count": 128,
   "id": "7b2f3444",
   "metadata": {},
   "outputs": [
    {
     "data": {
      "text/plain": [
       "[6, 4, 3, 2, 1]"
      ]
     },
     "execution_count": 128,
     "metadata": {},
     "output_type": "execute_result"
    }
   ],
   "source": [
    "lista=[2,1,4,6,3]\n",
    "sorted(lista, reverse=True)"
   ]
  },
  {
   "cell_type": "code",
   "execution_count": 135,
   "id": "cbe803c3",
   "metadata": {},
   "outputs": [
    {
     "data": {
      "text/plain": [
       "[60, 80, 90]"
      ]
     },
     "execution_count": 135,
     "metadata": {},
     "output_type": "execute_result"
    }
   ],
   "source": [
    "student={'1':90, '2':80, '3':60}\n",
    "sorted(student.values())"
   ]
  },
  {
   "cell_type": "code",
   "execution_count": 142,
   "id": "9f378685",
   "metadata": {},
   "outputs": [
    {
     "data": {
      "text/plain": [
       "[3,\n",
       " 6,\n",
       " 7,\n",
       " 8,\n",
       " 9,\n",
       " 11,\n",
       " 12,\n",
       " 13,\n",
       " 14,\n",
       " 15,\n",
       " 16,\n",
       " 17,\n",
       " 18,\n",
       " 19,\n",
       " 21,\n",
       " 22,\n",
       " 23,\n",
       " 24,\n",
       " 26,\n",
       " 27,\n",
       " 28,\n",
       " 29,\n",
       " 30,\n",
       " 31,\n",
       " 32,\n",
       " 33,\n",
       " 34,\n",
       " 35,\n",
       " 36,\n",
       " 37,\n",
       " 38,\n",
       " 39,\n",
       " 40,\n",
       " 41,\n",
       " 42,\n",
       " 43,\n",
       " 44,\n",
       " 45,\n",
       " 46,\n",
       " 47,\n",
       " 48,\n",
       " 49,\n",
       " 51,\n",
       " 52,\n",
       " 53,\n",
       " 54,\n",
       " 55,\n",
       " 56,\n",
       " 57,\n",
       " 58,\n",
       " 59,\n",
       " 60,\n",
       " 61,\n",
       " 62,\n",
       " 63,\n",
       " 64,\n",
       " 65,\n",
       " 66,\n",
       " 67,\n",
       " 68,\n",
       " 69,\n",
       " 70,\n",
       " 71,\n",
       " 72,\n",
       " 73,\n",
       " 74,\n",
       " 75,\n",
       " 76,\n",
       " 77,\n",
       " 78,\n",
       " 79,\n",
       " 80,\n",
       " 81,\n",
       " 82,\n",
       " 83,\n",
       " 84,\n",
       " 85,\n",
       " 86,\n",
       " 87,\n",
       " 88,\n",
       " 89,\n",
       " 90,\n",
       " 91,\n",
       " 92,\n",
       " 93,\n",
       " 94,\n",
       " 95,\n",
       " 96,\n",
       " 97,\n",
       " 98,\n",
       " 99]"
      ]
     },
     "execution_count": 142,
     "metadata": {},
     "output_type": "execute_result"
    }
   ],
   "source": [
    "list=[]\n",
    "for i in range(2,100):\n",
    "    if 100 % i ==0:\n",
    "        continue\n",
    "    else:\n",
    "        list.append(i)\n",
    "list"
   ]
  },
  {
   "cell_type": "code",
   "execution_count": null,
   "id": "486be563",
   "metadata": {},
   "outputs": [],
   "source": []
  },
  {
   "cell_type": "code",
   "execution_count": null,
   "id": "574f49d3",
   "metadata": {},
   "outputs": [],
   "source": []
  },
  {
   "cell_type": "code",
   "execution_count": null,
   "id": "c6fb1b37",
   "metadata": {},
   "outputs": [],
   "source": []
  },
  {
   "cell_type": "code",
   "execution_count": null,
   "id": "41be52e4",
   "metadata": {},
   "outputs": [],
   "source": []
  },
  {
   "cell_type": "code",
   "execution_count": null,
   "id": "87c23395",
   "metadata": {},
   "outputs": [],
   "source": []
  },
  {
   "cell_type": "code",
   "execution_count": null,
   "id": "b251c625",
   "metadata": {},
   "outputs": [],
   "source": []
  }
 ],
 "metadata": {
  "kernelspec": {
   "display_name": "Python 3 (ipykernel)",
   "language": "python",
   "name": "python3"
  },
  "language_info": {
   "codemirror_mode": {
    "name": "ipython",
    "version": 3
   },
   "file_extension": ".py",
   "mimetype": "text/x-python",
   "name": "python",
   "nbconvert_exporter": "python",
   "pygments_lexer": "ipython3",
   "version": "3.10.12"
  }
 },
 "nbformat": 4,
 "nbformat_minor": 5
}
