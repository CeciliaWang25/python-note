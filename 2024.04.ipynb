{
 "cells": [
  {
   "cell_type": "code",
   "execution_count": 53,
   "id": "b55f49e2",
   "metadata": {},
   "outputs": [
    {
     "name": "stdout",
     "output_type": "stream",
     "text": [
      "How much is the bill?100\n",
      "How much % tip do you want to pay?10\n",
      "How many person do you have?2\n",
      "Everyone should pay 55.0\n"
     ]
    }
   ],
   "source": [
    "#P24 帳單分帳，小費隨意，計算每個人要付的金額為??\n",
    "def calculate_payment(total_bill, tip_amount, total_person):\n",
    "    total_payment = total_bill + total_bill* (tip_amount/100)\n",
    "    \n",
    "    payment_per_person = total_payment / total_person\n",
    "    return payment_per_person\n",
    "    \n",
    "def main():\n",
    "    total_bill = int(input('How much is the bill?'))\n",
    "    tip_amount = int(input('How much % tip do you want to pay?'))\n",
    "    total_person = int(input('How many person do you have?'))\n",
    "    \n",
    "    payment_per_person = calculate_payment(total_bill, tip_amount, total_person)\n",
    "    print(f'Everyone should pay {payment_per_person}')\n",
    "    \n",
    "if __name__ == '__main__':\n",
    "    main()"
   ]
  },
  {
   "cell_type": "code",
   "execution_count": 55,
   "id": "78e5a423",
   "metadata": {},
   "outputs": [
    {
     "name": "stdout",
     "output_type": "stream",
     "text": [
      "Which year do you want to check?1996\n",
      "1996 is leap year\n"
     ]
    }
   ],
   "source": [
    "#P31 計算閏年，除以四年是閏年，非100的倍數是閏年，400的倍數也是閏年\n",
    "\n",
    "def is_leap_year(year):\n",
    "    if (year % 4 == 0 and year % 100 != 0) or (year % 400 == 0):\n",
    "        return True\n",
    "    else:\n",
    "        return False\n",
    "    \n",
    "def main():\n",
    "    year = int(input('Which year do you want to check?'))\n",
    "    if is_leap_year(year):\n",
    "        print(f'{year} is leap year')\n",
    "    else:\n",
    "        print(f'{year} is not leap year')\n",
    "\n",
    "if __name__ == '__main__':\n",
    "    main()"
   ]
  },
  {
   "cell_type": "code",
   "execution_count": 60,
   "id": "c6eb2a3d",
   "metadata": {},
   "outputs": [
    {
     "name": "stdout",
     "output_type": "stream",
     "text": [
      "請輸入身高（公分）：150\n",
      "請輸入年齡類別（小孩、年輕人、成人）：小孩\n",
      "是否加購照片（是/否）：是\n",
      "您需要支付的價錢為： 8 元。\n"
     ]
    }
   ],
   "source": [
    "#120公分以上的人能搭乘摩天輪。小孩年輕人成人票價各為5,7,12。若要加購照片則加三塊，計算價錢\n",
    "def calculate_price(height, age_category, include_photo):\n",
    "    # 根據身高判斷是否可以搭乘摩天輪\n",
    "    if height >= 120:\n",
    "        # 根據年齡類別選擇票價\n",
    "        if age_category == \"小孩\":\n",
    "            ticket_price = 5\n",
    "        elif age_category == \"年輕人\":\n",
    "            ticket_price = 7\n",
    "        elif age_category == \"成人\":\n",
    "            ticket_price = 12\n",
    "        else:\n",
    "            return \"無效的年齡類別。\"\n",
    "        \n",
    "        # 計算票價\n",
    "        price = ticket_price\n",
    "        # 如果加購照片，則加三塊\n",
    "        if include_photo:\n",
    "            price += 3\n",
    "        return price\n",
    "    else:\n",
    "        return \"身高不足，無法搭乘摩天輪。\"\n",
    "\n",
    "def main():\n",
    "    height = int(input(\"請輸入身高（公分）：\"))\n",
    "    age_category = input(\"請輸入年齡類別（小孩、年輕人、成人）：\")\n",
    "    include_photo = input(\"是否加購照片（是/否）：\").lower() == \"是\"\n",
    "\n",
    "    # 計算價錢\n",
    "    price = calculate_price(height, age_category, include_photo)\n",
    "\n",
    "    if isinstance(price, int):\n",
    "        print(\"您需要支付的價錢為：\", price, \"元。\")\n",
    "    else:\n",
    "        print(price)\n",
    "\n",
    "if __name__ == \"__main__\":\n",
    "    main()\n"
   ]
  },
  {
   "cell_type": "code",
   "execution_count": 72,
   "id": "d6d8e01e",
   "metadata": {},
   "outputs": [
    {
     "name": "stdout",
     "output_type": "stream",
     "text": [
      "請選擇 Pizza 大小（小、中、大）：大\n",
      "請選擇加料（香腸/不加）：香腸\n",
      "是否加額外的起司（是/否）：否\n"
     ]
    },
    {
     "ename": "NameError",
     "evalue": "name 'extra_cheese' is not defined",
     "output_type": "error",
     "traceback": [
      "\u001b[0;31m---------------------------------------------------------------------------\u001b[0m",
      "\u001b[0;31mNameError\u001b[0m                                 Traceback (most recent call last)",
      "Cell \u001b[0;32mIn[72], line 43\u001b[0m\n\u001b[1;32m     40\u001b[0m         \u001b[38;5;28mprint\u001b[39m(price)\n\u001b[1;32m     42\u001b[0m \u001b[38;5;28;01mif\u001b[39;00m \u001b[38;5;18m__name__\u001b[39m \u001b[38;5;241m==\u001b[39m \u001b[38;5;124m\"\u001b[39m\u001b[38;5;124m__main__\u001b[39m\u001b[38;5;124m\"\u001b[39m:\n\u001b[0;32m---> 43\u001b[0m     \u001b[43mmain\u001b[49m\u001b[43m(\u001b[49m\u001b[43m)\u001b[49m\n",
      "Cell \u001b[0;32mIn[72], line 33\u001b[0m, in \u001b[0;36mmain\u001b[0;34m()\u001b[0m\n\u001b[1;32m     29\u001b[0m extra_cheese_input \u001b[38;5;241m=\u001b[39m \u001b[38;5;28minput\u001b[39m(\u001b[38;5;124m\"\u001b[39m\u001b[38;5;124m是否加額外的起司（是/否）：\u001b[39m\u001b[38;5;124m\"\u001b[39m)\u001b[38;5;241m.\u001b[39mlower() \u001b[38;5;241m==\u001b[39m \u001b[38;5;124m\"\u001b[39m\u001b[38;5;124m是\u001b[39m\u001b[38;5;124m\"\u001b[39m\n\u001b[1;32m     32\u001b[0m \u001b[38;5;66;03m# 計算價格\u001b[39;00m\n\u001b[0;32m---> 33\u001b[0m price \u001b[38;5;241m=\u001b[39m calculate_pizza_price(size, topping, \u001b[43mextra_cheese\u001b[49m)\n\u001b[1;32m     34\u001b[0m \u001b[38;5;28mprint\u001b[39m(price)\n\u001b[1;32m     36\u001b[0m \u001b[38;5;66;03m# 顯示價格\u001b[39;00m\n",
      "\u001b[0;31mNameError\u001b[0m: name 'extra_cheese' is not defined"
     ]
    }
   ],
   "source": [
    "#P33 Pizza價格15, 20, 25並印出。加香腸+2元。中大pizza香腸+3元。加額外的起司+1\n",
    "\n",
    "def calculate_pizza_price(size, topping, extra_cheese):\n",
    "    # 根據 Pizza 的大小選擇基本價格\n",
    "    if size == \"小\":\n",
    "        price = 15\n",
    "    elif size == \"中\":\n",
    "        price = 20\n",
    "    elif size == \"大\":\n",
    "        price = 25\n",
    "    else:\n",
    "        return \"無效的 Pizza 大小。\"\n",
    "\n",
    "    # 根據加料情況增加價格\n",
    "    if topping == \"香腸\":\n",
    "        if size == \"中\" or size == \"大\":\n",
    "            price += 3\n",
    "        else:\n",
    "            price += 2\n",
    "    if extra_cheese:\n",
    "        price += 1\n",
    "\n",
    "    return price\n",
    "\n",
    "def main():\n",
    "    # 設置 Pizza 大小和加料情況\n",
    "    size = input(\"請選擇 Pizza 大小（小、中、大）：\")\n",
    "    topping = input(\"請選擇加料（香腸/不加）：\")\n",
    "    extra_cheese_input = input(\"是否加額外的起司（是/否）：\").lower() == \"是\"\n",
    "\n",
    "\n",
    "    # 計算價格\n",
    "    price = calculate_pizza_price(size, topping, extra_cheese)\n",
    "\n",
    "    # 顯示價格\n",
    "    if isinstance(price, int):\n",
    "        print(\"您需要支付的價格為：\", price, \"元。\")\n",
    "    else:\n",
    "        print(price)\n",
    "\n",
    "if __name__ == \"__main__\":\n",
    "    main()\n"
   ]
  },
  {
   "cell_type": "code",
   "execution_count": 48,
   "id": "b72cee97",
   "metadata": {},
   "outputs": [
    {
     "name": "stdout",
     "output_type": "stream",
     "text": [
      "[None, None, None]\n",
      "[None, None, '寶藏']\n",
      "[None, None, None]\n"
     ]
    }
   ],
   "source": [
    "import random\n",
    "\n",
    "# 初始化一個 3x3 的二維列表，用 None 代表空格\n",
    "board = [[None, None, None],\n",
    "         [None, None, None],\n",
    "         [None, None, None]]\n",
    "\n",
    "# 在隨機位置放置寶藏\n",
    "treasure_row = random.randint(0, 2)\n",
    "treasure_col = random.randint(0, 2)\n",
    "board[treasure_row][treasure_col] = \"寶藏\"\n",
    "\n",
    "# 顯示帶有寶藏的陣列\n",
    "for row in board:\n",
    "    print(row)\n"
   ]
  },
  {
   "cell_type": "code",
   "execution_count": 49,
   "id": "74ad3844",
   "metadata": {},
   "outputs": [
    {
     "name": "stdout",
     "output_type": "stream",
     "text": [
      "請輸入你的名字：王\n",
      "王應該買咖啡。\n"
     ]
    }
   ],
   "source": [
    "import random\n",
    "\n",
    "def generate_payment(name):\n",
    "    payments = [\"買咖啡\", \"付餐費\", \"支付電影票\", \"買點心\", \"給小費\"]\n",
    "    return random.choice(payments)\n",
    "\n",
    "def main():\n",
    "    name = input(\"請輸入你的名字：\")\n",
    "    payment = generate_payment(name)\n",
    "    print(name + \"應該\" + payment + \"。\")\n",
    "\n",
    "if __name__ == \"__main__\":\n",
    "    main()\n"
   ]
  },
  {
   "cell_type": "code",
   "execution_count": 75,
   "id": "6d789970",
   "metadata": {},
   "outputs": [
    {
     "name": "stdout",
     "output_type": "stream",
     "text": [
      "請選擇（剪刀、石頭、布）：剪刀\n",
      "歡迎來到剪刀石頭布遊戲！\n",
      "你的選擇： 剪刀\n",
      "電腦的選擇： 剪刀\n",
      "平手！\n"
     ]
    }
   ],
   "source": [
    "import random\n",
    "\n",
    "def get_user_choice():\n",
    "    user_choice = input(\"請選擇（剪刀、石頭、布）：\")\n",
    "    return user_choice\n",
    "\n",
    "def get_computer_choice():\n",
    "    choices = ['剪刀', '石頭', '布']\n",
    "    return random.choice(choices)\n",
    "\n",
    "def determine_winner(user_choice, computer_choice):\n",
    "    if user_choice == computer_choice:\n",
    "        return \"平手！\"\n",
    "    elif (user_choice == '剪刀' and computer_choice == '布') or \\\n",
    "         (user_choice == '石頭' and computer_choice == '剪刀') or \\\n",
    "         (user_choice == '布' and computer_choice == '石頭'):\n",
    "        return \"恭喜，你贏了！\"\n",
    "    else:\n",
    "        return \"很遺憾，你輸了。\"\n",
    "\n",
    "def main():\n",
    "    print(\"歡迎來到剪刀石頭布遊戲！\")\n",
    "    user_choice = get_user_choice()\n",
    "    computer_choice = get_computer_choice()\n",
    "    print(\"你的選擇：\", user_choice)\n",
    "    print(\"電腦的選擇：\", computer_choice)\n",
    "    print(determine_winner(user_choice, computer_choice))\n",
    "\n",
    "if __name__ == \"__main__\":\n",
    "    main()\n"
   ]
  },
  {
   "cell_type": "code",
   "execution_count": null,
   "id": "5dec3194",
   "metadata": {},
   "outputs": [
    {
     "name": "stdout",
     "output_type": "stream",
     "text": [
      "請輸入學生身高（輸入'完成'以結束）：100 200\n",
      "100 200 <class 'str'>\n",
      "請輸入有效的數字。\n"
     ]
    }
   ],
   "source": [
    "def calculate_average_height(heights):\n",
    "    if not heights:\n",
    "        return \"沒有輸入學生身高。\"\n",
    "    total_height = sum(heights)\n",
    "    average_height = total_height / len(heights)\n",
    "    return average_height\n",
    "\n",
    "def main():\n",
    "    # 輸入學生身高\n",
    "    while True:\n",
    "        height = input(\"請輸入學生身高（輸入'完成'以結束）：\")\n",
    "        print(height, type(height))\n",
    "        heigts = height.split(\" \")\n",
    "        try:\n",
    "            height = float(height)\n",
    "            heights.append(height)\n",
    "        except ValueError:\n",
    "            print(\"請輸入有效的數字。\")\n",
    "\n",
    "    # 將身高排序\n",
    "    heights.sort()\n",
    "\n",
    "    # 顯示排序後的身高\n",
    "    print(\"排序後的學生身高：\", heights)\n",
    "\n",
    "    # 計算平均身高\n",
    "    average_height = calculate_average_height(heights)\n",
    "    print(\"平均身高為：\", average_height)\n",
    "\n",
    "if __name__ == \"__main__\":\n",
    "    main()\n"
   ]
  },
  {
   "cell_type": "code",
   "execution_count": null,
   "id": "8dcf27e3",
   "metadata": {},
   "outputs": [],
   "source": []
  },
  {
   "cell_type": "code",
   "execution_count": null,
   "id": "3229e76d",
   "metadata": {},
   "outputs": [],
   "source": []
  },
  {
   "cell_type": "code",
   "execution_count": null,
   "id": "f3b4af5f",
   "metadata": {},
   "outputs": [],
   "source": []
  }
 ],
 "metadata": {
  "kernelspec": {
   "display_name": "Python 3 (ipykernel)",
   "language": "python",
   "name": "python3"
  },
  "language_info": {
   "codemirror_mode": {
    "name": "ipython",
    "version": 3
   },
   "file_extension": ".py",
   "mimetype": "text/x-python",
   "name": "python",
   "nbconvert_exporter": "python",
   "pygments_lexer": "ipython3",
   "version": "3.10.12"
  }
 },
 "nbformat": 4,
 "nbformat_minor": 5
}
