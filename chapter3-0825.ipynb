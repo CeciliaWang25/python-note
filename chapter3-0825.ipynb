{
 "cells": [
  {
   "cell_type": "code",
   "execution_count": 4,
   "id": "1c967435",
   "metadata": {},
   "outputs": [
    {
     "name": "stdout",
     "output_type": "stream",
     "text": [
      "one number1\n",
      "two number4\n",
      "three number2\n"
     ]
    },
    {
     "data": {
      "text/plain": [
       "[1, 2, 4]"
      ]
     },
     "execution_count": 4,
     "metadata": {},
     "output_type": "execute_result"
    }
   ],
   "source": [
    "#比較abc\n",
    "a=int(input('one number'))\n",
    "b=int(input('two number'))\n",
    "c=int(input('three number'))\n",
    "list=[a,b,c]\n",
    "sorted(list)"
   ]
  },
  {
   "cell_type": "code",
   "execution_count": 14,
   "id": "460b12ab",
   "metadata": {},
   "outputs": [
    {
     "name": "stdout",
     "output_type": "stream",
     "text": [
      "\n",
      "1x1=1 \n",
      "2x1=2 2x2=4 \n",
      "3x1=3 3x2=6 3x3=9 \n",
      "4x1=4 4x2=8 4x3=12 4x4=16 \n",
      "5x1=5 5x2=10 5x3=15 5x4=20 5x5=25 \n",
      "6x1=6 6x2=12 6x3=18 6x4=24 6x5=30 6x6=36 \n",
      "7x1=7 7x2=14 7x3=21 7x4=28 7x5=35 7x6=42 7x7=49 \n",
      "8x1=8 8x2=16 8x3=24 8x4=32 8x5=40 8x6=48 8x7=56 8x8=64 \n",
      "9x1=9 9x2=18 9x3=27 9x4=36 9x5=45 9x6=54 9x7=63 9x8=72 9x9=81 "
     ]
    }
   ],
   "source": [
    "for i in range(1, 10):\n",
    "    print()\n",
    "    for j in range(1,i+1):\n",
    "        print(f'{i}x{j}={i*j}', end=' ')"
   ]
  },
  {
   "cell_type": "code",
   "execution_count": 27,
   "id": "eefa32c6",
   "metadata": {},
   "outputs": [
    {
     "name": "stdout",
     "output_type": "stream",
     "text": [
      "1\n",
      "153\n",
      "370\n",
      "371\n",
      "407\n"
     ]
    }
   ],
   "source": [
    "#567\n",
    "\n",
    "for n in range(1,1000):\n",
    "    a=n//100\n",
    "    b=(n%100)//10\n",
    "    c=n%10\n",
    "    if a**3+b**3+c**3==n:\n",
    "        print(f'{n}')"
   ]
  },
  {
   "cell_type": "code",
   "execution_count": 33,
   "id": "a995345f",
   "metadata": {},
   "outputs": [
    {
     "name": "stdout",
     "output_type": "stream",
     "text": [
      "one number1234\n"
     ]
    },
    {
     "data": {
      "text/plain": [
       "'4321'"
      ]
     },
     "execution_count": 33,
     "metadata": {},
     "output_type": "execute_result"
    }
   ],
   "source": [
    "a=int(input('one number'))\n",
    "a=str(a)\n",
    "a=a[::-1]\n",
    "a"
   ]
  },
  {
   "cell_type": "code",
   "execution_count": 34,
   "id": "e7504ece",
   "metadata": {},
   "outputs": [
    {
     "name": "stdout",
     "output_type": "stream",
     "text": [
      "6\n",
      "28\n",
      "496\n"
     ]
    }
   ],
   "source": [
    "for i in range(1,1000):\n",
    "    sum=0\n",
    "    for j in range(1, i):\n",
    "        if i%j==0:\n",
    "            sum+=j\n",
    "    if sum ==  i:\n",
    "        print(f'{i}')"
   ]
  },
  {
   "cell_type": "code",
   "execution_count": 43,
   "id": "e4e6fcae",
   "metadata": {},
   "outputs": [
    {
     "name": "stdout",
     "output_type": "stream",
     "text": [
      "day1222 12 2\n"
     ]
    },
    {
     "data": {
      "text/plain": [
       "336"
      ]
     },
     "execution_count": 43,
     "metadata": {},
     "output_type": "execute_result"
    }
   ],
   "source": [
    "import datetime\n",
    "day=input('day')\n",
    "year, month, day=map(int, day.split(' '))\n",
    "\n",
    "one=datetime.datetime(year, 1, 1)\n",
    "now=datetime.datetime(year, month, day)\n",
    "\n",
    "(now-one).days+1"
   ]
  },
  {
   "cell_type": "code",
   "execution_count": 44,
   "id": "008fc340",
   "metadata": {},
   "outputs": [
    {
     "data": {
      "text/plain": [
       "[100, 50.0, 25.0, 12.5, 6.25, 3.125, 1.5625, 0.78125, 0.390625, 0.1953125]"
      ]
     },
     "execution_count": 44,
     "metadata": {},
     "output_type": "execute_result"
    }
   ],
   "source": [
    "n=100\n",
    "count=0\n",
    "list=[]\n",
    "\n",
    "while count<10:\n",
    "    list.append(n)\n",
    "    n/=2\n",
    "    count+=1\n",
    "list"
   ]
  },
  {
   "cell_type": "code",
   "execution_count": 47,
   "id": "6758c398",
   "metadata": {},
   "outputs": [
    {
     "data": {
      "text/plain": [
       "40.0"
      ]
     },
     "execution_count": 47,
     "metadata": {},
     "output_type": "execute_result"
    }
   ],
   "source": [
    "up=2\n",
    "down=1\n",
    "sum=0\n",
    "for i in range(20):\n",
    "    sum+=up/down\n",
    "    down=up\n",
    "    up=up+down\n",
    "    \n",
    "sum"
   ]
  },
  {
   "cell_type": "code",
   "execution_count": 6,
   "id": "cb512f61",
   "metadata": {},
   "outputs": [
    {
     "name": "stdout",
     "output_type": "stream",
     "text": [
      "number sort1 2 3\n"
     ]
    },
    {
     "data": {
      "text/plain": [
       "<map at 0x7f5908046620>"
      ]
     },
     "execution_count": 6,
     "metadata": {},
     "output_type": "execute_result"
    }
   ],
   "source": [
    "a=map(int,input('number sort').split())\n",
    "a."
   ]
  },
  {
   "cell_type": "code",
   "execution_count": 66,
   "id": "59da0f1d",
   "metadata": {},
   "outputs": [
    {
     "data": {
      "text/plain": [
       "9"
      ]
     },
     "execution_count": 66,
     "metadata": {},
     "output_type": "execute_result"
    }
   ],
   "source": [
    "(lambda x:x*x)(3)"
   ]
  },
  {
   "cell_type": "code",
   "execution_count": 72,
   "id": "94a031b8",
   "metadata": {},
   "outputs": [
    {
     "ename": "KeyboardInterrupt",
     "evalue": "Interrupted by user",
     "output_type": "error",
     "traceback": [
      "\u001b[0;31m---------------------------------------------------------------------------\u001b[0m",
      "\u001b[0;31mKeyboardInterrupt\u001b[0m                         Traceback (most recent call last)",
      "Cell \u001b[0;32mIn[72], line 5\u001b[0m\n\u001b[1;32m      2\u001b[0m time\u001b[38;5;241m=\u001b[39m\u001b[38;5;241m7\u001b[39m\n\u001b[1;32m      4\u001b[0m \u001b[38;5;28;01mwhile\u001b[39;00m time\u001b[38;5;241m!=\u001b[39m\u001b[38;5;241m0\u001b[39m:\n\u001b[0;32m----> 5\u001b[0m     number\u001b[38;5;241m=\u001b[39m\u001b[38;5;28mint\u001b[39m(\u001b[38;5;28;43minput\u001b[39;49m\u001b[43m(\u001b[49m\u001b[38;5;124;43m'\u001b[39;49m\u001b[38;5;124;43minput the number\u001b[39;49m\u001b[38;5;124;43m'\u001b[39;49m\u001b[43m)\u001b[49m)\n\u001b[1;32m      6\u001b[0m     \u001b[38;5;28;01mif\u001b[39;00m number\u001b[38;5;241m>\u001b[39mn:\n\u001b[1;32m      7\u001b[0m         \u001b[38;5;28mprint\u001b[39m(\u001b[38;5;124m'\u001b[39m\u001b[38;5;124mtoo big\u001b[39m\u001b[38;5;124m'\u001b[39m)\n",
      "File \u001b[0;32m~/projects/jupyter/lib/python3.10/site-packages/ipykernel/kernelbase.py:1182\u001b[0m, in \u001b[0;36mKernel.raw_input\u001b[0;34m(self, prompt)\u001b[0m\n\u001b[1;32m   1180\u001b[0m     msg \u001b[38;5;241m=\u001b[39m \u001b[38;5;124m\"\u001b[39m\u001b[38;5;124mraw_input was called, but this frontend does not support input requests.\u001b[39m\u001b[38;5;124m\"\u001b[39m\n\u001b[1;32m   1181\u001b[0m     \u001b[38;5;28;01mraise\u001b[39;00m StdinNotImplementedError(msg)\n\u001b[0;32m-> 1182\u001b[0m \u001b[38;5;28;01mreturn\u001b[39;00m \u001b[38;5;28;43mself\u001b[39;49m\u001b[38;5;241;43m.\u001b[39;49m\u001b[43m_input_request\u001b[49m\u001b[43m(\u001b[49m\n\u001b[1;32m   1183\u001b[0m \u001b[43m    \u001b[49m\u001b[38;5;28;43mstr\u001b[39;49m\u001b[43m(\u001b[49m\u001b[43mprompt\u001b[49m\u001b[43m)\u001b[49m\u001b[43m,\u001b[49m\n\u001b[1;32m   1184\u001b[0m \u001b[43m    \u001b[49m\u001b[38;5;28;43mself\u001b[39;49m\u001b[38;5;241;43m.\u001b[39;49m\u001b[43m_parent_ident\u001b[49m\u001b[43m[\u001b[49m\u001b[38;5;124;43m\"\u001b[39;49m\u001b[38;5;124;43mshell\u001b[39;49m\u001b[38;5;124;43m\"\u001b[39;49m\u001b[43m]\u001b[49m\u001b[43m,\u001b[49m\n\u001b[1;32m   1185\u001b[0m \u001b[43m    \u001b[49m\u001b[38;5;28;43mself\u001b[39;49m\u001b[38;5;241;43m.\u001b[39;49m\u001b[43mget_parent\u001b[49m\u001b[43m(\u001b[49m\u001b[38;5;124;43m\"\u001b[39;49m\u001b[38;5;124;43mshell\u001b[39;49m\u001b[38;5;124;43m\"\u001b[39;49m\u001b[43m)\u001b[49m\u001b[43m,\u001b[49m\n\u001b[1;32m   1186\u001b[0m \u001b[43m    \u001b[49m\u001b[43mpassword\u001b[49m\u001b[38;5;241;43m=\u001b[39;49m\u001b[38;5;28;43;01mFalse\u001b[39;49;00m\u001b[43m,\u001b[49m\n\u001b[1;32m   1187\u001b[0m \u001b[43m\u001b[49m\u001b[43m)\u001b[49m\n",
      "File \u001b[0;32m~/projects/jupyter/lib/python3.10/site-packages/ipykernel/kernelbase.py:1225\u001b[0m, in \u001b[0;36mKernel._input_request\u001b[0;34m(self, prompt, ident, parent, password)\u001b[0m\n\u001b[1;32m   1222\u001b[0m \u001b[38;5;28;01mexcept\u001b[39;00m \u001b[38;5;167;01mKeyboardInterrupt\u001b[39;00m:\n\u001b[1;32m   1223\u001b[0m     \u001b[38;5;66;03m# re-raise KeyboardInterrupt, to truncate traceback\u001b[39;00m\n\u001b[1;32m   1224\u001b[0m     msg \u001b[38;5;241m=\u001b[39m \u001b[38;5;124m\"\u001b[39m\u001b[38;5;124mInterrupted by user\u001b[39m\u001b[38;5;124m\"\u001b[39m\n\u001b[0;32m-> 1225\u001b[0m     \u001b[38;5;28;01mraise\u001b[39;00m \u001b[38;5;167;01mKeyboardInterrupt\u001b[39;00m(msg) \u001b[38;5;28;01mfrom\u001b[39;00m \u001b[38;5;28mNone\u001b[39m\n\u001b[1;32m   1226\u001b[0m \u001b[38;5;28;01mexcept\u001b[39;00m \u001b[38;5;167;01mException\u001b[39;00m:\n\u001b[1;32m   1227\u001b[0m     \u001b[38;5;28mself\u001b[39m\u001b[38;5;241m.\u001b[39mlog\u001b[38;5;241m.\u001b[39mwarning(\u001b[38;5;124m\"\u001b[39m\u001b[38;5;124mInvalid Message:\u001b[39m\u001b[38;5;124m\"\u001b[39m, exc_info\u001b[38;5;241m=\u001b[39m\u001b[38;5;28;01mTrue\u001b[39;00m)\n",
      "\u001b[0;31mKeyboardInterrupt\u001b[0m: Interrupted by user"
     ]
    }
   ],
   "source": [
    "n=47\n",
    "time=7\n",
    "\n",
    "while time!=0:\n",
    "    number=int(input('input the number'))\n",
    "    if number>n:\n",
    "        print('too big')\n",
    "        time-=1\n",
    "        continue\n",
    "    elif number<n:\n",
    "        print('too small')\n",
    "        time-=1\n",
    "        continue\n",
    "    else:\n",
    "        print('bingo')"
   ]
  },
  {
   "cell_type": "code",
   "execution_count": 77,
   "id": "0450a40d",
   "metadata": {},
   "outputs": [
    {
     "data": {
      "text/plain": [
       "[2]"
      ]
     },
     "execution_count": 77,
     "metadata": {},
     "output_type": "execute_result"
    }
   ],
   "source": [
    "list=[1,3,4,5,6,4]\n",
    "\n",
    "l=[i for i in range(1, len(list)+1)]\n",
    "l2=[]\n",
    "for o in l:\n",
    "    if o in list:\n",
    "        continue\n",
    "    else:\n",
    "        l2.append(o)\n",
    "\n",
    "l2"
   ]
  },
  {
   "cell_type": "code",
   "execution_count": 83,
   "id": "af198ff7",
   "metadata": {},
   "outputs": [
    {
     "name": "stdout",
     "output_type": "stream",
     "text": [
      "True\n",
      "True\n",
      "False\n",
      "True\n",
      "True\n"
     ]
    }
   ],
   "source": [
    "s='hello'\n",
    "for i in range(len(s)):\n",
    "    if s[i] in s[i+1:]:\n",
    "        print('False')\n",
    "    else:\n",
    "        print('True')"
   ]
  },
  {
   "cell_type": "code",
   "execution_count": 89,
   "id": "a0341e96",
   "metadata": {},
   "outputs": [
    {
     "name": "stdout",
     "output_type": "stream",
     "text": [
      "aaa ggg\n",
      "AAA GGG\n"
     ]
    }
   ],
   "source": [
    "list=[]\n",
    "s=input()\n",
    "list.append(s.upper())\n",
    "for s1 in list:\n",
    "    print(s1)"
   ]
  },
  {
   "cell_type": "code",
   "execution_count": 94,
   "id": "fc6db188",
   "metadata": {},
   "outputs": [
    {
     "name": "stdout",
     "output_type": "stream",
     "text": [
      "a b v b\n",
      "a\n",
      "b\n",
      "b\n",
      "v\n"
     ]
    }
   ],
   "source": [
    "s=input()\n",
    "words=[word for word in s.split(' ')]\n",
    "sorted(words)\n",
    "for i in sorted(words):\n",
    "    print(''.join(i))"
   ]
  },
  {
   "cell_type": "code",
   "execution_count": 99,
   "id": "169da3f5",
   "metadata": {},
   "outputs": [
    {
     "name": "stdout",
     "output_type": "stream",
     "text": [
      "0\n",
      "7\n",
      "14\n",
      "21\n",
      "28\n",
      "35\n",
      "42\n",
      "49\n",
      "56\n",
      "63\n",
      "70\n",
      "77\n",
      "84\n",
      "91\n",
      "98\n"
     ]
    }
   ],
   "source": [
    "i = 0\n",
    "n=100\n",
    "while i <n:\n",
    "    if i %7==0:\n",
    "        print(i)\n",
    "    i+=1"
   ]
  },
  {
   "cell_type": "code",
   "execution_count": 101,
   "id": "c4b4e137",
   "metadata": {},
   "outputs": [
    {
     "name": "stdout",
     "output_type": "stream",
     "text": [
      "2\n",
      "4\n"
     ]
    }
   ],
   "source": [
    "li=[1,2,3,4,5]\n",
    "nums=filter(lambda x:x%2==0, li)\n",
    "for num in nums:\n",
    "    print(num)"
   ]
  },
  {
   "cell_type": "code",
   "execution_count": 103,
   "id": "7d0c2f22",
   "metadata": {},
   "outputs": [
    {
     "name": "stdout",
     "output_type": "stream",
     "text": [
      "1\n",
      "4\n",
      "9\n",
      "16\n",
      "25\n",
      "36\n",
      "49\n",
      "64\n",
      "81\n",
      "100\n",
      "121\n",
      "144\n",
      "169\n",
      "196\n",
      "225\n",
      "256\n",
      "289\n",
      "324\n",
      "361\n",
      "400\n"
     ]
    }
   ],
   "source": [
    "sq=map(lambda x:x**2, range(1,21))\n",
    "for s in sq:\n",
    "    print(s)"
   ]
  },
  {
   "cell_type": "code",
   "execution_count": 106,
   "id": "4bd65e58",
   "metadata": {},
   "outputs": [
    {
     "data": {
      "text/plain": [
       "20"
      ]
     },
     "execution_count": 106,
     "metadata": {},
     "output_type": "execute_result"
    }
   ],
   "source": [
    "class Rectangle(object):\n",
    "    def __init__(self, l, w):\n",
    "        self.l=l\n",
    "        self.w=w\n",
    "    def area(self):\n",
    "        return self.l*self.w\n",
    "    \n",
    "a=Rectangle(2,10)\n",
    "a.area()"
   ]
  },
  {
   "cell_type": "code",
   "execution_count": 114,
   "id": "39f28b0a",
   "metadata": {},
   "outputs": [
    {
     "data": {
      "text/plain": [
       "9"
      ]
     },
     "execution_count": 114,
     "metadata": {},
     "output_type": "execute_result"
    }
   ],
   "source": [
    "class Shape(object):\n",
    "    def __init__(self):\n",
    "        pass\n",
    "    def area(self):\n",
    "        return 0\n",
    "\n",
    "class Square(Shape):\n",
    "    def __init__(self, l):\n",
    "        super().__init__()\n",
    "        self.length=l\n",
    "    def area(self):\n",
    "        return self.length*self.length\n",
    "\n",
    "aSquare=Square(3)\n",
    "aSquare.area()"
   ]
  },
  {
   "cell_type": "code",
   "execution_count": 117,
   "id": "345dedce",
   "metadata": {},
   "outputs": [
    {
     "name": "stdout",
     "output_type": "stream",
     "text": [
      "Zero Error\n",
      "In finally\n"
     ]
    }
   ],
   "source": [
    "def throws():\n",
    "    return 5/0\n",
    "try:\n",
    "    throws()\n",
    "except ZeroDivisionError:\n",
    "    print('Zero Error')\n",
    "except ExceptError:\n",
    "    print('Caught an exception')\n",
    "finally:\n",
    "    print('In finally')"
   ]
  },
  {
   "cell_type": "code",
   "execution_count": 119,
   "id": "e9b49725",
   "metadata": {},
   "outputs": [
    {
     "data": {
      "text/plain": [
       "MemoryError('some error')"
      ]
     },
     "execution_count": 119,
     "metadata": {},
     "output_type": "execute_result"
    }
   ],
   "source": [
    "class MyError(Exception):\n",
    "    def __init__(self, msg):\n",
    "        self.msg=msg\n",
    "erro=MemoryError('some error')\n",
    "erro"
   ]
  },
  {
   "cell_type": "code",
   "execution_count": 123,
   "id": "257d62d5",
   "metadata": {},
   "outputs": [
    {
     "name": "stdout",
     "output_type": "stream",
     "text": [
      "ee@vv.com\n"
     ]
    },
    {
     "data": {
      "text/plain": [
       "'ee'"
      ]
     },
     "execution_count": 123,
     "metadata": {},
     "output_type": "execute_result"
    }
   ],
   "source": [
    "import re\n",
    "emailaddress=input()\n",
    "pat='(\\w+)@(\\w+\\.)+(com)'\n",
    "r=re.match(pat, emailaddress)\n",
    "r.group(1)"
   ]
  },
  {
   "cell_type": "code",
   "execution_count": 8,
   "id": "610ff299",
   "metadata": {},
   "outputs": [
    {
     "ename": "KeyboardInterrupt",
     "evalue": "Interrupted by user",
     "output_type": "error",
     "traceback": [
      "\u001b[0;31m---------------------------------------------------------------------------\u001b[0m",
      "\u001b[0;31mKeyboardInterrupt\u001b[0m                         Traceback (most recent call last)",
      "Cell \u001b[0;32mIn[8], line 7\u001b[0m\n\u001b[1;32m      5\u001b[0m             \u001b[38;5;28;01myield\u001b[39;00m i\n\u001b[1;32m      6\u001b[0m         i\u001b[38;5;241m+\u001b[39m\u001b[38;5;241m=\u001b[39m\u001b[38;5;241m1\u001b[39m\n\u001b[0;32m----> 7\u001b[0m n\u001b[38;5;241m=\u001b[39m\u001b[38;5;28mint\u001b[39m(\u001b[38;5;28;43minput\u001b[39;49m\u001b[43m(\u001b[49m\u001b[43m)\u001b[49m)\n\u001b[1;32m      8\u001b[0m \u001b[38;5;28mlist\u001b[39m\u001b[38;5;241m=\u001b[39m[]\n\u001b[1;32m      9\u001b[0m \u001b[38;5;28;01mfor\u001b[39;00m i \u001b[38;5;129;01min\u001b[39;00m generator(n):\n",
      "File \u001b[0;32m~/projects/jupyter/lib/python3.10/site-packages/ipykernel/kernelbase.py:1182\u001b[0m, in \u001b[0;36mKernel.raw_input\u001b[0;34m(self, prompt)\u001b[0m\n\u001b[1;32m   1180\u001b[0m     msg \u001b[38;5;241m=\u001b[39m \u001b[38;5;124m\"\u001b[39m\u001b[38;5;124mraw_input was called, but this frontend does not support input requests.\u001b[39m\u001b[38;5;124m\"\u001b[39m\n\u001b[1;32m   1181\u001b[0m     \u001b[38;5;28;01mraise\u001b[39;00m StdinNotImplementedError(msg)\n\u001b[0;32m-> 1182\u001b[0m \u001b[38;5;28;01mreturn\u001b[39;00m \u001b[38;5;28;43mself\u001b[39;49m\u001b[38;5;241;43m.\u001b[39;49m\u001b[43m_input_request\u001b[49m\u001b[43m(\u001b[49m\n\u001b[1;32m   1183\u001b[0m \u001b[43m    \u001b[49m\u001b[38;5;28;43mstr\u001b[39;49m\u001b[43m(\u001b[49m\u001b[43mprompt\u001b[49m\u001b[43m)\u001b[49m\u001b[43m,\u001b[49m\n\u001b[1;32m   1184\u001b[0m \u001b[43m    \u001b[49m\u001b[38;5;28;43mself\u001b[39;49m\u001b[38;5;241;43m.\u001b[39;49m\u001b[43m_parent_ident\u001b[49m\u001b[43m[\u001b[49m\u001b[38;5;124;43m\"\u001b[39;49m\u001b[38;5;124;43mshell\u001b[39;49m\u001b[38;5;124;43m\"\u001b[39;49m\u001b[43m]\u001b[49m\u001b[43m,\u001b[49m\n\u001b[1;32m   1185\u001b[0m \u001b[43m    \u001b[49m\u001b[38;5;28;43mself\u001b[39;49m\u001b[38;5;241;43m.\u001b[39;49m\u001b[43mget_parent\u001b[49m\u001b[43m(\u001b[49m\u001b[38;5;124;43m\"\u001b[39;49m\u001b[38;5;124;43mshell\u001b[39;49m\u001b[38;5;124;43m\"\u001b[39;49m\u001b[43m)\u001b[49m\u001b[43m,\u001b[49m\n\u001b[1;32m   1186\u001b[0m \u001b[43m    \u001b[49m\u001b[43mpassword\u001b[49m\u001b[38;5;241;43m=\u001b[39;49m\u001b[38;5;28;43;01mFalse\u001b[39;49;00m\u001b[43m,\u001b[49m\n\u001b[1;32m   1187\u001b[0m \u001b[43m\u001b[49m\u001b[43m)\u001b[49m\n",
      "File \u001b[0;32m~/projects/jupyter/lib/python3.10/site-packages/ipykernel/kernelbase.py:1225\u001b[0m, in \u001b[0;36mKernel._input_request\u001b[0;34m(self, prompt, ident, parent, password)\u001b[0m\n\u001b[1;32m   1222\u001b[0m \u001b[38;5;28;01mexcept\u001b[39;00m \u001b[38;5;167;01mKeyboardInterrupt\u001b[39;00m:\n\u001b[1;32m   1223\u001b[0m     \u001b[38;5;66;03m# re-raise KeyboardInterrupt, to truncate traceback\u001b[39;00m\n\u001b[1;32m   1224\u001b[0m     msg \u001b[38;5;241m=\u001b[39m \u001b[38;5;124m\"\u001b[39m\u001b[38;5;124mInterrupted by user\u001b[39m\u001b[38;5;124m\"\u001b[39m\n\u001b[0;32m-> 1225\u001b[0m     \u001b[38;5;28;01mraise\u001b[39;00m \u001b[38;5;167;01mKeyboardInterrupt\u001b[39;00m(msg) \u001b[38;5;28;01mfrom\u001b[39;00m \u001b[38;5;28mNone\u001b[39m\n\u001b[1;32m   1226\u001b[0m \u001b[38;5;28;01mexcept\u001b[39;00m \u001b[38;5;167;01mException\u001b[39;00m:\n\u001b[1;32m   1227\u001b[0m     \u001b[38;5;28mself\u001b[39m\u001b[38;5;241m.\u001b[39mlog\u001b[38;5;241m.\u001b[39mwarning(\u001b[38;5;124m\"\u001b[39m\u001b[38;5;124mInvalid Message:\u001b[39m\u001b[38;5;124m\"\u001b[39m, exc_info\u001b[38;5;241m=\u001b[39m\u001b[38;5;28;01mTrue\u001b[39;00m)\n",
      "\u001b[0;31mKeyboardInterrupt\u001b[0m: Interrupted by user"
     ]
    }
   ],
   "source": [
    "def generator(n):\n",
    "    i=0\n",
    "    while i<=n:\n",
    "        if i%2==0:\n",
    "            yield i\n",
    "        i+=1\n",
    "n=int(input())\n",
    "list=[]\n",
    "for i in generator(n):\n",
    "    list.append(str(i))\n",
    "','.join(list)"
   ]
  },
  {
   "cell_type": "code",
   "execution_count": 30,
   "id": "885b224d",
   "metadata": {},
   "outputs": [
    {
     "name": "stdout",
     "output_type": "stream",
     "text": [
      "inputS\n",
      "wrong type\n",
      "None\n"
     ]
    }
   ],
   "source": [
    "import random\n",
    "ans=random.randint(0,100)\n",
    "guess=input('input')\n",
    "\n",
    "def to_int(val):\n",
    "    try:\n",
    "        return int(val)\n",
    "    except:\n",
    "        print('wrong type')\n",
    "\n",
    "input_number = to_int(guess)\n",
    "print(input_number)\n",
    "#判斷型別\n",
    "# def is_number(guess):\n",
    "#     return type(guess) == int\n",
    "# print(is_number(guess))\n",
    "#無窮迴圈    \n",
    "    \n",
    "#判斷大小\n",
    "#while ans!=guess:\n",
    "#    guess"
   ]
  },
  {
   "cell_type": "code",
   "execution_count": 25,
   "id": "0fb8e216",
   "metadata": {},
   "outputs": [
    {
     "data": {
      "text/plain": [
       "True"
      ]
     },
     "execution_count": 25,
     "metadata": {},
     "output_type": "execute_result"
    }
   ],
   "source": [
    "type(1) == int"
   ]
  },
  {
   "cell_type": "code",
   "execution_count": null,
   "id": "a0beba18",
   "metadata": {},
   "outputs": [],
   "source": [
    "# Ans 30\n",
    "#猜數字 guess:先問0(MIN)-100(Max) 大於 小於 型別不對 =\n",
    "#guess=5 guess!=ans 判斷guess小於Ans，Min變成guess -100MAX以下\n",
    "#如果猜的比guess大於Ans，則把Max改為guess"
   ]
  },
  {
   "cell_type": "code",
   "execution_count": null,
   "id": "cbdc83d9",
   "metadata": {},
   "outputs": [],
   "source": [
    "#func1判斷型別，否則輸到正確\n",
    "#func2判斷是否為答案"
   ]
  },
  {
   "cell_type": "code",
   "execution_count": null,
   "id": "2d97a715",
   "metadata": {},
   "outputs": [],
   "source": [
    "import random\n",
    "ans=random.randint(0,100)\n",
    "guess=input('input')\n",
    "\n",
    "#func1\n",
    "def input_number():\n",
    "    return val // number\n",
    "\n",
    "_max = 100\n",
    "\n",
    "_min = 0\n",
    "\n",
    "ans = 65\n",
    "\n",
    "guess = input_number()\n",
    "\n",
    "ans === guess # ok\n",
    "\n",
    "# guess 5\n",
    "\n",
    "if guess < ans\n",
    "then _min = guess\n",
    "\n",
    "\n",
    "if guess > ans\n",
    "then _max= guess\n",
    "\n",
    "#_min=5，_max=100\n",
    "\n",
    "guess = input_number()\n",
    "\n",
    "\n",
    "\n",
    "\n"
   ]
  },
  {
   "cell_type": "code",
   "execution_count": 31,
   "id": "b8f9b3c1",
   "metadata": {},
   "outputs": [],
   "source": [
    "a = '1'\n"
   ]
  },
  {
   "cell_type": "code",
   "execution_count": 32,
   "id": "a509ee95",
   "metadata": {},
   "outputs": [
    {
     "data": {
      "text/plain": [
       "True"
      ]
     },
     "execution_count": 32,
     "metadata": {},
     "output_type": "execute_result"
    }
   ],
   "source": [
    "a.isnumeric()"
   ]
  },
  {
   "cell_type": "code",
   "execution_count": 84,
   "id": "6fe70a9e",
   "metadata": {},
   "outputs": [
    {
     "name": "stdout",
     "output_type": "stream",
     "text": [
      "input:\n",
      "38\n",
      "min: 38-max: 100\n",
      "input:\n",
      "60\n",
      "min: 60-max: 100\n",
      "input:\n",
      "80\n",
      "min: 60-max: 80\n",
      "input:\n",
      "70\n",
      "min: 60-max: 70\n",
      "input:\n",
      "65\n",
      "min: 60-max: 65\n",
      "input:\n",
      "63\n",
      "min: 60-max: 63\n",
      "input:\n",
      "61\n",
      "min: 61-max: 63\n",
      "input:\n",
      "62\n",
      "bingo, ans: 62\n"
     ]
    }
   ],
   "source": [
    "import random\n",
    "_min=0\n",
    "_max=100\n",
    "ans=random.randint(_min, _max)\n",
    "\n",
    "#func1\n",
    "def input_number(__max, __min):\n",
    "    guess=input('input:\\n')\n",
    "    if guess.isnumeric():\n",
    "        if int(guess) > __max or int(guess) < __min:\n",
    "            print(f'輸入數字不可超過{__min} - {__max}')\n",
    "            return input_number(__max, __min)\n",
    "        return int(guess)\n",
    "    else:\n",
    "        print('wrong type')\n",
    "        return input_number(__max, __min)\n",
    "\n",
    "guess  = input_number(_max, _min)\n",
    "\n",
    "while guess != ans:\n",
    "    if guess > ans:\n",
    "        _max = guess\n",
    "    else:\n",
    "        _min = guess\n",
    "    print(f'min: {_min}-max: {_max}')\n",
    "    guess  = input_number(_max, _min)\n",
    "\n",
    "print(f'bingo, ans: {ans}')"
   ]
  },
  {
   "cell_type": "code",
   "execution_count": null,
   "id": "8aad33a0",
   "metadata": {},
   "outputs": [],
   "source": [
    "#Ans: 3456\n",
    "#1A2B : 四位數不可重複:亂數sample取四個數字、取片、 字串方式(否則0會被吃掉)\n",
    "#猜1357 判斷3456"
   ]
  },
  {
   "cell_type": "code",
   "execution_count": 142,
   "id": "d90129b8",
   "metadata": {},
   "outputs": [
    {
     "name": "stdout",
     "output_type": "stream",
     "text": [
      "4837\n"
     ]
    }
   ],
   "source": [
    "import random\n",
    "#generator取出不放回\n",
    "\n",
    "def generator_ans():\n",
    "    data = [x for x in range(0, 10)]\n",
    "    guess=random.sample(data, 4)\n",
    "\n",
    "    #設置新答案\n",
    "    _ans = list(map(str,guess))\n",
    "    _ans = ''.join(ans)\n",
    "    return _ans\n",
    "\n",
    "ans = generator_ans()\n",
    "print(ans)\n",
    "array_ans=[i for i in ans]\n",
    "\n",
    "\n",
    "#輸入介面，四位數字，檢查數字、長度\n",
    "\n",
    "def input_number():\n",
    "    guess=input('input:\\n')\n",
    "    if guess.isnumeric() and len(guess) == 4:\n",
    "        return guess\n",
    "    else:\n",
    "        print('請輸入四位數字')\n",
    "        return input_number()\n",
    "\n",
    "\n",
    "def guess_a(_array_ans, _array_g):\n",
    "    _a=0\n",
    "    _array_a=[]\n",
    "\n",
    "    #判斷A\n",
    "    for index in range(0,4):\n",
    "        if _array_ans[index] == _array_g[index]:\n",
    "            _a+=1\n",
    "            _array_a.append(_array_ans[index])\n",
    "    return _a, _array_a\n",
    "\n",
    "\n",
    "def guess_b(_array_a, _array_g):\n",
    "    _b = 0\n",
    "    for g in _array_g:\n",
    "        if g in array_ans and (g not in _array_a):\n",
    "            _b += 1\n",
    "    return _b\n"
   ]
  },
  {
   "cell_type": "code",
   "execution_count": 143,
   "id": "c60e7b6f",
   "metadata": {},
   "outputs": [
    {
     "name": "stdout",
     "output_type": "stream",
     "text": [
      "input:\n",
      "3847\n",
      "你猜的數字為3847, 2A 2B\n",
      "input:\n",
      "vcb\n",
      "請輸入四位數字\n",
      "input:\n",
      "0987\n",
      "你猜的數字為0987, 1A 1B\n",
      "input:\n",
      "4837\n",
      "你猜的數字為4837, 4A 0B\n",
      "bingo, ans: 4837\n"
     ]
    }
   ],
   "source": [
    "while True:\n",
    "    guess = input_number()\n",
    "    array_g = [i for i in guess]\n",
    "    a, array_a = guess_a(array_ans, array_g)\n",
    "    b = guess_b(array_a, array_g)\n",
    "    print(f'你猜的數字為{guess}, {a}A {b}B')\n",
    "    \n",
    "    if a == 4:\n",
    "        print(f'bingo, ans: {ans}')\n",
    "        break"
   ]
  },
  {
   "cell_type": "code",
   "execution_count": null,
   "id": "503be792",
   "metadata": {},
   "outputs": [],
   "source": [
    "ans"
   ]
  },
  {
   "cell_type": "code",
   "execution_count": null,
   "id": "ea499273",
   "metadata": {},
   "outputs": [],
   "source": []
  },
  {
   "cell_type": "code",
   "execution_count": 25,
   "id": "d5a07be7",
   "metadata": {},
   "outputs": [
    {
     "name": "stdout",
     "output_type": "stream",
     "text": [
      "input: 40\n",
      "40-100\n",
      "input: 60\n",
      "60-100\n",
      "input: 80\n",
      "60-80\n",
      "input: 99\n",
      "範圍不可以超過60-80\n",
      "input: 70\n",
      "70-80\n",
      "input: 76\n",
      "70-76\n",
      "input: 74\n",
      "70-74\n",
      "input: 72\n",
      "70-72\n",
      "input: 71\n",
      "bingo\n"
     ]
    }
   ],
   "source": [
    "#再次練習:\n",
    "#終極密碼遊戲\n",
    "#fun1判斷輸入的正確性 輸入文字就返回\n",
    "import random\n",
    "\n",
    "_min = 0\n",
    "_max = 100\n",
    "\n",
    "ans = random.randint(_min, _max)\n",
    "ans\n",
    "\n",
    "def input_number():\n",
    "    _input = input('input: ')\n",
    "    if _input.isnumeric():\n",
    "        if int(_input) > _max or int(_input) < _min:\n",
    "            print(f'範圍不可以超過{_min}-{_max}')\n",
    "            return input_number()\n",
    "        return int(_input)\n",
    "    else:\n",
    "        print('error type')\n",
    "        return input_number()\n",
    "        \n",
    "guess = input_number()\n",
    "\n",
    "#ans = 60\n",
    "#進入判斷 如果guess>ans 就改成_max=guess\n",
    "#guess<ans _min=guess\n",
    "while guess != ans:\n",
    "    if guess > ans:\n",
    "        _max = guess\n",
    "    else:\n",
    "        _min = guess\n",
    "    print(f'{_min}-{_max}')\n",
    "    guess = input_number()\n",
    "print('bingo')"
   ]
  },
  {
   "cell_type": "code",
   "execution_count": null,
   "id": "c09c8edc",
   "metadata": {},
   "outputs": [
    {
     "name": "stdout",
     "output_type": "stream",
     "text": [
      "['7', '9', '3', '1']\n",
      "input: 8901\n",
      "你猜的數字為8901, 2A 0B\n"
     ]
    }
   ],
   "source": [
    "#再次練習 1A2B\n",
    "#輸入數字 四位數字\n",
    "import random\n",
    "\n",
    "#設置密碼\n",
    "def generator_ans():\n",
    "    _ans = random.sample(range(0, 10), 4)\n",
    "    _ans = list(map(str, _ans))\n",
    "    _ans = ''.join(_ans)\n",
    "    return _ans\n",
    "\n",
    "def input_number():\n",
    "    _input = input('input: ')\n",
    "    if _input.isnumeric() and len(_input) == 4:\n",
    "        return _input\n",
    "    else:\n",
    "        print('error type')\n",
    "        return input_number()\n",
    "\n",
    "ans = generator_ans()\n",
    "ans_array = [i for i in ans]\n",
    "print(ans_array)\n",
    "\n",
    "#判斷A的位置 index位置一樣\n",
    "def guess_a(_ans_array, _guess_array):\n",
    "    _a = 0 \n",
    "    _a_array = []\n",
    "    for index in range(0, 4):\n",
    "        if _ans_array[index] == _guess_array[index]:\n",
    "            _a += 1\n",
    "            _a_array.append(_ans_array[index])\n",
    "    return _a, _a_array\n",
    "\n",
    "\n",
    "#判斷B的位置 guess陣列元素是否有在ans陣列中\n",
    "def guess_b(_a_array, _guess_array):\n",
    "    _b = 0\n",
    "    for g in _guess_array:\n",
    "        if g in ans_array and (g not in _a_array):\n",
    "            _b +=1\n",
    "    return _b\n",
    "\n",
    "while True:\n",
    "    guess = input_number()\n",
    "    guess_array = [i for i in guess]\n",
    "    a, a_array = guess_a(ans_array, guess_array)\n",
    "    b = guess_b(a_array, guess_array)\n",
    "    print(f'你猜的數字為{guess}, {a}A {b}B')\n",
    "    \n",
    "    if a == 4:\n",
    "        print(f'bingo, ans: {ans}')\n",
    "        break"
   ]
  },
  {
   "cell_type": "code",
   "execution_count": 36,
   "id": "c983163e",
   "metadata": {},
   "outputs": [
    {
     "data": {
      "text/plain": [
       "[1, 6, 9, 5]"
      ]
     },
     "execution_count": 36,
     "metadata": {},
     "output_type": "execute_result"
    }
   ],
   "source": [
    "random.sample(range(0, 10), 4)"
   ]
  },
  {
   "cell_type": "code",
   "execution_count": null,
   "id": "31e7e4b9",
   "metadata": {},
   "outputs": [],
   "source": [
    "#猜python的字\n",
    "import random, string\n",
    "\n",
    "#generator取出不放回\n",
    "def generator_ans():\n"
   ]
  },
  {
   "cell_type": "code",
   "execution_count": null,
   "id": "e1abff13",
   "metadata": {},
   "outputs": [],
   "source": []
  },
  {
   "cell_type": "code",
   "execution_count": null,
   "id": "e2e2b6cb",
   "metadata": {},
   "outputs": [],
   "source": []
  },
  {
   "cell_type": "code",
   "execution_count": null,
   "id": "c0b2773f",
   "metadata": {},
   "outputs": [],
   "source": []
  },
  {
   "cell_type": "code",
   "execution_count": null,
   "id": "15b5fd10",
   "metadata": {},
   "outputs": [],
   "source": []
  },
  {
   "cell_type": "code",
   "execution_count": null,
   "id": "07b3f7a6",
   "metadata": {},
   "outputs": [],
   "source": []
  },
  {
   "cell_type": "code",
   "execution_count": null,
   "id": "25b6b005",
   "metadata": {},
   "outputs": [],
   "source": []
  },
  {
   "cell_type": "code",
   "execution_count": null,
   "id": "ec9dec9b",
   "metadata": {},
   "outputs": [],
   "source": []
  },
  {
   "cell_type": "code",
   "execution_count": null,
   "id": "31c90b5f",
   "metadata": {},
   "outputs": [],
   "source": []
  }
 ],
 "metadata": {
  "kernelspec": {
   "display_name": "Python 3 (ipykernel)",
   "language": "python",
   "name": "python3"
  },
  "language_info": {
   "codemirror_mode": {
    "name": "ipython",
    "version": 3
   },
   "file_extension": ".py",
   "mimetype": "text/x-python",
   "name": "python",
   "nbconvert_exporter": "python",
   "pygments_lexer": "ipython3",
   "version": "3.10.12"
  }
 },
 "nbformat": 4,
 "nbformat_minor": 5
}
